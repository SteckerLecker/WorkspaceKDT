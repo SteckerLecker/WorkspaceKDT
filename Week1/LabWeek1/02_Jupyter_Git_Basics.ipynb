{
 "cells": [
  {
   "cell_type": "markdown",
   "metadata": {},
   "source": [
    "# Jupyter Notebooks and Git Version Control\n",
    "\n",
    "## Learning Objectives\n",
    "- Master Jupyter notebook features and shortcuts\n",
    "- Understand Git version control basics\n",
    "- Learn best practices for managing ML projects\n",
    "- Practice collaborative development workflows"
   ]
  },
  {
   "cell_type": "markdown",
   "metadata": {},
   "source": [
    "## Part 1: Jupyter Notebook Mastery\n",
    "\n",
    "### 1.1 Jupyter Basics"
   ]
  },
  {
   "cell_type": "code",
   "execution_count": null,
   "metadata": {},
   "outputs": [],
   "source": [
    "# This is a code cell\n",
    "# Press Shift+Enter to run it and move to the next cell\n",
    "# Press Ctrl+Enter to run it and stay in the same cell\n",
    "\n",
    "print(\"Welcome to Jupyter!\")\n",
    "print(\"Current Python version:\")\n",
    "import sys\n",
    "print(sys.version)"
   ]
  },
  {
   "cell_type": "markdown",
   "metadata": {},
   "source": [
    "### 1.2 Cell Types\n",
    "\n",
    "Jupyter has two main cell types:\n",
    "- **Code cells**: Execute Python code\n",
    "- **Markdown cells**: Documentation with formatting\n",
    "\n",
    "Press `Esc` to enter command mode, then:\n",
    "- `M` to convert to Markdown\n",
    "- `Y` to convert to Code\n",
    "- `A` to insert cell above\n",
    "- `B` to insert cell below\n",
    "- `DD` to delete cell"
   ]
  },
  {
   "cell_type": "markdown",
   "metadata": {},
   "source": [
    "### 1.3 Markdown Formatting\n",
    "\n",
    "# Header 1\n",
    "## Header 2\n",
    "### Header 3\n",
    "\n",
    "**Bold text** and *italic text*\n",
    "\n",
    "Lists:\n",
    "- Item 1\n",
    "- Item 2\n",
    "  - Subitem 2.1\n",
    "  - Subitem 2.2\n",
    "\n",
    "Numbered lists:\n",
    "1. First\n",
    "2. Second\n",
    "3. Third\n",
    "\n",
    "Code formatting: `inline code` or\n",
    "\n",
    "```python\n",
    "def hello():\n",
    "    print(\"Hello, World!\")\n",
    "```\n",
    "\n",
    "Mathematical equations: $y = mx + b$ or\n",
    "\n",
    "$$E = mc^2$$\n",
    "\n",
    "[Links](https://jupyter.org) and images:\n",
    "\n",
    "Tables:\n",
    "\n",
    "| Column 1 | Column 2 | Column 3 |\n",
    "|----------|----------|----------|\n",
    "| Data 1   | Data 2   | Data 3   |\n",
    "| Data 4   | Data 5   | Data 6   |"
   ]
  },
  {
   "cell_type": "markdown",
   "metadata": {},
   "source": [
    "### 1.4 Magic Commands\n",
    "\n",
    "Jupyter provides special commands prefixed with `%` (line magic) or `%%` (cell magic)."
   ]
  },
  {
   "cell_type": "code",
   "execution_count": null,
   "metadata": {},
   "outputs": [],
   "source": [
    "# Time execution\n",
    "%time sum(range(1000000))"
   ]
  },
  {
   "cell_type": "code",
   "execution_count": null,
   "metadata": {},
   "outputs": [],
   "source": [
    "# Time multiple runs for better accuracy\n",
    "%timeit sum(range(1000))"
   ]
  },
  {
   "cell_type": "code",
   "execution_count": null,
   "metadata": {},
   "outputs": [],
   "source": [
    "# List all variables\n",
    "a = 10\n",
    "b = \"hello\"\n",
    "c = [1, 2, 3]\n",
    "\n",
    "%whos"
   ]
  },
  {
   "cell_type": "code",
   "execution_count": null,
   "metadata": {},
   "outputs": [],
   "source": [
    "# Write cell content to file\n",
    "%%writefile example_script.py\n",
    "def greet(name):\n",
    "    return f\"Hello, {name}!\"\n",
    "\n",
    "if __name__ == \"__main__\":\n",
    "    print(greet(\"Student\"))"
   ]
  },
  {
   "cell_type": "code",
   "execution_count": null,
   "metadata": {},
   "outputs": [],
   "source": [
    "# Run external Python script\n",
    "%run example_script.py"
   ]
  },
  {
   "cell_type": "code",
   "execution_count": null,
   "metadata": {},
   "outputs": [],
   "source": [
    "# Display matplotlib plots inline\n",
    "%matplotlib inline\n",
    "import matplotlib.pyplot as plt\n",
    "import numpy as np\n",
    "\n",
    "x = np.linspace(0, 2*np.pi, 100)\n",
    "plt.plot(x, np.sin(x))\n",
    "plt.title(\"Sine Wave\")\n",
    "plt.show()"
   ]
  },
  {
   "cell_type": "markdown",
   "metadata": {},
   "source": [
    "### 1.5 Shell Commands\n",
    "\n",
    "You can run shell commands directly in Jupyter using `!`"
   ]
  },
  {
   "cell_type": "code",
   "execution_count": null,
   "metadata": {},
   "outputs": [],
   "source": [
    "# List files in current directory\n",
    "!ls -la"
   ]
  },
  {
   "cell_type": "code",
   "execution_count": null,
   "metadata": {},
   "outputs": [],
   "source": [
    "# Check Python packages\n",
    "!pip list | grep numpy"
   ]
  },
  {
   "cell_type": "code",
   "execution_count": null,
   "metadata": {},
   "outputs": [],
   "source": [
    "# Current working directory\n",
    "!pwd"
   ]
  },
  {
   "cell_type": "markdown",
   "metadata": {},
   "source": [
    "### 1.6 Interactive Widgets\n",
    "\n",
    "Jupyter supports interactive widgets for dynamic visualizations."
   ]
  },
  {
   "cell_type": "code",
   "execution_count": null,
   "metadata": {},
   "outputs": [],
   "source": [
    "# Install ipywidgets if not already installed\n",
    "# !pip install ipywidgets\n",
    "\n",
    "from ipywidgets import interact, interactive, fixed\n",
    "import ipywidgets as widgets\n",
    "\n",
    "def plot_sine(frequency=1.0, amplitude=1.0, phase=0.0):\n",
    "    x = np.linspace(0, 2*np.pi, 1000)\n",
    "    y = amplitude * np.sin(frequency * x + phase)\n",
    "    \n",
    "    plt.figure(figsize=(10, 4))\n",
    "    plt.plot(x, y)\n",
    "    plt.title(f\"y = {amplitude:.1f} * sin({frequency:.1f}x + {phase:.1f})\")\n",
    "    plt.xlabel(\"x\")\n",
    "    plt.ylabel(\"y\")\n",
    "    plt.grid(True, alpha=0.3)\n",
    "    plt.ylim(-3, 3)\n",
    "    plt.show()\n",
    "\n",
    "# Create interactive plot\n",
    "interact(plot_sine, \n",
    "         frequency=(0.5, 3.0, 0.1),\n",
    "         amplitude=(0.5, 2.0, 0.1),\n",
    "         phase=(0.0, 2*np.pi, 0.1));"
   ]
  },
  {
   "cell_type": "markdown",
   "metadata": {},
   "source": [
    "### 1.7 Useful Keyboard Shortcuts\n",
    "\n",
    "#### Command Mode (press Esc)\n",
    "- `Enter`: Enter edit mode\n",
    "- `A`: Insert cell above\n",
    "- `B`: Insert cell below\n",
    "- `M`: Change to Markdown\n",
    "- `Y`: Change to Code\n",
    "- `DD`: Delete cell\n",
    "- `Z`: Undo cell deletion\n",
    "- `Shift+J/K`: Select multiple cells\n",
    "- `Shift+M`: Merge selected cells\n",
    "\n",
    "#### Edit Mode (press Enter)\n",
    "- `Shift+Enter`: Run cell, move to next\n",
    "- `Ctrl+Enter`: Run cell, stay in cell\n",
    "- `Alt+Enter`: Run cell, insert new below\n",
    "- `Tab`: Code completion\n",
    "- `Shift+Tab`: Show documentation\n",
    "- `Ctrl+]`: Indent\n",
    "- `Ctrl+[`: Dedent\n",
    "- `Ctrl+A`: Select all\n",
    "- `Ctrl+Z`: Undo"
   ]
  },
  {
   "cell_type": "markdown",
   "metadata": {},
   "source": [
    "### Exercise 1: Jupyter Practice\n",
    "\n",
    "Complete the following tasks:"
   ]
  },
  {
   "cell_type": "code",
   "execution_count": null,
   "metadata": {},
   "outputs": [],
   "source": [
    "# Task 1: Use tab completion to explore numpy functions\n",
    "# Type: np. and press Tab\n",
    "import numpy as np\n",
    "# np.<press Tab here>"
   ]
  },
  {
   "cell_type": "code",
   "execution_count": null,
   "metadata": {},
   "outputs": [],
   "source": [
    "# Task 2: Get help on a function using ?\n",
    "# Uncomment and run:\n",
    "# np.random.randn?"
   ]
  },
  {
   "cell_type": "code",
   "execution_count": null,
   "metadata": {},
   "outputs": [],
   "source": [
    "# Task 3: Time the difference between list and numpy operations\n",
    "import numpy as np\n",
    "\n",
    "# Create data\n",
    "list_data = list(range(1000000))\n",
    "array_data = np.arange(1000000)\n",
    "\n",
    "# Time list operation\n",
    "print(\"List operation:\")\n",
    "%time list_sum = sum([x**2 for x in list_data])\n",
    "\n",
    "# Time numpy operation\n",
    "print(\"\\nNumpy operation:\")\n",
    "%time array_sum = np.sum(array_data**2)\n",
    "\n",
    "print(f\"\\nNumpy is faster!\")"
   ]
  },
  {
   "cell_type": "markdown",
   "metadata": {},
   "source": [
    "## Part 2: Git Version Control\n",
    "\n",
    "### 2.1 Git Basics\n",
    "\n",
    "Git is a distributed version control system essential for:\n",
    "- Tracking changes\n",
    "- Collaboration\n",
    "- Experimentation\n",
    "- Backup"
   ]
  },
  {
   "cell_type": "markdown",
   "metadata": {},
   "source": [
    "### 2.2 Git Configuration"
   ]
  },
  {
   "cell_type": "code",
   "execution_count": null,
   "metadata": {},
   "outputs": [],
   "source": [
    "# Check if Git is installed\n",
    "!git --version"
   ]
  },
  {
   "cell_type": "code",
   "execution_count": null,
   "metadata": {},
   "outputs": [],
   "source": [
    "# Configure Git (replace with your information)\n",
    "# !git config --global user.name \"Your Name\"\n",
    "# !git config --global user.email \"your.email@example.com\"\n",
    "\n",
    "# Check configuration\n",
    "!git config --list | grep user"
   ]
  },
  {
   "cell_type": "markdown",
   "metadata": {},
   "source": [
    "### 2.3 Basic Git Workflow\n",
    "\n",
    "Let's create a sample project to practice Git commands."
   ]
  },
  {
   "cell_type": "code",
   "execution_count": null,
   "metadata": {},
   "outputs": [],
   "source": [
    "# Create a sample project directory\n",
    "!mkdir -p ml_project\n",
    "!cd ml_project && git init\n",
    "print(\"Git repository initialized!\")"
   ]
  },
  {
   "cell_type": "code",
   "execution_count": null,
   "metadata": {},
   "outputs": [],
   "source": [
    "%%writefile ml_project/model.py\n",
    "\"\"\"Simple ML model for demonstration\"\"\"\n",
    "\n",
    "import numpy as np\n",
    "\n",
    "class SimpleModel:\n",
    "    def __init__(self):\n",
    "        self.weights = None\n",
    "    \n",
    "    def fit(self, X, y):\n",
    "        \"\"\"Fit the model to data\"\"\"\n",
    "        # Simple linear regression using normal equation\n",
    "        X_with_bias = np.c_[np.ones(X.shape[0]), X]\n",
    "        self.weights = np.linalg.inv(X_with_bias.T @ X_with_bias) @ X_with_bias.T @ y\n",
    "        return self\n",
    "    \n",
    "    def predict(self, X):\n",
    "        \"\"\"Make predictions\"\"\"\n",
    "        X_with_bias = np.c_[np.ones(X.shape[0]), X]\n",
    "        return X_with_bias @ self.weights"
   ]
  },
  {
   "cell_type": "code",
   "execution_count": null,
   "metadata": {},
   "outputs": [],
   "source": [
    "%%writefile ml_project/README.md\n",
    "# ML Project\n",
    "\n",
    "A simple machine learning project for demonstration.\n",
    "\n",
    "## Features\n",
    "- Simple linear regression model\n",
    "- Data preprocessing utilities\n",
    "- Visualization tools\n",
    "\n",
    "## Installation\n",
    "```bash\n",
    "pip install numpy matplotlib scikit-learn\n",
    "```\n",
    "\n",
    "## Usage\n",
    "```python\n",
    "from model import SimpleModel\n",
    "\n",
    "model = SimpleModel()\n",
    "model.fit(X_train, y_train)\n",
    "predictions = model.predict(X_test)\n",
    "```"
   ]
  },
  {
   "cell_type": "code",
   "execution_count": null,
   "metadata": {},
   "outputs": [],
   "source": [
    "%%writefile ml_project/.gitignore\n",
    "# Python\n",
    "__pycache__/\n",
    "*.py[cod]\n",
    "*$py.class\n",
    "*.so\n",
    ".Python\n",
    "env/\n",
    "venv/\n",
    "\n",
    "# Jupyter\n",
    ".ipynb_checkpoints/\n",
    "*.ipynb_checkpoints\n",
    "\n",
    "# Data\n",
    "data/\n",
    "*.csv\n",
    "*.json\n",
    "*.h5\n",
    "\n",
    "# Models\n",
    "models/\n",
    "*.pkl\n",
    "*.joblib\n",
    "*.h5\n",
    "*.pt\n",
    "\n",
    "# IDE\n",
    ".vscode/\n",
    ".idea/\n",
    "*.swp\n",
    "*.swo\n",
    "\n",
    "# OS\n",
    ".DS_Store\n",
    "Thumbs.db"
   ]
  },
  {
   "cell_type": "markdown",
   "metadata": {},
   "source": [
    "### 2.4 Git Commands in Action"
   ]
  },
  {
   "cell_type": "code",
   "execution_count": null,
   "metadata": {},
   "outputs": [],
   "source": [
    "# Check status\n",
    "!cd ml_project && git status"
   ]
  },
  {
   "cell_type": "code",
   "execution_count": null,
   "metadata": {},
   "outputs": [],
   "source": [
    "# Add files to staging area\n",
    "!cd ml_project && git add .\n",
    "!cd ml_project && git status"
   ]
  },
  {
   "cell_type": "code",
   "execution_count": null,
   "metadata": {},
   "outputs": [],
   "source": [
    "# Commit changes\n",
    "!cd ml_project && git commit -m \"Initial commit: Add model, README, and .gitignore\""
   ]
  },
  {
   "cell_type": "code",
   "execution_count": null,
   "metadata": {},
   "outputs": [],
   "source": [
    "# View commit history\n",
    "!cd ml_project && git log --oneline"
   ]
  },
  {
   "cell_type": "code",
   "execution_count": null,
   "metadata": {},
   "outputs": [],
   "source": [
    "# Make changes to the model\n",
    "%%writefile ml_project/utils.py\n",
    "\"\"\"Utility functions for data processing\"\"\"\n",
    "\n",
    "import numpy as np\n",
    "from sklearn.preprocessing import StandardScaler\n",
    "\n",
    "def preprocess_data(X, y=None):\n",
    "    \"\"\"Preprocess input data\"\"\"\n",
    "    scaler = StandardScaler()\n",
    "    X_scaled = scaler.fit_transform(X)\n",
    "    \n",
    "    if y is not None:\n",
    "        return X_scaled, y\n",
    "    return X_scaled\n",
    "\n",
    "def split_data(X, y, test_size=0.2, random_state=42):\n",
    "    \"\"\"Split data into train and test sets\"\"\"\n",
    "    np.random.seed(random_state)\n",
    "    n_samples = len(X)\n",
    "    n_test = int(n_samples * test_size)\n",
    "    \n",
    "    indices = np.random.permutation(n_samples)\n",
    "    test_idx, train_idx = indices[:n_test], indices[n_test:]\n",
    "    \n",
    "    return X[train_idx], X[test_idx], y[train_idx], y[test_idx]"
   ]
  },
  {
   "cell_type": "code",
   "execution_count": null,
   "metadata": {},
   "outputs": [],
   "source": [
    "# Check what changed\n",
    "!cd ml_project && git status\n",
    "!cd ml_project && git diff"
   ]
  },
  {
   "cell_type": "code",
   "execution_count": null,
   "metadata": {},
   "outputs": [],
   "source": [
    "# Stage and commit new changes\n",
    "!cd ml_project && git add utils.py\n",
    "!cd ml_project && git commit -m \"Add utility functions for data processing\""
   ]
  },
  {
   "cell_type": "markdown",
   "metadata": {},
   "source": [
    "### 2.5 Branching and Merging"
   ]
  },
  {
   "cell_type": "code",
   "execution_count": null,
   "metadata": {},
   "outputs": [],
   "source": [
    "# Create and switch to new branch\n",
    "!cd ml_project && git checkout -b feature/add-visualization"
   ]
  },
  {
   "cell_type": "code",
   "execution_count": null,
   "metadata": {},
   "outputs": [],
   "source": [
    "%%writefile ml_project/visualize.py\n",
    "\"\"\"Visualization utilities for ML projects\"\"\"\n",
    "\n",
    "import matplotlib.pyplot as plt\n",
    "import numpy as np\n",
    "\n",
    "def plot_predictions(y_true, y_pred, title=\"Predictions vs Actual\"):\n",
    "    \"\"\"Plot predictions against actual values\"\"\"\n",
    "    plt.figure(figsize=(10, 6))\n",
    "    \n",
    "    plt.subplot(1, 2, 1)\n",
    "    plt.scatter(y_true, y_pred, alpha=0.5)\n",
    "    plt.plot([y_true.min(), y_true.max()], \n",
    "             [y_true.min(), y_true.max()], \n",
    "             'r--', lw=2)\n",
    "    plt.xlabel('Actual')\n",
    "    plt.ylabel('Predicted')\n",
    "    plt.title(title)\n",
    "    \n",
    "    plt.subplot(1, 2, 2)\n",
    "    residuals = y_true - y_pred\n",
    "    plt.hist(residuals, bins=30, edgecolor='black')\n",
    "    plt.xlabel('Residuals')\n",
    "    plt.ylabel('Frequency')\n",
    "    plt.title('Residual Distribution')\n",
    "    \n",
    "    plt.tight_layout()\n",
    "    plt.show()\n",
    "\n",
    "def plot_learning_curve(train_scores, val_scores):\n",
    "    \"\"\"Plot learning curves\"\"\"\n",
    "    plt.figure(figsize=(10, 6))\n",
    "    plt.plot(train_scores, label='Training Score')\n",
    "    plt.plot(val_scores, label='Validation Score')\n",
    "    plt.xlabel('Epoch')\n",
    "    plt.ylabel('Score')\n",
    "    plt.title('Learning Curves')\n",
    "    plt.legend()\n",
    "    plt.grid(True, alpha=0.3)\n",
    "    plt.show()"
   ]
  },
  {
   "cell_type": "code",
   "execution_count": null,
   "metadata": {},
   "outputs": [],
   "source": [
    "# Commit changes on feature branch\n",
    "!cd ml_project && git add visualize.py\n",
    "!cd ml_project && git commit -m \"Add visualization utilities\""
   ]
  },
  {
   "cell_type": "code",
   "execution_count": null,
   "metadata": {},
   "outputs": [],
   "source": [
    "# Switch back to main branch\n",
    "!cd ml_project && git checkout main\n",
    "\n",
    "# Merge feature branch\n",
    "!cd ml_project && git merge feature/add-visualization"
   ]
  },
  {
   "cell_type": "code",
   "execution_count": null,
   "metadata": {},
   "outputs": [],
   "source": [
    "# View branch history\n",
    "!cd ml_project && git log --oneline --graph --all"
   ]
  },
  {
   "cell_type": "markdown",
   "metadata": {},
   "source": [
    "### 2.6 Common Git Commands Reference\n",
    "\n",
    "```bash\n",
    "# Repository Setup\n",
    "git init                    # Initialize new repository\n",
    "git clone <url>            # Clone remote repository\n",
    "\n",
    "# Basic Workflow\n",
    "git status                 # Check status\n",
    "git add <file>            # Stage file\n",
    "git add .                 # Stage all files\n",
    "git commit -m \"message\"   # Commit changes\n",
    "git push                  # Push to remote\n",
    "git pull                  # Pull from remote\n",
    "\n",
    "# Branching\n",
    "git branch                # List branches\n",
    "git branch <name>         # Create branch\n",
    "git checkout <name>       # Switch branch\n",
    "git checkout -b <name>    # Create and switch\n",
    "git merge <branch>        # Merge branch\n",
    "git branch -d <name>      # Delete branch\n",
    "\n",
    "# History\n",
    "git log                   # View history\n",
    "git log --oneline        # Compact view\n",
    "git diff                  # Show changes\n",
    "git diff <file>          # Show file changes\n",
    "\n",
    "# Undoing Changes\n",
    "git restore <file>        # Discard changes\n",
    "git reset HEAD~1         # Undo last commit\n",
    "git revert <commit>      # Revert commit\n",
    "\n",
    "# Remote Repositories\n",
    "git remote add origin <url>  # Add remote\n",
    "git remote -v                # List remotes\n",
    "git push -u origin main      # Push and set upstream\n",
    "git fetch                    # Fetch updates\n",
    "```"
   ]
  },
  {
   "cell_type": "markdown",
   "metadata": {},
   "source": [
    "### 2.7 Best Practices for ML Projects\n",
    "\n",
    "#### Directory Structure\n",
    "```\n",
    "ml_project/\n",
    "├── data/\n",
    "│   ├── raw/\n",
    "│   ├── processed/\n",
    "│   └── external/\n",
    "├── notebooks/\n",
    "│   ├── exploration/\n",
    "│   └── experiments/\n",
    "├── src/\n",
    "│   ├── models/\n",
    "│   ├── features/\n",
    "│   └── utils/\n",
    "├── tests/\n",
    "├── models/\n",
    "│   └── saved_models/\n",
    "├── reports/\n",
    "│   └── figures/\n",
    "├── requirements.txt\n",
    "├── setup.py\n",
    "├── README.md\n",
    "└── .gitignore\n",
    "```\n",
    "\n",
    "#### Version Control Tips\n",
    "1. **Don't commit large files**: Use .gitignore for data, models\n",
    "2. **Use meaningful commit messages**: Describe what and why\n",
    "3. **Commit often**: Small, logical changes\n",
    "4. **Branch for features**: Keep main branch stable\n",
    "5. **Document everything**: README, docstrings, comments"
   ]
  },
  {
   "cell_type": "markdown",
   "metadata": {},
   "source": [
    "### Exercise 2: Git Practice\n",
    "\n",
    "Complete the following Git workflow:"
   ]
  },
  {
   "cell_type": "code",
   "execution_count": null,
   "metadata": {},
   "outputs": [],
   "source": [
    "# Task 1: Create a new branch for a feature\n",
    "# !cd ml_project && git checkout -b feature/your-feature-name"
   ]
  },
  {
   "cell_type": "code",
   "execution_count": null,
   "metadata": {},
   "outputs": [],
   "source": [
    "# Task 2: Create a new file\n",
    "%%writefile ml_project/config.py\n",
    "\"\"\"Configuration settings for ML project\"\"\"\n",
    "\n",
    "# Model parameters\n",
    "LEARNING_RATE = 0.01\n",
    "BATCH_SIZE = 32\n",
    "EPOCHS = 100\n",
    "\n",
    "# Data settings\n",
    "TEST_SIZE = 0.2\n",
    "RANDOM_STATE = 42\n",
    "\n",
    "# Paths\n",
    "DATA_PATH = \"data/\"\n",
    "MODEL_PATH = \"models/\""
   ]
  },
  {
   "cell_type": "code",
   "execution_count": null,
   "metadata": {},
   "outputs": [],
   "source": [
    "# Task 3: Stage, commit, and merge\n",
    "# !cd ml_project && git add config.py\n",
    "# !cd ml_project && git commit -m \"Add configuration file\"\n",
    "# !cd ml_project && git checkout main\n",
    "# !cd ml_project && git merge feature/your-feature-name"
   ]
  },
  {
   "cell_type": "markdown",
   "metadata": {},
   "source": [
    "## Part 3: Jupyter + Git Integration\n",
    "\n",
    "### 3.1 Challenges with Notebooks in Git\n",
    "\n",
    "Jupyter notebooks can be problematic in Git because:\n",
    "- They contain execution counts\n",
    "- Output cells change frequently\n",
    "- Metadata changes\n",
    "- Binary data in outputs\n",
    "\n",
    "### 3.2 Solutions\n",
    "\n",
    "1. **Clear outputs before committing**\n",
    "2. **Use nbstripout** to automatically clean notebooks\n",
    "3. **Use ReviewNB** for better diffs\n",
    "4. **Convert to Python scripts** for version control"
   ]
  },
  {
   "cell_type": "code",
   "execution_count": null,
   "metadata": {},
   "outputs": [],
   "source": [
    "# Install nbstripout\n",
    "!pip install nbstripout"
   ]
  },
  {
   "cell_type": "code",
   "execution_count": null,
   "metadata": {},
   "outputs": [],
   "source": [
    "# Configure nbstripout for repository\n",
    "!cd ml_project && nbstripout --install"
   ]
  },
  {
   "cell_type": "code",
   "execution_count": null,
   "metadata": {},
   "outputs": [],
   "source": [
    "# Convert notebook to Python script\n",
    "!jupyter nbconvert --to script \"02_Jupyter_Git_Basics.ipynb\""
   ]
  },
  {
   "cell_type": "markdown",
   "metadata": {},
   "source": [
    "### 3.3 Jupyter Lab Extensions\n",
    "\n",
    "Useful extensions for ML development:\n",
    "- **jupyterlab-git**: Git integration\n",
    "- **nbdime**: Notebook diffing and merging\n",
    "- **variable-inspector**: Variable browser\n",
    "- **jupyterlab-toc**: Table of contents\n",
    "\n",
    "Install with:\n",
    "```bash\n",
    "pip install jupyterlab-git nbdime\n",
    "jupyter lab build\n",
    "```"
   ]
  },
  {
   "cell_type": "markdown",
   "metadata": {},
   "source": [
    "## Summary\n",
    "\n",
    "### Jupyter Mastery\n",
    "- Use keyboard shortcuts for efficiency\n",
    "- Leverage magic commands\n",
    "- Create interactive visualizations\n",
    "- Document with Markdown\n",
    "- Use widgets for interactivity\n",
    "\n",
    "### Git Essentials\n",
    "- Initialize and configure repositories\n",
    "- Stage, commit, push changes\n",
    "- Branch for features\n",
    "- Merge and resolve conflicts\n",
    "- Use .gitignore appropriately\n",
    "\n",
    "### Best Practices\n",
    "- Clear notebook outputs before committing\n",
    "- Use meaningful commit messages\n",
    "- Organize projects consistently\n",
    "- Document everything\n",
    "- Version control early and often\n",
    "\n",
    "### Next Steps\n",
    "1. Set up your own ML project repository\n",
    "2. Practice the Git workflow\n",
    "3. Explore Jupyter extensions\n",
    "4. Collaborate on a shared repository"
   ]
  }
 ],
 "metadata": {
  "kernelspec": {
   "display_name": "Python 3",
   "language": "python",
   "name": "python3"
  },
  "language_info": {
   "codemirror_mode": {
    "name": "ipython",
    "version": 3
   },
   "file_extension": ".py",
   "mimetype": "text/x-python",
   "name": "python",
   "nbconvert_exporter": "python",
   "pygments_lexer": "ipython3",
   "version": "3.8.0"
  }
 },
 "nbformat": 4,
 "nbformat_minor": 4
}