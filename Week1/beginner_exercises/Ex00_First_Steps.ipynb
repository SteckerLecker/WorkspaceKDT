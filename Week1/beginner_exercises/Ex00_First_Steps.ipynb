{
 "cells": [
  {
   "cell_type": "markdown",
   "metadata": {},
   "source": [
    "# Exercise 00: First Steps in Python\n",
    "\n",
    "## 🎯 Learning Goals\n",
    "- Run your first Python code\n",
    "- Understand how to use print statements\n",
    "- Learn about comments\n",
    "- Practice basic arithmetic\n",
    "\n",
    "## 📚 Recommended Reading\n",
    "- [Python Official Tutorial - Introduction](https://docs.python.org/3/tutorial/introduction.html)\n",
    "- [W3Schools Python Tutorial](https://www.w3schools.com/python/)\n",
    "- [Think Python - Chapter 1](https://greenteapress.com/thinkpython2/html/thinkpython2002.html)\n",
    "\n",
    "## 💡 Tips\n",
    "- Press `Shift + Enter` to run a cell\n",
    "- If you get stuck, try to understand the error message\n",
    "- Don't be afraid to experiment!"
   ]
  },
  {
   "cell_type": "markdown",
   "metadata": {},
   "source": [
    "## Part 1: Hello World! 👋\n",
    "\n",
    "Every programming journey starts with \"Hello World\"!"
   ]
  },
  {
   "cell_type": "code",
   "execution_count": null,
   "metadata": {},
   "outputs": [],
   "source": [
    "# TODO: Write code to print \"Hello, World!\"\n",
    "# Hint: Use the print() function\n",
    "\n"
   ]
  },
  {
   "cell_type": "code",
   "execution_count": null,
   "metadata": {},
   "outputs": [],
   "source": [
    "# TODO: Print your name\n",
    "# Example output: My name is Alice\n",
    "\n"
   ]
  },
  {
   "cell_type": "code",
   "execution_count": null,
   "metadata": {},
   "outputs": [],
   "source": [
    "# TODO: Print three different messages on three different lines\n",
    "\n"
   ]
  },
  {
   "cell_type": "markdown",
   "metadata": {},
   "source": [
    "## Part 2: Comments 💭\n",
    "\n",
    "Comments help explain your code. They're ignored by Python."
   ]
  },
  {
   "cell_type": "code",
   "execution_count": null,
   "metadata": {},
   "outputs": [],
   "source": [
    "# TODO: Add comments to explain what this code does\n",
    "print(\"Starting the program\")\n",
    "print(42)\n",
    "print(\"Program finished\")"
   ]
  },
  {
   "cell_type": "markdown",
   "metadata": {},
   "source": [
    "## Part 3: Python as a Calculator 🧮\n",
    "\n",
    "Python can do math! Let's try some calculations."
   ]
  },
  {
   "cell_type": "code",
   "execution_count": null,
   "metadata": {},
   "outputs": [],
   "source": [
    "# TODO: Calculate and print the sum of 15 and 27\n",
    "\n"
   ]
  },
  {
   "cell_type": "code",
   "execution_count": null,
   "metadata": {},
   "outputs": [],
   "source": [
    "# TODO: Calculate and print the result of 100 minus 33\n",
    "\n"
   ]
  },
  {
   "cell_type": "code",
   "execution_count": null,
   "metadata": {},
   "outputs": [],
   "source": [
    "# TODO: Calculate and print 7 multiplied by 8\n",
    "\n"
   ]
  },
  {
   "cell_type": "code",
   "execution_count": null,
   "metadata": {},
   "outputs": [],
   "source": [
    "# TODO: Calculate and print 20 divided by 4\n",
    "\n"
   ]
  },
  {
   "cell_type": "code",
   "execution_count": null,
   "metadata": {},
   "outputs": [],
   "source": [
    "# TODO: Calculate 2 to the power of 5 (hint: use **)\n",
    "\n"
   ]
  },
  {
   "cell_type": "markdown",
   "metadata": {},
   "source": [
    "## Part 4: Order of Operations 📐\n",
    "\n",
    "Python follows mathematical order of operations (PEMDAS)."
   ]
  },
  {
   "cell_type": "code",
   "execution_count": null,
   "metadata": {},
   "outputs": [],
   "source": [
    "# TODO: Calculate and print: 2 + 3 * 4\n",
    "# What result do you expect?\n",
    "\n"
   ]
  },
  {
   "cell_type": "code",
   "execution_count": null,
   "metadata": {},
   "outputs": [],
   "source": [
    "# TODO: Calculate and print: (2 + 3) * 4\n",
    "# How is this different?\n",
    "\n"
   ]
  },
  {
   "cell_type": "code",
   "execution_count": null,
   "metadata": {},
   "outputs": [],
   "source": [
    "# TODO: Calculate: 10 / 2 + 3 * 4 - 1\n",
    "\n"
   ]
  },
  {
   "cell_type": "markdown",
   "metadata": {},
   "source": [
    "## Part 5: Division Types ➗\n",
    "\n",
    "Python has two types of division."
   ]
  },
  {
   "cell_type": "code",
   "execution_count": null,
   "metadata": {},
   "outputs": [],
   "source": [
    "# TODO: Try normal division: 17 / 5\n",
    "\n"
   ]
  },
  {
   "cell_type": "code",
   "execution_count": null,
   "metadata": {},
   "outputs": [],
   "source": [
    "# TODO: Try floor division: 17 // 5\n",
    "# This gives you the whole number result\n",
    "\n"
   ]
  },
  {
   "cell_type": "code",
   "execution_count": null,
   "metadata": {},
   "outputs": [],
   "source": [
    "# TODO: Try modulo (remainder): 17 % 5\n",
    "# This gives you the remainder\n",
    "\n"
   ]
  },
  {
   "cell_type": "markdown",
   "metadata": {},
   "source": [
    "## Part 6: Combining Text and Numbers 📝\n",
    "\n",
    "You can print text and numbers together!"
   ]
  },
  {
   "cell_type": "code",
   "execution_count": null,
   "metadata": {},
   "outputs": [],
   "source": [
    "# TODO: Print \"The answer is \" followed by the result of 6 * 7\n",
    "# Hint: Use a comma in the print function: print(\"text\", calculation)\n",
    "\n"
   ]
  },
  {
   "cell_type": "code",
   "execution_count": null,
   "metadata": {},
   "outputs": [],
   "source": [
    "# TODO: Print: \"10 plus 5 equals\" followed by the actual calculation\n",
    "\n"
   ]
  },
  {
   "cell_type": "markdown",
   "metadata": {},
   "source": [
    "## Challenge Problems 🏆\n",
    "\n",
    "Try these if you finish early!"
   ]
  },
  {
   "cell_type": "code",
   "execution_count": null,
   "metadata": {},
   "outputs": [],
   "source": [
    "# Challenge 1: Calculate how many seconds are in a day\n",
    "# Show your calculation step by step\n",
    "\n"
   ]
  },
  {
   "cell_type": "code",
   "execution_count": null,
   "metadata": {},
   "outputs": [],
   "source": [
    "# Challenge 2: If you save 5 euros per day, how much will you have after a year?\n",
    "# Assume 365 days in a year\n",
    "\n"
   ]
  },
  {
   "cell_type": "code",
   "execution_count": null,
   "metadata": {},
   "outputs": [],
   "source": [
    "# Challenge 3: Calculate the area and perimeter of a rectangle\n",
    "# Width = 12, Height = 8\n",
    "# Area = width * height\n",
    "# Perimeter = 2 * (width + height)\n",
    "\n"
   ]
  },
  {
   "cell_type": "markdown",
   "metadata": {},
   "source": [
    "## 🎉 Congratulations!\n",
    "\n",
    "You've completed your first Python exercises! You've learned:\n",
    "- How to print messages\n",
    "- How to write comments\n",
    "- Basic arithmetic operations\n",
    "- Order of operations\n",
    "- Different types of division\n",
    "\n",
    "### What's Next?\n",
    "Move on to Exercise 01 to learn about variables!"
   ]
  }
 ],
 "metadata": {
  "kernelspec": {
   "display_name": "Python 3",
   "language": "python",
   "name": "python3"
  },
  "language_info": {
   "codemirror_mode": {
    "name": "ipython",
    "version": 3
   },
   "file_extension": ".py",
   "mimetype": "text/x-python",
   "name": "python",
   "nbconvert_exporter": "python",
   "pygments_lexer": "ipython3",
   "version": "3.8.0"
  }
 },
 "nbformat": 4,
 "nbformat_minor": 4
}