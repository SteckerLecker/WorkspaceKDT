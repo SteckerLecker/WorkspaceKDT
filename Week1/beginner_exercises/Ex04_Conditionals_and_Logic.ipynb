{
 "cells": [
  {
   "cell_type": "markdown",
   "metadata": {},
   "source": [
    "# Exercise 04: Conditionals and Logic\n",
    "\n",
    "**Learning Objectives:**\n",
    "- Write if, else, and elif statements\n",
    "- Use comparison operators effectively\n",
    "- Master boolean operators (and, or, not)\n",
    "- Create nested conditional statements\n",
    "- Combine conditionals with loops\n",
    "- Build decision-making programs\n",
    "\n",
    "**Estimated Time:** 60 minutes\n",
    "\n",
    "**Prerequisites:** Ex01_Variables_and_Types, Ex02_Working_with_Strings, Ex03_Lists_and_Loops completed\n",
    "\n",
    "---\n",
    "\n",
    "## 📚 Recommended Reading:\n",
    "- [Python Conditionals Documentation](https://docs.python.org/3/tutorial/controlflow.html#if-statements)\n",
    "- [Logic in Python Tutorials](https://realpython.com/python-conditional-statements/)\n",
    "\n",
    "---\n",
    "\n",
    "## 🎯 Part 1: Basic If Statements"
   ]
  },
  {
   "cell_type": "code",
   "execution_count": null,
   "metadata": {},
   "source": [
    "# Basic if statement examples\n",
    "age = 18\n",
    "\n",
    "if age >= 18:\n",
    "    print(\"You are an adult\")\n",
    "\n",
    "# If-else statement\n",
    "temperature = 25\n",
    "\n",
    "if temperature > 20:\n",
    "    print(\"It's warm today\")\n",
    "else:\n",
    "    print(\"It's cool today\")\n",
    "\n",
    "# If-elif-else chain\n",
    "score = 85\n",
    "\n",
    "if score >= 90:\n",
    "    print(\"Grade: A\")\n",
    "elif score >= 80:\n",
    "    print(\"Grade: B\")\n",
    "elif score >= 70:\n",
    "    print(\"Grade: C\")\n",
    "else:\n",
    "    print(\"Grade: F\")"
   ]
  },
  {
   "cell_type": "markdown",
   "metadata": {},
   "source": [
    "### TODO 1.1: Create Grade Calculator"
   ]
  },
  {
   "cell_type": "code",
   "execution_count": null,
   "metadata": {},
   "source": [
    "# TODO: Create a grade calculator for Dutch grading system (1-10)\n",
    "\n",
    "student_grade = 7.5\n",
    "\n",
    "# TODO: Create if-elif-else chain for Dutch grades:\n",
    "# 9-10: \"Excellent\"\n",
    "# 8-9: \"Very Good\"\n",
    "# 7-8: \"Good\"\n",
    "# 6-7: \"Satisfactory\"\n",
    "# 5.5-6: \"Sufficient\"\n",
    "# Below 5.5: \"Insufficient\"\n",
    "\n",
    "# TODO: Also check if the student passed (grade >= 5.5)\n",
    "\n",
    "print(\"Grade calculation completed!\")"
   ]
  },
  {
   "cell_type": "markdown",
   "metadata": {},
   "source": [
    "## 🎯 Part 2: Comparison Operators"
   ]
  },
  {
   "cell_type": "code",
   "execution_count": null,
   "metadata": {},
   "source": [
    "# Comparison operators\n",
    "a = 10\n",
    "b = 5\n",
    "\n",
    "print(f\"a = {a}, b = {b}\")\n",
    "print(f\"a == b: {a == b}\")  # Equal\n",
    "print(f\"a != b: {a != b}\")  # Not equal\n",
    "print(f\"a > b: {a > b}\")    # Greater than\n",
    "print(f\"a < b: {a < b}\")    # Less than\n",
    "print(f\"a >= b: {a >= b}\")  # Greater than or equal\n",
    "print(f\"a <= b: {a <= b}\")  # Less than or equal\n",
    "\n",
    "# String comparisons\n",
    "name1 = \"Alice\"\n",
    "name2 = \"Bob\"\n",
    "\n",
    "print(f\"\\n'{name1}' == '{name2}': {name1 == name2}\")\n",
    "print(f\"'{name1}' < '{name2}': {name1 < name2}\")  # Alphabetical order"
   ]
  },
  {
   "cell_type": "markdown",
   "metadata": {},
   "source": [
    "### TODO 2.1: Age Verification System"
   ]
  },
  {
   "cell_type": "code",
   "execution_count": null,
   "metadata": {},
   "source": [
    "# TODO: Create an age verification system\n",
    "\n",
    "user_age = 20\n",
    "drinking_age = 18\n",
    "senior_age = 65\n",
    "\n",
    "# TODO: Check various age categories and permissions\n",
    "# - Can vote (18+)\n",
    "# - Can drink alcohol (18+ in Netherlands)\n",
    "# - Is senior citizen (65+)\n",
    "# - Is minor (under 18)\n",
    "\n",
    "# TODO: Print appropriate messages for each category\n",
    "\n",
    "print(\"Age verification completed!\")"
   ]
  },
  {
   "cell_type": "markdown",
   "metadata": {},
   "source": [
    "## 🎯 Part 3: Boolean Operators (and, or, not)"
   ]
  },
  {
   "cell_type": "code",
   "execution_count": null,
   "metadata": {},
   "source": [
    "# Boolean operators\n",
    "age = 25\n",
    "has_license = True\n",
    "has_car = False\n",
    "\n",
    "# AND operator - both conditions must be True\n",
    "can_drive = age >= 18 and has_license\n",
    "print(f\"Can drive: {can_drive}\")\n",
    "\n",
    "# OR operator - at least one condition must be True\n",
    "can_travel = has_car or has_license\n",
    "print(f\"Can travel: {can_travel}\")\n",
    "\n",
    "# NOT operator - inverts the boolean value\n",
    "is_minor = not (age >= 18)\n",
    "print(f\"Is minor: {is_minor}\")\n",
    "\n",
    "# Complex conditions\n",
    "score = 85\n",
    "attendance = 90\n",
    "\n",
    "passes_course = (score >= 60) and (attendance >= 80)\n",
    "needs_retake = (score < 60) or (attendance < 80)\n",
    "\n",
    "print(f\"Passes course: {passes_course}\")\n",
    "print(f\"Needs retake: {needs_retake}\")"
   ]
  },
  {
   "cell_type": "markdown",
   "metadata": {},
   "source": [
    "### TODO 3.1: Login System"
   ]
  },
  {
   "cell_type": "code",
   "execution_count": null,
   "metadata": {},
   "source": [
    "# TODO: Create a simple login system\n",
    "\n",
    "# User credentials\n",
    "correct_username = \"student\"\n",
    "correct_password = \"python123\"\n",
    "\n",
    "# Simulate user input\n",
    "entered_username = \"student\"\n",
    "entered_password = \"python123\"\n",
    "\n",
    "# TODO: Check if login is successful\n",
    "# Both username AND password must be correct\n",
    "\n",
    "# TODO: Also check for special cases:\n",
    "# - Username correct but password wrong\n",
    "# - Password correct but username wrong\n",
    "# - Both wrong\n",
    "\n",
    "# TODO: Print appropriate messages for each case\n",
    "\n",
    "print(\"Login system completed!\")"
   ]
  },
  {
   "cell_type": "markdown",
   "metadata": {},
   "source": [
    "## 🎯 Part 4: Nested Conditions"
   ]
  },
  {
   "cell_type": "code",
   "execution_count": null,
   "metadata": {},
   "source": [
    "# Nested if statements\n",
    "weather = \"sunny\"\n",
    "temperature = 22\n",
    "has_umbrella = True\n",
    "\n",
    "if weather == \"sunny\":\n",
    "    if temperature > 20:\n",
    "        print(\"Perfect day for a picnic!\")\n",
    "    else:\n",
    "        print(\"Sunny but a bit cool\")\n",
    "elif weather == \"rainy\":\n",
    "    if has_umbrella:\n",
    "        print(\"You can go out, you have an umbrella\")\n",
    "    else:\n",
    "        print(\"Better stay inside\")\n",
    "else:\n",
    "    print(\"Check the weather again\")"
   ]
  },
  {
   "cell_type": "markdown",
   "metadata": {},
   "source": [
    "### TODO 4.1: Student Admission System"
   ]
  },
  {
   "cell_type": "code",
   "execution_count": null,
   "metadata": {},
   "source": [
    "# TODO: Create a university admission system\n",
    "\n",
    "# Student data\n",
    "gpa = 8.2\n",
    "has_diploma = True\n",
    "english_test_score = 75\n",
    "age = 19\n",
    "nationality = \"Dutch\"\n",
    "\n",
    "# TODO: Create admission criteria:\n",
    "# For Dutch students:\n",
    "#   - Must have diploma\n",
    "#   - GPA >= 7.0\n",
    "# For International students:\n",
    "#   - Must have diploma\n",
    "#   - GPA >= 7.5\n",
    "#   - English test score >= 70\n",
    "# For all students:\n",
    "#   - Age must be >= 17\n",
    "\n",
    "# TODO: Determine admission status and print detailed feedback\n",
    "\n",
    "print(\"Admission system completed!\")"
   ]
  },
  {
   "cell_type": "markdown",
   "metadata": {},
   "source": [
    "## 🎯 Part 5: Conditionals with Loops"
   ]
  },
  {
   "cell_type": "code",
   "execution_count": null,
   "metadata": {},
   "source": [
    "# Using conditionals inside loops\n",
    "numbers = [1, 2, 3, 4, 5, 6, 7, 8, 9, 10]\n",
    "\n",
    "# Find even and odd numbers\n",
    "evens = []\n",
    "odds = []\n",
    "\n",
    "for num in numbers:\n",
    "    if num % 2 == 0:\n",
    "        evens.append(num)\n",
    "    else:\n",
    "        odds.append(num)\n",
    "\n",
    "print(f\"Even numbers: {evens}\")\n",
    "print(f\"Odd numbers: {odds}\")\n",
    "\n",
    "# Count items based on conditions\n",
    "grades = [85, 92, 78, 88, 95, 67, 74]\n",
    "excellent_count = 0\n",
    "passing_count = 0\n",
    "\n",
    "for grade in grades:\n",
    "    if grade >= 90:\n",
    "        excellent_count += 1\n",
    "    if grade >= 70:\n",
    "        passing_count += 1\n",
    "\n",
    "print(f\"Excellent grades (90+): {excellent_count}\")\n",
    "print(f\"Passing grades (70+): {passing_count}\")"
   ]
  },
  {
   "cell_type": "markdown",
   "metadata": {},
   "source": [
    "### TODO 5.1: Data Analysis with Conditions"
   ]
  },
  {
   "cell_type": "code",
   "execution_count": null,
   "metadata": {},
   "source": [
    "# TODO: Analyze temperature data with conditions\n",
    "\n",
    "# Weekly temperature data (Celsius)\n",
    "temperatures = [18, 22, 25, 19, 28, 24, 21]\n",
    "days = [\"Mon\", \"Tue\", \"Wed\", \"Thu\", \"Fri\", \"Sat\", \"Sun\"]\n",
    "\n",
    "# TODO: Categorize each day based on temperature:\n",
    "# Cold: < 15\n",
    "# Cool: 15-20\n",
    "# Mild: 20-25\n",
    "# Warm: 25-30\n",
    "# Hot: > 30\n",
    "\n",
    "# TODO: Count how many days fall into each category\n",
    "\n",
    "# TODO: Find the warmest and coldest days\n",
    "\n",
    "# TODO: Print a daily weather report\n",
    "\n",
    "print(\"Temperature analysis completed!\")"
   ]
  },
  {
   "cell_type": "markdown",
   "metadata": {},
   "source": [
    "## 🎯 Part 6: Challenge Problems"
   ]
  },
  {
   "cell_type": "markdown",
   "metadata": {},
   "source": [
    "### Challenge 6.1: Grade Book System"
   ]
  },
  {
   "cell_type": "code",
   "execution_count": null,
   "metadata": {},
   "source": [
    "# TODO: Create a comprehensive grade book system\n",
    "\n",
    "# Student data\n",
    "students = [\"Alice\", \"Bob\", \"Charlie\", \"Diana\", \"Eve\"]\n",
    "math_grades = [85, 92, 78, 88, 95]\n",
    "science_grades = [88, 86, 82, 91, 89]\n",
    "english_grades = [92, 78, 85, 87, 93]\n",
    "\n",
    "# TODO: For each student:\n",
    "# - Calculate average grade\n",
    "# - Determine if they pass all subjects (>= 60)\n",
    "# - Assign honor roll status (average >= 90)\n",
    "# - Find their best and worst subjects\n",
    "# - Create a detailed report\n",
    "\n",
    "# TODO: For the class:\n",
    "# - Find top performer\n",
    "# - Calculate class averages per subject\n",
    "# - Count honor roll students\n",
    "\n",
    "print(\"Grade book system completed!\")"
   ]
  },
  {
   "cell_type": "markdown",
   "metadata": {},
   "source": [
    "### Challenge 6.2: Simple Game: Number Guessing with Logic"
   ]
  },
  {
   "cell_type": "code",
   "execution_count": null,
   "metadata": {},
   "source": [
    "# TODO: Create an enhanced number guessing game\n",
    "\n",
    "import random\n",
    "secret_number = 7  # For testing, use fixed number\n",
    "max_attempts = 5\n",
    "attempts = 0\n",
    "guessed_correctly = False\n",
    "\n",
    "# Simulate guesses\n",
    "guesses = [3, 10, 5, 7]  # Player will guess correctly on 4th try\n",
    "\n",
    "# TODO: Implement game logic:\n",
    "# - Give hints (too high/too low)\n",
    "# - Track number of attempts\n",
    "# - Provide different winning messages based on attempts\n",
    "# - Handle running out of attempts\n",
    "# - Give encouragement based on how close guesses are\n",
    "\n",
    "print(\"Number guessing game completed!\")"
   ]
  },
  {
   "cell_type": "markdown",
   "metadata": {},
   "source": [
    "## 🎯 Summary\n",
    "\n",
    "Congratulations! You've completed Exercise 04. You should now understand:\n",
    "\n",
    "✅ If, else, and elif statements  \n",
    "✅ Comparison operators (==, !=, <, >, <=, >=)  \n",
    "✅ Boolean operators (and, or, not)  \n",
    "✅ Nested conditional statements  \n",
    "✅ Combining conditionals with loops  \n",
    "✅ Building decision-making programs  \n",
    "\n",
    "### 🚀 Next Steps:\n",
    "- Complete Ex05_Functions_Basics to learn about reusable code\n",
    "- Practice combining conditionals with string and list operations\n",
    "- Build more complex decision-making programs\n",
    "\n",
    "### 💡 Key Takeaways:\n",
    "- Conditionals allow programs to make decisions\n",
    "- Use elif for multiple exclusive conditions\n",
    "- Boolean operators help combine multiple conditions\n",
    "- Proper indentation is crucial in Python\n",
    "- Think through all possible cases when writing conditionals\n",
    "\n",
    "### 🔧 Common Patterns You've Learned:\n",
    "```python\n",
    "# Basic conditional\n",
    "if condition:\n",
    "    # do something\n",
    "\n",
    "# If-else\n",
    "if condition:\n",
    "    # do something\n",
    "else:\n",
    "    # do something else\n",
    "\n",
    "# Multiple conditions\n",
    "if condition1:\n",
    "    # option 1\n",
    "elif condition2:\n",
    "    # option 2\n",
    "else:\n",
    "    # default option\n",
    "\n",
    "# Boolean operators\n",
    "if condition1 and condition2:\n",
    "if condition1 or condition2:\n",
    "if not condition:\n",
    "\n",
    "# Conditionals in loops\n",
    "for item in items:\n",
    "    if some_condition:\n",
    "        # process item\n",
    "```\n",
    "\n",
    "**Great work! You're mastering Python's control flow! 🐍**"
   ]
  }
 ],
 "metadata": {
  "kernelspec": {
   "display_name": "Python 3",
   "language": "python",
   "name": "python3"
  },
  "language_info": {
   "codemirror_mode": {
    "name": "ipython",
    "version": 3
   },
   "file_extension": ".py",
   "name": "python",
   "nbconvert_exporter": "python",
   "pygments_lexer": "ipython3",
   "version": "3.8.5"
  }
 },
 "nbformat": 4,
 "nbformat_minor": 4
}