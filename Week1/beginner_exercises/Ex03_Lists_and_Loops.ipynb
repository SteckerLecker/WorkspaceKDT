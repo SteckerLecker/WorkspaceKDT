{
 "cells": [
  {
   "cell_type": "markdown",
   "metadata": {},
   "source": [
    "# Exercise 03: Lists and Loops\n",
    "\n",
    "**Learning Objectives:**\n",
    "- Create and manipulate lists in Python\n",
    "- Master list indexing and slicing\n",
    "- Use essential list methods (append, remove, pop, insert)\n",
    "- Write for loops and while loops\n",
    "- Use the range() function effectively\n",
    "- Create basic list comprehensions\n",
    "\n",
    "**Estimated Time:** 60-75 minutes\n",
    "\n",
    "**Prerequisites:** Ex01_Variables_and_Types, Ex02_Working_with_Strings completed\n",
    "\n",
    "---\n",
    "\n",
    "## 📚 Recommended Reading (before starting):\n",
    "- [Python Lists Tutorial](https://docs.python.org/3/tutorial/introduction.html#lists)\n",
    "- [Real Python Loops Guide](https://realpython.com/python-for-loop/)\n",
    "- [Python List Methods](https://docs.python.org/3/tutorial/datastructures.html)\n",
    "\n",
    "---\n",
    "\n",
    "## 🎯 Part 1: Creating and Working with Lists\n",
    "\n",
    "Lists are ordered collections that can hold different types of data:"
   ]
  },
  {
   "cell_type": "code",
   "execution_count": null,
   "metadata": {},
   "source": [
    "# Creating lists\n",
    "fruits = [\"apple\", \"banana\", \"cherry\"]\n",
    "numbers = [1, 2, 3, 4, 5]\n",
    "mixed = [\"hello\", 42, 3.14, True]\n",
    "empty_list = []\n",
    "\n",
    "print(f\"Fruits: {fruits}\")\n",
    "print(f\"Numbers: {numbers}\")\n",
    "print(f\"Mixed types: {mixed}\")\n",
    "print(f\"Empty list: {empty_list}\")\n",
    "\n",
    "# List properties\n",
    "print(f\"\\nLength of fruits: {len(fruits)}\")\n",
    "print(f\"Type: {type(fruits)}\")"
   ]
  },
  {
   "cell_type": "markdown",
   "metadata": {},
   "source": [
    "### TODO 1.1: Create Your Own Lists"
   ]
  },
  {
   "cell_type": "code",
   "execution_count": null,
   "metadata": {},
   "source": [
    "# TODO: Create lists for different categories\n",
    "\n",
    "# Create a list of your favorite movies\n",
    "# TODO: favorite_movies = ?\n",
    "\n",
    "# Create a list of your grades (as numbers)\n",
    "# TODO: my_grades = ?\n",
    "\n",
    "# Create a list of your hobbies\n",
    "# TODO: hobbies = ?\n",
    "\n",
    "# Create a mixed list with your personal info (name, age, height, is_student)\n",
    "# TODO: personal_info = ?\n",
    "\n",
    "# Print all your lists with their lengths\n",
    "# TODO: print statements"
   ]
  },
  {
   "cell_type": "markdown",
   "metadata": {},
   "source": [
    "## 🎯 Part 2: List Indexing and Slicing\n",
    "\n",
    "Like strings, lists support indexing and slicing:"
   ]
  },
  {
   "cell_type": "code",
   "execution_count": null,
   "metadata": {},
   "source": [
    "# List indexing and slicing\n",
    "colors = [\"red\", \"green\", \"blue\", \"yellow\", \"purple\", \"orange\"]\n",
    "\n",
    "print(f\"Full list: {colors}\")\n",
    "print(f\"First color: {colors[0]}\")\n",
    "print(f\"Last color: {colors[-1]}\")\n",
    "print(f\"Second color: {colors[1]}\")\n",
    "\n",
    "# Slicing\n",
    "print(f\"First three: {colors[0:3]}\")\n",
    "print(f\"Last two: {colors[-2:]}\")\n",
    "print(f\"Every second: {colors[::2]}\")\n",
    "print(f\"Reversed: {colors[::-1]}\")"
   ]
  },
  {
   "cell_type": "markdown",
   "metadata": {},
   "source": [
    "### TODO 2.1: Practice List Slicing"
   ]
  },
  {
   "cell_type": "code",
   "execution_count": null,
   "metadata": {},
   "source": [
    "# TODO: Practice slicing with a list of days\n",
    "\n",
    "days = [\"Monday\", \"Tuesday\", \"Wednesday\", \"Thursday\", \"Friday\", \"Saturday\", \"Sunday\"]\n",
    "\n",
    "# TODO: Extract the weekdays (Monday to Friday)\n",
    "# weekdays = ?\n",
    "\n",
    "# TODO: Extract the weekend (Saturday and Sunday)\n",
    "# weekend = ?\n",
    "\n",
    "# TODO: Get the middle day of the week\n",
    "# middle_day = ?\n",
    "\n",
    "# TODO: Get every other day starting from Monday\n",
    "# every_other = ?\n",
    "\n",
    "# TODO: Reverse the days list\n",
    "# reversed_days = ?\n",
    "\n",
    "# Print all your results\n",
    "# TODO: print statements"
   ]
  },
  {
   "cell_type": "markdown",
   "metadata": {},
   "source": [
    "## 🎯 Part 3: Essential List Methods\n",
    "\n",
    "Lists have many useful methods for modification:"
   ]
  },
  {
   "cell_type": "code",
   "execution_count": null,
   "metadata": {},
   "source": [
    "# List methods demonstration\n",
    "shopping_list = [\"milk\", \"bread\", \"eggs\"]\n",
    "print(f\"Initial list: {shopping_list}\")\n",
    "\n",
    "# Adding items\n",
    "shopping_list.append(\"cheese\")  # Add to end\n",
    "print(f\"After append: {shopping_list}\")\n",
    "\n",
    "shopping_list.insert(1, \"butter\")  # Insert at position 1\n",
    "print(f\"After insert: {shopping_list}\")\n",
    "\n",
    "# Removing items\n",
    "shopping_list.remove(\"bread\")  # Remove first occurrence\n",
    "print(f\"After remove: {shopping_list}\")\n",
    "\n",
    "popped_item = shopping_list.pop()  # Remove and return last item\n",
    "print(f\"Popped item: {popped_item}\")\n",
    "print(f\"After pop: {shopping_list}\")\n",
    "\n",
    "# Other useful methods\n",
    "numbers = [3, 1, 4, 1, 5, 9, 2, 6]\n",
    "print(f\"\\nNumbers: {numbers}\")\n",
    "numbers.sort()  # Sort in place\n",
    "print(f\"Sorted: {numbers}\")\n",
    "\n",
    "numbers.reverse()  # Reverse in place\n",
    "print(f\"Reversed: {numbers}\")"
   ]
  },
  {
   "cell_type": "markdown",
   "metadata": {},
   "source": [
    "### TODO 3.1: Manage a Student List"
   ]
  },
  {
   "cell_type": "code",
   "execution_count": null,
   "metadata": {},
   "source": [
    "# TODO: Create and manage a list of students\n",
    "\n",
    "# Start with an initial list of students\n",
    "students = [\"Alice\", \"Bob\", \"Charlie\"]\n",
    "print(f\"Initial students: {students}\")\n",
    "\n",
    "# TODO: Add a new student \"Diana\" to the end\n",
    "# students.append(?)\n",
    "\n",
    "# TODO: Insert \"Eve\" at the beginning (position 0)\n",
    "# students.insert(?, ?)\n",
    "\n",
    "# TODO: Remove \"Bob\" from the list\n",
    "# students.remove(?)\n",
    "\n",
    "# TODO: Remove the last student and store in a variable\n",
    "# removed_student = students.pop(?)\n",
    "\n",
    "# TODO: Sort the students alphabetically\n",
    "# students.sort()\n",
    "\n",
    "# Print the final list and the removed student\n",
    "# TODO: print statements"
   ]
  },
  {
   "cell_type": "markdown",
   "metadata": {},
   "source": [
    "### TODO 3.2: Build a Playlist"
   ]
  },
  {
   "cell_type": "code",
   "execution_count": null,
   "metadata": {},
   "source": [
    "# TODO: Create and modify a music playlist\n",
    "\n",
    "# Start with an empty playlist\n",
    "# TODO: playlist = ?\n",
    "\n",
    "# TODO: Add these songs one by one: \"Bohemian Rhapsody\", \"Stairway to Heaven\", \"Hotel California\"\n",
    "# Use append() for each\n",
    "\n",
    "# TODO: Insert \"Imagine\" at the beginning\n",
    "\n",
    "# TODO: Add \"Sweet Child O' Mine\" at position 2\n",
    "\n",
    "# TODO: Remove \"Hotel California\"\n",
    "\n",
    "# TODO: Check if \"Imagine\" is in the playlist\n",
    "# has_imagine = \"Imagine\" in playlist\n",
    "\n",
    "# TODO: Find the position of \"Stairway to Heaven\"\n",
    "# position = playlist.index(?)\n",
    "\n",
    "# TODO: Count how many times \"Imagine\" appears\n",
    "# count = playlist.count(?)\n",
    "\n",
    "# Print the final playlist and all your findings\n",
    "# TODO: print statements"
   ]
  },
  {
   "cell_type": "markdown",
   "metadata": {},
   "source": [
    "## 🎯 Part 4: For Loops\n",
    "\n",
    "For loops let you iterate through sequences like lists:"
   ]
  },
  {
   "cell_type": "code",
   "execution_count": null,
   "metadata": {},
   "source": [
    "# Basic for loop\n",
    "fruits = [\"apple\", \"banana\", \"cherry\"]\n",
    "\n",
    "print(\"My fruits:\")\n",
    "for fruit in fruits:\n",
    "    print(f\"- {fruit}\")\n",
    "\n",
    "# For loop with enumerate (get index and value)\n",
    "print(\"\\nNumbered list:\")\n",
    "for i, fruit in enumerate(fruits):\n",
    "    print(f\"{i+1}. {fruit}\")\n",
    "\n",
    "# For loop with range\n",
    "print(\"\\nCounting:\")\n",
    "for i in range(5):\n",
    "    print(f\"Number: {i}\")\n",
    "\n",
    "# For loop with range(start, stop, step)\n",
    "print(\"\\nEven numbers:\")\n",
    "for i in range(0, 10, 2):\n",
    "    print(i)"
   ]
  },
  {
   "cell_type": "markdown",
   "metadata": {},
   "source": [
    "### TODO 4.1: Loop Through Your Data"
   ]
  },
  {
   "cell_type": "code",
   "execution_count": null,
   "metadata": {},
   "source": [
    "# TODO: Practice different types of for loops\n",
    "\n",
    "# Given data\n",
    "subjects = [\"Math\", \"Science\", \"English\", \"History\", \"Art\"]\n",
    "grades = [85, 92, 78, 88, 95]\n",
    "\n",
    "# TODO: Print each subject with a bullet point\n",
    "# for subject in subjects:\n",
    "#     print(f\"• {subject}\")\n",
    "\n",
    "# TODO: Print each subject with its position number (1, 2, 3...)\n",
    "# for i, subject in enumerate(subjects):\n",
    "#     print(f\"{i+1}. {subject}\")\n",
    "\n",
    "# TODO: Print each subject with its corresponding grade\n",
    "# Hint: use range(len(subjects)) or zip(subjects, grades)\n",
    "# for i in range(len(subjects)):\n",
    "#     print(f\"{subjects[i]}: {grades[i]}\")\n",
    "\n",
    "# TODO: Calculate and print the total and average grade\n",
    "# total = 0\n",
    "# for grade in grades:\n",
    "#     total += grade\n",
    "# average = total / len(grades)\n",
    "# print(f\"Total: {total}, Average: {average}\")\n",
    "\n",
    "print(\"Loop practice completed!\")"
   ]
  },
  {
   "cell_type": "markdown",
   "metadata": {},
   "source": [
    "### TODO 4.2: Create Patterns with Loops"
   ]
  },
  {
   "cell_type": "code",
   "execution_count": null,
   "metadata": {},
   "source": [
    "# TODO: Use loops to create patterns\n",
    "\n",
    "# TODO: Create a multiplication table for 5\n",
    "# Print: 5 x 1 = 5, 5 x 2 = 10, etc. up to 5 x 10 = 50\n",
    "# for i in range(1, 11):\n",
    "#     result = 5 * i\n",
    "#     print(f\"5 x {i} = {result}\")\n",
    "\n",
    "# TODO: Create a simple pyramid pattern\n",
    "# *\n",
    "# **\n",
    "# ***\n",
    "# ****\n",
    "# *****\n",
    "# for i in range(1, 6):\n",
    "#     print(\"*\" * i)\n",
    "\n",
    "# TODO: Create a countdown from 10 to 1\n",
    "# for i in range(10, 0, -1):\n",
    "#     print(f\"Countdown: {i}\")\n",
    "\n",
    "print(\"Pattern creation completed!\")"
   ]
  },
  {
   "cell_type": "markdown",
   "metadata": {},
   "source": [
    "## 🎯 Part 5: While Loops\n",
    "\n",
    "While loops continue as long as a condition is True:"
   ]
  },
  {
   "cell_type": "code",
   "execution_count": null,
   "metadata": {},
   "source": [
    "# Basic while loop\n",
    "count = 0\n",
    "while count < 5:\n",
    "    print(f\"Count is: {count}\")\n",
    "    count += 1  # Same as: count = count + 1\n",
    "\n",
    "print(\"Loop finished!\")\n",
    "\n",
    "# While loop with user input simulation\n",
    "password = \"\"\n",
    "correct_password = \"python123\"\n",
    "attempts = 0\n",
    "max_attempts = 3\n",
    "\n",
    "# Simulate password attempts\n",
    "passwords_to_try = [\"wrong1\", \"wrong2\", \"python123\"]\n",
    "\n",
    "while password != correct_password and attempts < max_attempts:\n",
    "    password = passwords_to_try[attempts]  # Simulate user input\n",
    "    attempts += 1\n",
    "    print(f\"Attempt {attempts}: Trying password '{password}'\")\n",
    "    \n",
    "    if password == correct_password:\n",
    "        print(\"Access granted!\")\n",
    "    elif attempts < max_attempts:\n",
    "        print(\"Wrong password, try again.\")\n",
    "    else:\n",
    "        print(\"Too many attempts. Access denied.\")"
   ]
  },
  {
   "cell_type": "markdown",
   "metadata": {},
   "source": [
    "### TODO 5.1: Number Guessing Game"
   ]
  },
  {
   "cell_type": "code",
   "execution_count": null,
   "metadata": {},
   "source": [
    "# TODO: Create a simple number guessing game using a while loop\n",
    "\n",
    "# Set up the game\n",
    "secret_number = 7\n",
    "guess = 0\n",
    "attempts = 0\n",
    "max_attempts = 5\n",
    "\n",
    "# Simulate guesses (in a real game, these would be user inputs)\n",
    "guesses_to_try = [3, 10, 5, 7]  # The last guess is correct\n",
    "\n",
    "print(\"Welcome to the Number Guessing Game!\")\n",
    "print(f\"I'm thinking of a number between 1 and 10. You have {max_attempts} attempts.\")\n",
    "\n",
    "# TODO: Create the while loop\n",
    "# while guess != secret_number and attempts < max_attempts:\n",
    "#     guess = guesses_to_try[attempts]  # Simulate user input\n",
    "#     attempts += 1\n",
    "#     print(f\"Attempt {attempts}: You guessed {guess}\")\n",
    "#     \n",
    "#     if guess == secret_number:\n",
    "#         print(f\"Congratulations! You found the number in {attempts} attempts!\")\n",
    "#     elif guess < secret_number:\n",
    "#         print(\"Too low!\")\n",
    "#     else:\n",
    "#         print(\"Too high!\")\n",
    "#         \n",
    "#     if attempts == max_attempts and guess != secret_number:\n",
    "#         print(f\"Game over! The number was {secret_number}\")\n",
    "\n",
    "print(\"Guessing game completed!\")"
   ]
  },
  {
   "cell_type": "markdown",
   "metadata": {},
   "source": [
    "### TODO 5.2: List Processing with While Loop"
   ]
  },
  {
   "cell_type": "code",
   "execution_count": null,
   "metadata": {},
   "source": [
    "# TODO: Process a list using while loop\n",
    "\n",
    "# TODO: Remove all negative numbers from this list using a while loop\n",
    "numbers = [5, -2, 8, -1, 3, -7, 10, -4]\n",
    "print(f\"Original list: {numbers}\")\n",
    "\n",
    "# TODO: Use while loop to remove negative numbers\n",
    "# Hint: use a while loop with 'in' operator to check if any negative numbers exist\n",
    "# while \"condition\":\n",
    "#     # find and remove the first negative number\n",
    "#     for i, num in enumerate(numbers):\n",
    "#         if num < 0:\n",
    "#             numbers.pop(i)\n",
    "#             break\n",
    "\n",
    "# TODO: Alternative approach - build a new list\n",
    "original_numbers = [5, -2, 8, -1, 3, -7, 10, -4]\n",
    "positive_numbers = []\n",
    "index = 0\n",
    "\n",
    "# while index < len(original_numbers):\n",
    "#     if original_numbers[index] >= 0:\n",
    "#         positive_numbers.append(original_numbers[index])\n",
    "#     index += 1\n",
    "\n",
    "# print(f\"Positive numbers: {positive_numbers}\")\n",
    "\n",
    "print(\"List processing completed!\")"
   ]
  },
  {
   "cell_type": "markdown",
   "metadata": {},
   "source": [
    "## 🎯 Part 6: List Comprehensions (Bonus)\n",
    "\n",
    "List comprehensions are a concise way to create lists:"
   ]
  },
  {
   "cell_type": "code",
   "execution_count": null,
   "metadata": {},
   "source": [
    "# Traditional way\n",
    "squares = []\n",
    "for x in range(5):\n",
    "    squares.append(x**2)\n",
    "print(f\"Squares (traditional): {squares}\")\n",
    "\n",
    "# List comprehension way\n",
    "squares_comp = [x**2 for x in range(5)]\n",
    "print(f\"Squares (comprehension): {squares_comp}\")\n",
    "\n",
    "# With condition\n",
    "even_squares = [x**2 for x in range(10) if x % 2 == 0]\n",
    "print(f\"Even squares: {even_squares}\")\n",
    "\n",
    "# With strings\n",
    "words = [\"hello\", \"world\", \"python\"]\n",
    "upper_words = [word.upper() for word in words]\n",
    "print(f\"Uppercase: {upper_words}\")"
   ]
  },
  {
   "cell_type": "markdown",
   "metadata": {},
   "source": [
    "### TODO 6.1: Practice List Comprehensions"
   ]
  },
  {
   "cell_type": "code",
   "execution_count": null,
   "metadata": {},
   "source": [
    "# TODO: Create lists using comprehensions\n",
    "\n",
    "# TODO: Create a list of numbers from 1 to 10\n",
    "# numbers = [? for ? in range(1, 11)]\n",
    "\n",
    "# TODO: Create a list of even numbers from 0 to 20\n",
    "# evens = [? for ? in range(21) if ? % 2 == 0]\n",
    "\n",
    "# TODO: Create a list of string lengths\n",
    "names = [\"Alice\", \"Bob\", \"Charlie\", \"Diana\"]\n",
    "# name_lengths = [? for ? in names]\n",
    "\n",
    "# TODO: Create a list of grades above 80\n",
    "all_grades = [75, 85, 92, 68, 88, 95, 73]\n",
    "# high_grades = [? for ? in all_grades if ? > 80]\n",
    "\n",
    "# Print all your results\n",
    "# TODO: print statements"
   ]
  },
  {
   "cell_type": "markdown",
   "metadata": {},
   "source": [
    "## 🎯 Part 7: Challenge Problems\n",
    "\n",
    "Put it all together with these challenges!"
   ]
  },
  {
   "cell_type": "markdown",
   "metadata": {},
   "source": [
    "### Challenge 7.1: Grade Book Manager"
   ]
  },
  {
   "cell_type": "code",
   "execution_count": null,
   "metadata": {},
   "source": [
    "# TODO: Create a complete grade book management system\n",
    "\n",
    "# Student data\n",
    "students = [\"Alice\", \"Bob\", \"Charlie\", \"Diana\", \"Eve\"]\n",
    "grades = [85, 92, 78, 88, 95]\n",
    "\n",
    "# TODO: Calculate statistics\n",
    "# - Find the highest grade and which student has it\n",
    "# - Find the lowest grade and which student has it\n",
    "# - Calculate the class average\n",
    "# - Count how many students passed (grade >= 70)\n",
    "# - Create a list of students who got A grades (>= 90)\n",
    "\n",
    "# TODO: Create a formatted report\n",
    "# Show each student with their grade and letter grade (A, B, C, D, F)\n",
    "# A: 90-100, B: 80-89, C: 70-79, D: 60-69, F: <60\n",
    "\n",
    "# TODO: Sort students by grade (highest to lowest)\n",
    "# Hint: You can zip the lists, sort, then unzip\n",
    "\n",
    "print(\"Grade book manager completed!\")"
   ]
  },
  {
   "cell_type": "markdown",
   "metadata": {},
   "source": [
    "### Challenge 7.2: Shopping Cart System"
   ]
  },
  {
   "cell_type": "code",
   "execution_count": null,
   "metadata": {},
   "source": [
    "# TODO: Create a shopping cart system\n",
    "\n",
    "# Available products and prices\n",
    "products = [\"laptop\", \"mouse\", \"keyboard\", \"monitor\", \"headphones\"]\n",
    "prices = [999.99, 25.50, 75.00, 299.99, 89.99]\n",
    "\n",
    "# Shopping cart (starts empty)\n",
    "cart_items = []\n",
    "cart_quantities = []\n",
    "\n",
    "# Simulate adding items to cart\n",
    "purchases = [\n",
    "    (\"laptop\", 1),\n",
    "    (\"mouse\", 2),\n",
    "    (\"keyboard\", 1),\n",
    "    (\"mouse\", 1)  # Adding more mice\n",
    "]\n",
    "\n",
    "# TODO: Process each purchase\n",
    "# - If item is already in cart, increase quantity\n",
    "# - If item is new, add it to cart\n",
    "# - Calculate total price\n",
    "# - Apply discount if total > 500 (10% off)\n",
    "# - Calculate tax (21%)\n",
    "# - Show final receipt\n",
    "\n",
    "print(\"Shopping cart system completed!\")"
   ]
  },
  {
   "cell_type": "markdown",
   "metadata": {},
   "source": [
    "### Challenge 7.3: Data Analysis\n",
    "\n",
    "Analyze temperature data using lists and loops:"
   ]
  },
  {
   "cell_type": "code",
   "execution_count": null,
   "metadata": {},
   "source": [
    "# TODO: Analyze weekly temperature data\n",
    "\n",
    "# Temperature data (Celsius) for one week\n",
    "temperatures = [22, 19, 25, 28, 24, 21, 18]\n",
    "days = [\"Monday\", \"Tuesday\", \"Wednesday\", \"Thursday\", \"Friday\", \"Saturday\", \"Sunday\"]\n",
    "\n",
    "# TODO: Perform analysis\n",
    "# - Find hottest and coldest days\n",
    "# - Calculate average temperature\n",
    "# - Count how many days were above average\n",
    "# - Find temperature range (max - min)\n",
    "# - Convert all temperatures to Fahrenheit\n",
    "# - Create a simple text-based chart showing temperatures\n",
    "\n",
    "# TODO: Create weather report\n",
    "# Show daily temperatures with descriptive text:\n",
    "# <15: \"Cold\", 15-20: \"Cool\", 20-25: \"Mild\", 25-30: \"Warm\", >30: \"Hot\"\n",
    "\n",
    "print(\"Weather analysis completed!\")"
   ]
  },
  {
   "cell_type": "markdown",
   "metadata": {},
   "source": [
    "## 🎯 Summary\n",
    "\n",
    "Congratulations! You've completed Exercise 03. You should now understand:\n",
    "\n",
    "✅ Creating and manipulating lists  \n",
    "✅ List indexing and slicing  \n",
    "✅ Essential list methods (append, remove, pop, insert, sort)  \n",
    "✅ For loops with lists, range(), and enumerate()  \n",
    "✅ While loops with conditions  \n",
    "✅ Basic list comprehensions  \n",
    "\n",
    "### 🚀 Next Steps:\n",
    "- Complete Ex04_Conditionals_and_Logic to learn decision-making\n",
    "- Practice combining loops with string operations from Ex02\n",
    "- Experiment with nested loops and more complex list operations\n",
    "\n",
    "### 💡 Key Takeaways:\n",
    "- Lists are mutable (can be changed after creation)\n",
    "- Indexing starts at 0, negative indices count from the end\n",
    "- For loops are ideal for iterating through sequences\n",
    "- While loops continue until a condition becomes False\n",
    "- List comprehensions provide a concise way to create lists\n",
    "- Always be careful with list indices to avoid IndexError\n",
    "\n",
    "### 🔧 Common Patterns You've Learned:\n",
    "```python\n",
    "# List creation and manipulation\n",
    "my_list = [1, 2, 3]\n",
    "my_list.append(4)\n",
    "my_list.insert(0, 0)\n",
    "my_list.remove(2)\n",
    "item = my_list.pop()\n",
    "\n",
    "# For loops\n",
    "for item in my_list:\n",
    "    print(item)\n",
    "\n",
    "for i, item in enumerate(my_list):\n",
    "    print(f\"{i}: {item}\")\n",
    "\n",
    "for i in range(len(my_list)):\n",
    "    print(my_list[i])\n",
    "\n",
    "# While loops\n",
    "while condition:\n",
    "    # do something\n",
    "    # update condition\n",
    "\n",
    "# List comprehensions\n",
    "squares = [x**2 for x in range(10)]\n",
    "evens = [x for x in range(20) if x % 2 == 0]\n",
    "```\n",
    "\n",
    "**Excellent progress! You're mastering Python's core data structures and control flow! 🐍**"
   ]
  }
 ],
 "metadata": {
  "kernelspec": {
   "display_name": "Python 3",
   "language": "python",
   "name": "python3"
  },
  "language_info": {
   "codemirror_mode": {
    "name": "ipython",
    "version": 3
   },
   "file_extension": ".py",
   "name": "python",
   "nbconvert_exporter": "python",
   "pygments_lexer": "ipython3",
   "version": "3.8.5"
  }
 },
 "nbformat": 4,
 "nbformat_minor": 4
}