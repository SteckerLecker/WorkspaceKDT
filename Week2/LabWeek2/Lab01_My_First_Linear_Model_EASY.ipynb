{
 "cells": [
  {
   "cell_type": "markdown",
   "metadata": {},
   "source": [
    "# Lab 1: Build Your First Linear Model!\n",
    "\n",
    "## Welcome to Your First Hands-On Lab!\n",
    "\n",
    "This is where YOU get to practice! Don't worry - we'll guide you every step of the way.\n",
    "\n",
    "### What You'll Build:\n",
    "A model to predict **apartment rent prices** based on size and location!\n",
    "\n",
    "### Learning Goals:\n",
    "- Load and explore data\n",
    "- Visualize relationships\n",
    "- Train a Linear Regression model\n",
    "- Make predictions\n",
    "- Evaluate your model\n",
    "\n",
    "### Don't Panic!\n",
    "- Read each instruction carefully\n",
    "- Try the TODO exercises yourself first\n",
    "- Hints are provided if you get stuck\n",
    "- Solutions are at the end (but try not to peek!)\n",
    "\n",
    "**Let's build something cool!**"
   ]
  },
  {
   "cell_type": "markdown",
   "metadata": {},
   "source": [
    "## Step 1: Import Libraries\n",
    "\n",
    "First, let's import the tools we need."
   ]
  },
  {
   "cell_type": "code",
   "execution_count": 5,
   "metadata": {},
   "outputs": [
    {
     "name": "stdout",
     "output_type": "stream",
     "text": [
      "Libraries imported successfully!\n",
      "You're ready to build your first model!\n"
     ]
    }
   ],
   "source": [
    "# Import necessary libraries\n",
    "import numpy as np\n",
    "import pandas as pd\n",
    "import matplotlib.pyplot as plt\n",
    "from sklearn.linear_model import LinearRegression\n",
    "from sklearn.model_selection import train_test_split\n",
    "from sklearn.metrics import mean_squared_error, r2_score\n",
    "\n",
    "# Make plots look nice\n",
    "plt.style.use('seaborn-v0_8-darkgrid')\n",
    "np.random.seed(42)\n",
    "\n",
    "print(\"Libraries imported successfully!\")\n",
    "print(\"You're ready to build your first model!\")"
   ]
  },
  {
   "cell_type": "markdown",
   "metadata": {},
   "source": [
    "## Step 2: Create the Dataset\n",
    "\n",
    "We'll create a dataset of apartment rentals with:\n",
    "- **Size** (square meters)\n",
    "- **Distance from city center** (km)\n",
    "- **Monthly rent** (euros)"
   ]
  },
  {
   "cell_type": "code",
   "execution_count": 6,
   "metadata": {},
   "outputs": [
    {
     "name": "stdout",
     "output_type": "stream",
     "text": [
      "Dataset created!\n",
      "Number of apartments: 100\n",
      "Features: Size (m²) and Distance (km)\n",
      "Target: Monthly rent (€)\n",
      "\n",
      "First 5 apartments:\n",
      "Size (m²)  Distance (km)  Rent (€)\n",
      "----------------------------------------\n",
      "    63.7            1.4      1026\n",
      "   115.6            9.9      1382\n",
      "    95.9            5.4      1326\n",
      "    83.9            8.1      1024\n",
      "    44.0           13.7       716\n"
     ]
    }
   ],
   "source": [
    "# Create apartment data\n",
    "np.random.seed(42)\n",
    "n_apartments = 100\n",
    "\n",
    "# Features\n",
    "size = np.random.uniform(30, 120, n_apartments)  # 30-120 m²\n",
    "distance = np.random.uniform(1, 15, n_apartments)  # 1-15 km from center\n",
    "\n",
    "# Target: Monthly rent (simplified model)\n",
    "# Bigger apartments cost more, farther apartments cost less\n",
    "rent = (\n",
    "    500 +                          # Base rent\n",
    "    10 * size +                    # 10€ per m²\n",
    "    -30 * distance +               # -30€ per km from center\n",
    "    np.random.randn(n_apartments) * 100  # Some random variation\n",
    ")\n",
    "\n",
    "# Combine into feature matrix\n",
    "X = np.column_stack([size, distance])\n",
    "y = rent\n",
    "\n",
    "print(f\"Dataset created!\")\n",
    "print(f\"Number of apartments: {n_apartments}\")\n",
    "print(f\"Features: Size (m²) and Distance (km)\")\n",
    "print(f\"Target: Monthly rent (€)\")\n",
    "print(f\"\\nFirst 5 apartments:\")\n",
    "print(\"Size (m²)  Distance (km)  Rent (€)\")\n",
    "print(\"-\" * 40)\n",
    "for i in range(5):\n",
    "    print(f\"{size[i]:8.1f}   {distance[i]:12.1f}   {rent[i]:7.0f}\")"
   ]
  },
  {
   "cell_type": "markdown",
   "metadata": {},
   "source": [
    "## Step 3: Explore the Data (ALWAYS DO THIS FIRST!)\n",
    "\n",
    "Before building any model, you should ALWAYS look at your data!"
   ]
  },
  {
   "cell_type": "markdown",
   "metadata": {},
   "source": [
    "### TODO 1: Calculate Basic Statistics\n",
    "\n",
    "Calculate and print:\n",
    "- Mean size\n",
    "- Mean distance\n",
    "- Mean rent\n",
    "- Min and max rent\n",
    "\n",
    "**Hint:** Use `np.mean()`, `np.min()`, `np.max()`"
   ]
  },
  {
   "cell_type": "code",
   "execution_count": 7,
   "metadata": {},
   "outputs": [
    {
     "name": "stdout",
     "output_type": "stream",
     "text": [
      "Dataset Statistics:\n",
      "==================================================\n",
      "       Size (m²)  Distance (km)  Rent (€)\n",
      "count     100.00         100.00    100.00\n",
      "mean       72.32           7.97    994.88\n",
      "std        26.77           4.10    296.81\n",
      "min        30.50           1.10    294.21\n",
      "25%        47.39           4.39    765.67\n",
      "50%        71.77           8.08    980.57\n",
      "75%        95.72          11.73   1230.07\n",
      "max       118.82          14.80   1553.60\n",
      "\n",
      "Key Statistics:\n",
      "Average apartment size: 72.3 m²\n",
      "Average distance from center: 8.0 km\n",
      "Average rent: €995\n",
      "Cheapest rent: €294\n",
      "Most expensive rent: €1554\n"
     ]
    }
   ],
   "source": [
    "# TODO 1: YOUR CODE HERE\n",
    "# Create a DataFrame and use describe() for comprehensive statistics\n",
    "\n",
    "# Create a DataFrame with all features\n",
    "df = pd.DataFrame({\n",
    "    'Size (m²)': size,\n",
    "    'Distance (km)': distance,\n",
    "    'Rent (€)': rent\n",
    "})\n",
    "\n",
    "# Display comprehensive statistics\n",
    "print(\"Dataset Statistics:\")\n",
    "print(\"=\" * 50)\n",
    "print(df.describe().round(2))\n",
    "\n",
    "print(f\"\\nKey Statistics:\")\n",
    "print(f\"Average apartment size: {df['Size (m²)'].mean():.1f} m²\")\n",
    "print(f\"Average distance from center: {df['Distance (km)'].mean():.1f} km\")\n",
    "print(f\"Average rent: €{df['Rent (€)'].mean():.0f}\")\n",
    "print(f\"Cheapest rent: €{df['Rent (€)'].min():.0f}\")\n",
    "print(f\"Most expensive rent: €{df['Rent (€)'].max():.0f}\")"
   ]
  },
  {
   "cell_type": "code",
   "execution_count": 8,
   "metadata": {},
   "outputs": [
    {
     "data": {
      "text/html": [
       "<div>\n",
       "<style scoped>\n",
       "    .dataframe tbody tr th:only-of-type {\n",
       "        vertical-align: middle;\n",
       "    }\n",
       "\n",
       "    .dataframe tbody tr th {\n",
       "        vertical-align: top;\n",
       "    }\n",
       "\n",
       "    .dataframe thead th {\n",
       "        text-align: right;\n",
       "    }\n",
       "</style>\n",
       "<table border=\"1\" class=\"dataframe\">\n",
       "  <thead>\n",
       "    <tr style=\"text-align: right;\">\n",
       "      <th></th>\n",
       "      <th>Size (m²)</th>\n",
       "      <th>Distance (km)</th>\n",
       "      <th>Rent (€)</th>\n",
       "    </tr>\n",
       "  </thead>\n",
       "  <tbody>\n",
       "    <tr>\n",
       "      <th>count</th>\n",
       "      <td>100.000000</td>\n",
       "      <td>100.000000</td>\n",
       "      <td>100.000000</td>\n",
       "    </tr>\n",
       "    <tr>\n",
       "      <th>mean</th>\n",
       "      <td>72.316267</td>\n",
       "      <td>7.969644</td>\n",
       "      <td>994.876686</td>\n",
       "    </tr>\n",
       "    <tr>\n",
       "      <th>std</th>\n",
       "      <td>26.774047</td>\n",
       "      <td>4.103558</td>\n",
       "      <td>296.806643</td>\n",
       "    </tr>\n",
       "    <tr>\n",
       "      <th>min</th>\n",
       "      <td>30.496991</td>\n",
       "      <td>1.097330</td>\n",
       "      <td>294.212520</td>\n",
       "    </tr>\n",
       "    <tr>\n",
       "      <th>25%</th>\n",
       "      <td>47.388068</td>\n",
       "      <td>4.388063</td>\n",
       "      <td>765.671859</td>\n",
       "    </tr>\n",
       "    <tr>\n",
       "      <th>50%</th>\n",
       "      <td>71.772821</td>\n",
       "      <td>8.078748</td>\n",
       "      <td>980.566760</td>\n",
       "    </tr>\n",
       "    <tr>\n",
       "      <th>75%</th>\n",
       "      <td>95.718281</td>\n",
       "      <td>11.726570</td>\n",
       "      <td>1230.071750</td>\n",
       "    </tr>\n",
       "    <tr>\n",
       "      <th>max</th>\n",
       "      <td>118.819824</td>\n",
       "      <td>14.799106</td>\n",
       "      <td>1553.598661</td>\n",
       "    </tr>\n",
       "  </tbody>\n",
       "</table>\n",
       "</div>"
      ],
      "text/plain": [
       "        Size (m²)  Distance (km)     Rent (€)\n",
       "count  100.000000     100.000000   100.000000\n",
       "mean    72.316267       7.969644   994.876686\n",
       "std     26.774047       4.103558   296.806643\n",
       "min     30.496991       1.097330   294.212520\n",
       "25%     47.388068       4.388063   765.671859\n",
       "50%     71.772821       8.078748   980.566760\n",
       "75%     95.718281      11.726570  1230.071750\n",
       "max    118.819824      14.799106  1553.598661"
      ]
     },
     "execution_count": 8,
     "metadata": {},
     "output_type": "execute_result"
    }
   ],
   "source": [
    "df.describe()"
   ]
  },
  {
   "cell_type": "markdown",
   "metadata": {},
   "source": [
    "### TODO 2: Visualize Rent vs. Size\n",
    "\n",
    "Create a scatter plot showing the relationship between apartment size and rent.\n",
    "\n",
    "**Hint:** \n",
    "```python\n",
    "plt.scatter(size, rent)\n",
    "plt.xlabel('...')\n",
    "plt.ylabel('...')\n",
    "plt.title('...')\n",
    "plt.show()\n",
    "```"
   ]
  },
  {
   "cell_type": "code",
   "execution_count": 12,
   "metadata": {},
   "outputs": [
    {
     "data": {
      "image/png": "[encoded data removed]",
      "text/plain": [
       "<Figure size 1000x600 with 1 Axes>"
      ]
     },
     "metadata": {},
     "output_type": "display_data"
    }
   ],
   "source": [
    "# Create a scatter plot of size vs rent\n",
    "\n",
    "plt.figure(figsize=(10, 6))\n",
    "plt.scatter(size, rent)\n",
    "plt.xlabel('Size (m²)')\n",
    "plt.ylabel('Rent (€)')\n",
    "plt.title('Apartment Size vs. Rent')\n",
    "plt.show()\n",
    "# What do you notice? Does bigger size mean higher rent?"
   ]
  },
  {
   "cell_type": "markdown",
   "metadata": {},
   "source": [
    "### TODO 3: Visualize Rent vs. Distance\n",
    "\n",
    "Create a scatter plot showing the relationship between distance and rent.\n",
    "\n",
    "**Question:** What pattern do you expect to see?"
   ]
  },
  {
   "cell_type": "code",
   "execution_count": 13,
   "metadata": {},
   "outputs": [
    {
     "data": {
      "image/png": "[encoded data removed]",
      "text/plain": [
       "<Figure size 1000x600 with 1 Axes>"
      ]
     },
     "metadata": {},
     "output_type": "display_data"
    }
   ],
   "source": [
    "# Create a scatter plot of distance vs rent\n",
    "\n",
    "plt.figure(figsize=(10, 6))\n",
    "plt.scatter(distance, rent)\n",
    "plt.xlabel('Distance from Center (km)')\n",
    "plt.ylabel('Rent (€)')\n",
    "plt.title('Distance vs. Rent')\n",
    "plt.show()\n",
    "\n",
    "# What do you notice? Does distance affect rent?"
   ]
  },
  {
   "cell_type": "code",
   "execution_count": null,
   "metadata": {},
   "outputs": [],
   "source": []
  },
  {
   "cell_type": "markdown",
   "metadata": {},
   "source": [
    "## Step 4: Split the Data\n",
    "\n",
    "We need to split our data into:\n",
    "- **Training set** (80%): To teach the model\n",
    "- **Test set** (20%): To evaluate the model\n",
    "\n",
    "**Why?** We need to test on data the model hasn't seen before!"
   ]
  },
  {
   "cell_type": "markdown",
   "metadata": {},
   "source": [
    "### TODO 4: Split the Dataset\n",
    "\n",
    "Use `train_test_split` to create training and test sets.\n",
    "\n",
    "**Hint:**\n",
    "```python\n",
    "X_train, X_test, y_train, y_test = train_test_split(X, y, test_size=0.2, random_state=42)\n",
    "```"
   ]
  },
  {
   "cell_type": "code",
   "execution_count": 14,
   "metadata": {},
   "outputs": [
    {
     "name": "stdout",
     "output_type": "stream",
     "text": [
      "Training set size: 80 apartments\n",
      "Test set size: 20 apartments\n",
      "\n",
      "We'll train on 80 apartments\n",
      "and test on 20 apartments the model hasn't seen!\n"
     ]
    }
   ],
   "source": [
    "# TODO 4: YOUR CODE HERE\n",
    "# Split the data into training and test sets\n",
    "\n",
    "X_train, X_test, y_train, y_test = train_test_split(X, y, test_size=0.2, random_state=42)\n",
    "\n",
    "print(f\"Training set size: {len(X_train)} apartments\")\n",
    "print(f\"Test set size: {len(X_test)} apartments\")\n",
    "print(f\"\\nWe'll train on {len(X_train)} apartments\")\n",
    "print(f\"and test on {len(X_test)} apartments the model hasn't seen!\")"
   ]
  },
  {
   "cell_type": "markdown",
   "metadata": {},
   "source": [
    "## Step 5: Train Your First Model!\n",
    "\n",
    "This is the exciting part! Let's build and train a Linear Regression model."
   ]
  },
  {
   "cell_type": "markdown",
   "metadata": {},
   "source": [
    "### TODO 5: Create and Train the Model\n",
    "\n",
    "**Steps:**\n",
    "1. Create a `LinearRegression` model\n",
    "2. Fit it to the training data\n",
    "\n",
    "**Hint:**\n",
    "```python\n",
    "model = LinearRegression()\n",
    "model.fit(X_train, y_train)\n",
    "```"
   ]
  },
  {
   "cell_type": "code",
   "execution_count": 15,
   "metadata": {},
   "outputs": [
    {
     "name": "stdout",
     "output_type": "stream",
     "text": [
      "Model trained successfully!\n",
      "\n",
      "Your model has learned the relationship between:\n",
      "- Apartment size\n",
      "- Distance from city center\n",
      "and the monthly rent!\n"
     ]
    }
   ],
   "source": [
    "# TODO 5: YOUR CODE HERE\n",
    "# Create and train the model\n",
    "\n",
    "\n",
    "model = LinearRegression()\n",
    "model.fit(X_train, y_train)\n",
    "\n",
    "print(\"Model trained successfully!\")\n",
    "print(\"\\nYour model has learned the relationship between:\")\n",
    "print(\"- Apartment size\")\n",
    "print(\"- Distance from city center\")\n",
    "print(\"and the monthly rent!\")"
   ]
  },
  {
   "cell_type": "markdown",
   "metadata": {},
   "source": [
    "## Step 6: Examine the Model\n",
    "\n",
    "Let's see what the model learned!"
   ]
  },
  {
   "cell_type": "markdown",
   "metadata": {},
   "source": [
    "### TODO 6: Print Model Parameters\n",
    "\n",
    "Print:\n",
    "- Intercept (θ₀)\n",
    "- Coefficients for size and distance (θ₁ and θ₂)\n",
    "\n",
    "**Hint:**\n",
    "```python\n",
    "model.intercept_\n",
    "model.coef_\n",
    "```"
   ]
  },
  {
   "cell_type": "code",
   "execution_count": 16,
   "metadata": {},
   "outputs": [
    {
     "name": "stdout",
     "output_type": "stream",
     "text": [
      "Model Parameters:\n",
      "\n",
      "Intercept (base rent): €482.04\n",
      "Coefficient for size: €9.72 per m²\n",
      "Coefficient for distance: €-24.38 per km\n",
      "\n",
      "Interpretation:\n",
      "- Base rent is €482.04\n",
      "- Each additional m² adds €9.72 to the rent\n",
      "- Each km from center changes rent by €-24.38\n"
     ]
    }
   ],
   "source": [
    "# TODO 6: YOUR CODE HERE\n",
    "# Print the model's parameters\n",
    "\n",
    "intercept = model.intercept_\n",
    "coef_size = model.coef_[0]\n",
    "coef_distance = model.coef_[1]\n",
    "\n",
    "print(\"Model Parameters:\")\n",
    "print(f\"\\nIntercept (base rent): €{intercept:.2f}\")\n",
    "print(f\"Coefficient for size: €{coef_size:.2f} per m²\")\n",
    "print(f\"Coefficient for distance: €{coef_distance:.2f} per km\")\n",
    "\n",
    "print(\"\\nInterpretation:\")\n",
    "print(f\"- Base rent is €{intercept:.2f}\")\n",
    "print(f\"- Each additional m² adds €{coef_size:.2f} to the rent\")\n",
    "print(f\"- Each km from center changes rent by €{coef_distance:.2f}\")"
   ]
  },
  {
   "cell_type": "markdown",
   "metadata": {},
   "source": [
    "## Step 7: Make Predictions!\n",
    "\n",
    "Now let's use our model to predict rent for apartments it hasn't seen!"
   ]
  },
  {
   "cell_type": "markdown",
   "metadata": {},
   "source": [
    "### TODO 7: Predict on Test Set\n",
    "\n",
    "Use your model to predict rents for the test set.\n",
    "\n",
    "**Hint:**\n",
    "```python\n",
    "y_pred = model.predict(X_test)\n",
    "```"
   ]
  },
  {
   "cell_type": "code",
   "execution_count": 17,
   "metadata": {},
   "outputs": [
    {
     "name": "stdout",
     "output_type": "stream",
     "text": [
      "Predictions made!\n",
      "\n",
      "First 5 predictions vs. actual values:\n",
      "Actual Rent  |  Predicted Rent  |  Difference\n",
      "--------------------------------------------------\n",
      "€    522     |  €    506          |  €    17\n",
      "€   1276     |  €   1365          |  €   -89\n",
      "€   1249     |  €   1194          |  €    55\n",
      "€   1366     |  €   1316          |  €    50\n",
      "€    795     |  €    879          |  €   -84\n"
     ]
    }
   ],
   "source": [
    "# TODO 7: YOUR CODE HERE\n",
    "# Make predictions on the test set\n",
    "\n",
    "y_pred = model.predict(X_test)\n",
    "\n",
    "print(\"Predictions made!\")\n",
    "print(\"\\nFirst 5 predictions vs. actual values:\")\n",
    "print(\"Actual Rent  |  Predicted Rent  |  Difference\")\n",
    "print(\"-\" * 50)\n",
    "for i in range(5):\n",
    "    diff = y_test[i] - y_pred[i]\n",
    "    print(f\"€{y_test[i]:7.0f}     |  €{y_pred[i]:7.0f}          |  €{diff:6.0f}\")"
   ]
  },
  {
   "cell_type": "markdown",
   "metadata": {},
   "source": [
    "## Step 8: Visualize Predictions\n",
    "\n",
    "Let's visualize how well our predictions match the actual values."
   ]
  },
  {
   "cell_type": "markdown",
   "metadata": {},
   "source": [
    "### TODO 8: Create Prediction Plot\n",
    "\n",
    "Create a scatter plot:\n",
    "- X-axis: Actual rent\n",
    "- Y-axis: Predicted rent\n",
    "- Add a diagonal line (perfect predictions)\n",
    "\n",
    "**Hint:**\n",
    "```python\n",
    "plt.scatter(y_test, y_pred)\n",
    "plt.plot([y_test.min(), y_test.max()], [y_test.min(), y_test.max()], 'r--')\n",
    "```"
   ]
  },
  {
   "cell_type": "code",
   "execution_count": 19,
   "metadata": {},
   "outputs": [
    {
     "data": {
      "image/png": "[encoded data removed]",
      "text/plain": [
       "<Figure size 1000x600 with 1 Axes>"
      ]
     },
     "metadata": {},
     "output_type": "display_data"
    },
    {
     "name": "stdout",
     "output_type": "stream",
     "text": [
      "\n",
      "How to read this plot:\n",
      "- Points on the red line = perfect predictions\n",
      "- Points above the line = model predicted too high\n",
      "- Points below the line = model predicted too low\n"
     ]
    }
   ],
   "source": [
    "# TODO 8: YOUR CODE HERE\n",
    "# Create a scatter plot of actual vs predicted values\n",
    "\n",
    "plt.figure(figsize=(10, 6))\n",
    "plt.scatter(y_test, y_pred)\n",
    "plt.plot([y_test.min(), y_test.max()], [y_test.min(), y_test.max()], 'r--')\n",
    "plt.xlabel('Actual Rent (€)', fontsize=12)\n",
    "plt.ylabel('Predicted Rent (€)', fontsize=12)\n",
    "plt.title('Actual vs. Predicted Rent', fontsize=14, fontweight='bold')\n",
    "plt.grid(True, alpha=0.3)\n",
    "plt.show()\n",
    "\n",
    "print(\"\\nHow to read this plot:\")\n",
    "print(\"- Points on the red line = perfect predictions\")\n",
    "print(\"- Points above the line = model predicted too high\")\n",
    "print(\"- Points below the line = model predicted too low\")"
   ]
  },
  {
   "cell_type": "code",
   "execution_count": 53,
   "metadata": {},
   "outputs": [],
   "source": [
    "# Show the formula for the mean squared error (MSE)\n",
    "\n",
    "# MSE = 1/n * Σ(y_i - y_pred_i)^2"
   ]
  },
  {
   "cell_type": "code",
   "execution_count": 51,
   "metadata": {},
   "outputs": [
    {
     "name": "stdout",
     "output_type": "stream",
     "text": [
      "Actual: €522.11, Predicted: €505.52, Squared Error: 275.33\n",
      "Actual: €1275.99, Predicted: €1365.26, Squared Error: 7968.77\n",
      "Actual: €1249.07, Predicted: €1193.80, Squared Error: 3054.62\n",
      "Actual: €1366.15, Predicted: €1316.45, Squared Error: 2470.56\n",
      "Actual: €794.88, Predicted: €878.55, Squared Error: 6999.74\n",
      "\n",
      "Mean Squared Error (MSE): 6664.32\n"
     ]
    },
    {
     "data": {
      "image/png": "[encoded data removed]",
      "text/plain": [
       "<Figure size 800x600 with 1 Axes>"
      ]
     },
     "metadata": {},
     "output_type": "display_data"
    }
   ],
   "source": [
    "# Illustrate how mean squared error (MSE) is calculated\n",
    "\n",
    "# Calculate squared errors\n",
    "squared_errors = (y_test - y_pred)**2\n",
    "\n",
    "# Show a few squared errors to the user\n",
    "for i in range(5):\n",
    "    print(f\"Actual: €{y_test[i]:.2f}, Predicted: €{y_pred[i]:.2f}, Squared Error: {(squared_errors[i]):.2f}\")\n",
    "\n",
    "# Calculate and print mean squared error\n",
    "mse = np.mean(squared_errors)\n",
    "print(f\"\\nMean Squared Error (MSE): {mse:.2f}\")\n",
    "\n",
    "# Visualize: connect actual and predicted values with lines to show errors\n",
    "plt.figure(figsize=(8,6))\n",
    "plt.scatter(y_test, y_pred, label='Predictions')\n",
    "plt.plot([y_test.min(), y_test.max()], [y_test.min(), y_test.max()], 'r--', label='Perfect Prediction')\n",
    "\n",
    "# Draw lines from each actual point to its prediction\n",
    "for i in range(len(y_test)):\n",
    "    plt.plot([y_test[i], y_test[i]], [y_test[i], y_pred[i]], 'g-', alpha=0.3)\n",
    "\n",
    "plt.xlabel('Actual Rent (€)')\n",
    "plt.ylabel('Predicted Rent (€)')\n",
    "plt.title('Mean Squared Error Visualization')\n",
    "plt.legend()\n",
    "plt.show()\n"
   ]
  },
  {
   "cell_type": "markdown",
   "metadata": {},
   "source": [
    "## Step 9: Evaluate Your Model\n",
    "\n",
    "How good is your model? Let's calculate some metrics!"
   ]
  },
  {
   "cell_type": "markdown",
   "metadata": {},
   "source": [
    "### TODO 9: Calculate R² Score\n",
    "\n",
    "Calculate the R² score on both training and test sets.\n",
    "\n",
    "**Hint:**\n",
    "```python\n",
    "r2_train = model.score(X_train, y_train)\n",
    "r2_test = model.score(X_test, y_test)\n",
    "```\n",
    "\n",
    "**Remember:**\n",
    "- R² = 1.0: Perfect fit\n",
    "- R² > 0.9: Excellent\n",
    "- R² > 0.7: Good\n",
    "- R² > 0.5: Okay\n",
    "- R² < 0.5: Needs improvement"
   ]
  },
  {
   "cell_type": "code",
   "execution_count": 20,
   "metadata": {},
   "outputs": [
    {
     "name": "stdout",
     "output_type": "stream",
     "text": [
      "Model Performance:\n",
      "\n",
      "R² Score (Training): 0.8839 (88.39%)\n",
      "R² Score (Test):     0.9205 (92.05%)\n",
      "\n",
      "Grade: A+ (Excellent!)\n",
      "\n",
      "Good news: No significant overfitting detected!\n"
     ]
    }
   ],
   "source": [
    "# Calculate R² scores based on the model's performance\n",
    "r2_train = model.score(X_train, y_train)\n",
    "r2_test = model.score(X_test, y_test)\n",
    "\n",
    "print(\"Model Performance:\")\n",
    "print(f\"\\nR² Score (Training): {r2_train:.4f} ({r2_train*100:.2f}%)\")\n",
    "print(f\"R² Score (Test):     {r2_test:.4f} ({r2_test*100:.2f}%)\")\n",
    "\n",
    "if r2_test > 0.9:\n",
    "    print(\"\\nGrade: A+ (Excellent!)\")\n",
    "elif r2_test > 0.7:\n",
    "    print(\"\\nGrade: B (Good!)\")\n",
    "elif r2_test > 0.5:\n",
    "    print(\"\\nGrade: C (Okay)\")\n",
    "else:\n",
    "    print(\"\\nGrade: Needs improvement\")\n",
    "\n",
    "# Check for overfitting\n",
    "if r2_train - r2_test > 0.1:\n",
    "    print(\"\\nWarning: Possible overfitting (training score much higher than test score)\")\n",
    "else:\n",
    "    print(\"\\nGood news: No significant overfitting detected!\")"
   ]
  },
  {
   "cell_type": "markdown",
   "metadata": {},
   "source": [
    "### TODO 10: Calculate RMSE (Root Mean Squared Error)\n",
    "\n",
    "RMSE tells you the average prediction error in euros.\n",
    "\n",
    "**Hint:**\n",
    "```python\n",
    "rmse = np.sqrt(mean_squared_error(y_test, y_pred))\n",
    "```"
   ]
  },
  {
   "cell_type": "code",
   "execution_count": 21,
   "metadata": {},
   "outputs": [
    {
     "name": "stdout",
     "output_type": "stream",
     "text": [
      "Root Mean Squared Error: €81.64\n",
      "\n",
      "On average, our predictions are off by about €82\n",
      "\n",
      "Context:\n",
      "- Average rent: €1027\n",
      "- Average error: €82\n",
      "- Error as % of average rent: 7.9%\n"
     ]
    }
   ],
   "source": [
    "# TODO 10: YOUR CODE HERE\n",
    "# Calculate RMSE\n",
    "\n",
    "rmse = np.sqrt(mean_squared_error(y_test, y_pred))\n",
    "\n",
    "print(f\"Root Mean Squared Error: €{rmse:.2f}\")\n",
    "print(f\"\\nOn average, our predictions are off by about €{rmse:.0f}\")\n",
    "print(f\"\\nContext:\")\n",
    "print(f\"- Average rent: €{np.mean(y_test):.0f}\")\n",
    "print(f\"- Average error: €{rmse:.0f}\")\n",
    "print(f\"- Error as % of average rent: {(rmse/np.mean(y_test)*100):.1f}%\")"
   ]
  },
  {
   "cell_type": "markdown",
   "metadata": {},
   "source": [
    "## Step 10: Use Your Model for New Predictions!\n",
    "\n",
    "Now let's use your model to predict rent for brand new apartments!"
   ]
  },
  {
   "cell_type": "markdown",
   "metadata": {},
   "source": [
    "### TODO 11: Predict for New Apartments\n",
    "\n",
    "Predict the rent for these new apartments:\n",
    "1. 50 m², 5 km from center\n",
    "2. 80 m², 2 km from center\n",
    "3. 100 m², 10 km from center\n",
    "\n",
    "**Hint:**\n",
    "```python\n",
    "new_apartments = np.array([[50, 5], [80, 2], [100, 10]])\n",
    "predictions = model.predict(new_apartments)\n",
    "```"
   ]
  },
  {
   "cell_type": "code",
   "execution_count": 22,
   "metadata": {},
   "outputs": [
    {
     "name": "stdout",
     "output_type": "stream",
     "text": [
      "Rent Predictions for New Apartments:\n",
      "\n",
      "Apartment Details          →  Predicted Rent\n",
      "--------------------------------------------------\n",
      "50 m², 5 km from center      →  €846/month\n",
      "80 m², 2 km from center      →  €1211/month\n",
      "100 m², 10 km from center    →  €1210/month\n"
     ]
    }
   ],
   "source": [
    "# TODO 11: YOUR CODE HERE\n",
    "# Predict rent for new apartments\n",
    "\n",
    "new_apartments = np.array([[50, 5], [80, 2], [100, 10]])\n",
    "new_predictions = model.predict(new_apartments)\n",
    "\n",
    "print(\"Rent Predictions for New Apartments:\")\n",
    "print(\"\\nApartment Details          →  Predicted Rent\")\n",
    "print(\"-\" * 50)\n",
    "descriptions = [\n",
    "    \"50 m², 5 km from center\",\n",
    "    \"80 m², 2 km from center\",\n",
    "    \"100 m², 10 km from center\"\n",
    "]\n",
    "for desc, pred in zip(descriptions, new_predictions):\n",
    "    print(f\"{desc:28s} →  €{pred:.0f}/month\")"
   ]
  },
  {
   "cell_type": "markdown",
   "metadata": {},
   "source": [
    "## Bonus Challenge: Analyze Feature Importance\n",
    "\n",
    "Which feature has a bigger impact: size or distance?"
   ]
  },
  {
   "cell_type": "code",
   "execution_count": 24,
   "metadata": {},
   "outputs": [
    {
     "data": {
      "text/plain": [
       "array([  9.72224676, -24.3773304 ])"
      ]
     },
     "execution_count": 24,
     "metadata": {},
     "output_type": "execute_result"
    }
   ],
   "source": [
    "model.coef_"
   ]
  },
  {
   "cell_type": "markdown",
   "metadata": {},
   "source": [
    "## Congratulations!\n",
    "\n",
    "### You Did It!\n",
    "\n",
    "You just:\n",
    "- ✅ Created and explored a dataset\n",
    "- ✅ Visualized relationships in data\n",
    "- ✅ Split data into training and test sets\n",
    "- ✅ Trained your first Linear Regression model\n",
    "- ✅ Made predictions\n",
    "- ✅ Evaluated model performance\n",
    "- ✅ Used the model for real predictions\n",
    "\n",
    "### What You Learned:\n",
    "1. Always explore data before modeling\n",
    "2. Split data to test on unseen examples\n",
    "3. Linear Regression learns coefficients for each feature\n",
    "4. R² score measures model quality\n",
    "5. RMSE tells you average prediction error\n",
    "6. Coefficients tell you feature importance\n",
    "\n",
    "### Next Steps:\n",
    "- Try Lab 2: Polynomial Features\n",
    "- Experiment with different datasets\n",
    "- Try adding more features\n",
    "\n",
    "---\n",
    "\n",
    "## You're a Data Scientist Now!\n",
    "\n",
    "**You just built, trained, and evaluated a machine learning model from scratch!**\n",
    "\n",
    "**That's AMAZING! Keep going!**"
   ]
  },
  {
   "cell_type": "markdown",
   "metadata": {},
   "source": [
    "## Solutions (Only Look After Trying!)\n",
    "\n",
    "Here are the solutions to all TODOs. But remember: **you learn by doing, not by copying!**"
   ]
  },
  {
   "cell_type": "code",
   "execution_count": null,
   "metadata": {},
   "outputs": [],
   "source": [
    "# SOLUTION TO TODO 1\n",
    "mean_size = np.mean(size)\n",
    "mean_distance = np.mean(distance)\n",
    "mean_rent = np.mean(rent)\n",
    "min_rent = np.min(rent)\n",
    "max_rent = np.max(rent)"
   ]
  },
  {
   "cell_type": "code",
   "execution_count": null,
   "metadata": {},
   "outputs": [],
   "source": [
    "# SOLUTION TO TODO 2\n",
    "plt.figure(figsize=(10, 6))\n",
    "plt.scatter(size, rent, alpha=0.6, edgecolors='black', linewidths=0.5)\n",
    "plt.xlabel('Size (m²)', fontsize=12)\n",
    "plt.ylabel('Rent (€)', fontsize=12)\n",
    "plt.title('Apartment Size vs. Rent', fontsize=14, fontweight='bold')\n",
    "plt.grid(True, alpha=0.3)\n",
    "plt.show()"
   ]
  },
  {
   "cell_type": "code",
   "execution_count": null,
   "metadata": {},
   "outputs": [],
   "source": [
    "# SOLUTION TO TODO 3\n",
    "plt.figure(figsize=(10, 6))\n",
    "plt.scatter(distance, rent, alpha=0.6, edgecolors='black', linewidths=0.5, color='orange')\n",
    "plt.xlabel('Distance from Center (km)', fontsize=12)\n",
    "plt.ylabel('Rent (€)', fontsize=12)\n",
    "plt.title('Distance vs. Rent', fontsize=14, fontweight='bold')\n",
    "plt.grid(True, alpha=0.3)\n",
    "plt.show()"
   ]
  },
  {
   "cell_type": "code",
   "execution_count": null,
   "metadata": {},
   "outputs": [],
   "source": [
    "# SOLUTION TO TODO 4\n",
    "X_train, X_test, y_train, y_test = train_test_split(X, y, test_size=0.2, random_state=42)"
   ]
  },
  {
   "cell_type": "code",
   "execution_count": null,
   "metadata": {},
   "outputs": [],
   "source": [
    "# SOLUTION TO TODO 5\n",
    "model = LinearRegression()\n",
    "model.fit(X_train, y_train)"
   ]
  },
  {
   "cell_type": "code",
   "execution_count": null,
   "metadata": {},
   "outputs": [],
   "source": [
    "# SOLUTION TO TODO 6\n",
    "intercept = model.intercept_\n",
    "coef_size = model.coef_[0]\n",
    "coef_distance = model.coef_[1]"
   ]
  },
  {
   "cell_type": "code",
   "execution_count": null,
   "metadata": {},
   "outputs": [],
   "source": [
    "# SOLUTION TO TODO 7\n",
    "y_pred = model.predict(X_test)"
   ]
  },
  {
   "cell_type": "code",
   "execution_count": null,
   "metadata": {},
   "outputs": [],
   "source": [
    "# SOLUTION TO TODO 8\n",
    "plt.figure(figsize=(10, 6))\n",
    "plt.scatter(y_test, y_pred, alpha=0.6, edgecolors='black', linewidths=0.5)\n",
    "plt.plot([y_test.min(), y_test.max()], [y_test.min(), y_test.max()], \n",
    "        'r--', linewidth=2, label='Perfect Predictions')\n",
    "plt.xlabel('Actual Rent (€)', fontsize=12)\n",
    "plt.ylabel('Predicted Rent (€)', fontsize=12)\n",
    "plt.title('Actual vs. Predicted Rent', fontsize=14, fontweight='bold')\n",
    "plt.legend()\n",
    "plt.grid(True, alpha=0.3)\n",
    "plt.show()"
   ]
  },
  {
   "cell_type": "code",
   "execution_count": null,
   "metadata": {},
   "outputs": [],
   "source": [
    "# SOLUTION TO TODO 9\n",
    "r2_train = model.score(X_train, y_train)\n",
    "r2_test = model.score(X_test, y_test)"
   ]
  },
  {
   "cell_type": "code",
   "execution_count": null,
   "metadata": {},
   "outputs": [],
   "source": [
    "# SOLUTION TO TODO 10\n",
    "rmse = np.sqrt(mean_squared_error(y_test, y_pred))"
   ]
  },
  {
   "cell_type": "code",
   "execution_count": null,
   "metadata": {},
   "outputs": [],
   "source": [
    "# SOLUTION TO TODO 11\n",
    "new_apartments = np.array([[50, 5], [80, 2], [100, 10]])\n",
    "new_predictions = model.predict(new_apartments)"
   ]
  },
  {
   "cell_type": "code",
   "execution_count": 48,
   "metadata": {},
   "outputs": [
    {
     "name": "stdout",
     "output_type": "stream",
     "text": [
      "{'importances_mean': array([1.93174817, 0.3009803 ]), 'importances_std': array([0.46553721, 0.12838111]), 'importances': array([[2.42141323, 1.42411899, 2.26038589, 2.69568331, 1.9239389 ,\n",
      "        1.92474996, 1.88554576, 2.11415736, 1.67097893, 0.99650933],\n",
      "       [0.24687289, 0.31179192, 0.26883126, 0.42152313, 0.20310846,\n",
      "        0.52895298, 0.28930028, 0.03059432, 0.30101576, 0.407812  ]])}\n",
      "\n",
      "2. PERMUTATION IMPORTANCE (BEST METHOD):\n",
      "--------------------------------------------------\n",
      "Shows how much performance drops when feature is shuffled:\n",
      "Size: 1.932 ± 0.466\n",
      "Distance: 0.301 ± 0.128\n",
      "Higher values = more important feature!\n"
     ]
    }
   ],
   "source": [
    "# Method 2: Permutation Importance (BEST METHOD)\n",
    "from sklearn.inspection import permutation_importance\n",
    "\n",
    "# Calculate permutation importance\n",
    "perm_importance = permutation_importance(model, X_test, y_test, random_state=42, n_repeats=10)\n",
    "\n",
    "print(perm_importance)\n",
    "\n",
    "\n",
    "print(f\"\\n2. PERMUTATION IMPORTANCE (BEST METHOD):\")\n",
    "print(\"-\" * 50)\n",
    "print(\"Shows how much performance drops when feature is shuffled:\")\n",
    "print(f\"Size: {perm_importance.importances_mean[0]:.3f} ± {perm_importance.importances_std[0]:.3f}\")\n",
    "print(f\"Distance: {perm_importance.importances_mean[1]:.3f} ± {perm_importance.importances_std[1]:.3f}\")\n",
    "print(\"Higher values = more important feature!\")\n"
   ]
  },
  {
   "cell_type": "code",
   "execution_count": 49,
   "metadata": {},
   "outputs": [
    {
     "data": {
      "image/png": "[encoded data removed]",
      "text/plain": [
       "<Figure size 640x480 with 1 Axes>"
      ]
     },
     "metadata": {},
     "output_type": "display_data"
    }
   ],
   "source": [
    "# Simpler: Visualize Permutation Importance, use default pyplot (no subplot)\n",
    "import seaborn as sns\n",
    "\n",
    "feat_names = ['Size', 'Distance']\n",
    "imp = perm_importance.importances_mean\n",
    "imp_std = perm_importance.importances_std\n",
    "\n",
    "import matplotlib.pyplot as plt\n",
    "colors = ['green', 'red']\n",
    "\n",
    "plt.bar(feat_names, imp, yerr=imp_std, color=colors, alpha=0.7, capsize=8)\n",
    "plt.title('Permutation Importance (BEST)')\n",
    "plt.ylabel('Importance Score')\n",
    "plt.show()\n"
   ]
  },
  {
   "cell_type": "code",
   "execution_count": null,
   "metadata": {},
   "outputs": [],
   "source": []
  }
 ],
 "metadata": {
  "kernelspec": {
   "display_name": "dspy",
   "language": "python",
   "name": "python3"
  },
  "language_info": {
   "codemirror_mode": {
    "name": "ipython",
    "version": 3
   },
   "file_extension": ".py",
   "mimetype": "text/x-python",
   "name": "python",
   "nbconvert_exporter": "python",
   "pygments_lexer": "ipython3",
   "version": "3.10.14"
  }
 },
 "nbformat": 4,
 "nbformat_minor": 4
}
