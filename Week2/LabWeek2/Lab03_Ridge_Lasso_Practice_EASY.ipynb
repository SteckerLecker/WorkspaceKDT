{
 "cells": [
  {
   "cell_type": "markdown",
   "metadata": {},
   "source": [
    "# Lab 3: Ridge, Lasso & ElasticNet Practice\n",
    "\n",
    "## Welcome to Lab 3 - Regularization Time!\n",
    "\n",
    "### What You'll Practice:\n",
    "- Ridge Regression (shrinks all coefficients)\n",
    "- Lasso Regression (eliminates features)\n",
    "- ElasticNet (best of both)\n",
    "- Comparing regularization methods\n",
    "- Feature scaling importance\n",
    "\n",
    "**Let's prevent overfitting!**"
   ]
  },
  {
   "cell_type": "code",
   "execution_count": 1,
   "metadata": {},
   "outputs": [
    {
     "name": "stdout",
     "output_type": "stream",
     "text": [
      "Ready for regularization!\n"
     ]
    }
   ],
   "source": [
    "import numpy as np\n",
    "import matplotlib.pyplot as plt\n",
    "from sklearn.linear_model import LinearRegression, Ridge, Lasso, ElasticNet\n",
    "from sklearn.preprocessing import PolynomialFeatures, StandardScaler\n",
    "from sklearn.pipeline import Pipeline\n",
    "from sklearn.model_selection import train_test_split\n",
    "from sklearn.metrics import r2_score, mean_squared_error\n",
    "\n",
    "plt.style.use('seaborn-v0_8-darkgrid')\n",
    "np.random.seed(42)\n",
    "print(\"Ready for regularization!\")"
   ]
  },
  {
   "cell_type": "markdown",
   "metadata": {},
   "source": [
    "## Step 1: Create House Price Dataset\n",
    "\n",
    "Features: size, age, rooms, distance, school_rating (+ 3 noise features)"
   ]
  },
  {
   "cell_type": "code",
   "execution_count": 2,
   "metadata": {},
   "outputs": [
    {
     "name": "stdout",
     "output_type": "stream",
     "text": [
      "Created dataset: 100 houses, 8 features\n",
      "Note: Last 3 features are noise (irrelevant)!\n"
     ]
    }
   ],
   "source": [
    "n = 100\n",
    "size = np.random.uniform(50, 200, n)\n",
    "age = np.random.uniform(0, 50, n)\n",
    "rooms = np.random.randint(1, 6, n)\n",
    "distance = np.random.uniform(1, 20, n)\n",
    "school = np.random.uniform(1, 10, n)\n",
    "noise1 = np.random.randn(n)\n",
    "noise2 = np.random.randn(n)\n",
    "noise3 = np.random.randn(n)\n",
    "\n",
    "X = np.column_stack([size, age, rooms, distance, school, noise1, noise2, noise3])\n",
    "y = 100 + 2*size - 0.5*age + 10*rooms - 3*distance + 5*school + np.random.randn(n)*20\n",
    "\n",
    "feature_names = ['Size', 'Age', 'Rooms', 'Distance', 'School', 'Noise1', 'Noise2', 'Noise3']\n",
    "print(f\"Created dataset: {X.shape[0]} houses, {X.shape[1]} features\")\n",
    "print(\"Note: Last 3 features are noise (irrelevant)!\")"
   ]
  },
  {
   "cell_type": "markdown",
   "metadata": {},
   "source": [
    "## TODO 1: Split Data\n",
    "\n",
    "Split into train (80%) and test (20%) sets."
   ]
  },
  {
   "cell_type": "code",
   "execution_count": null,
   "metadata": {},
   "outputs": [
    {
     "name": "stdout",
     "output_type": "stream",
     "text": [
      "Training: 80 samples\n",
      "Test: 20 samples\n"
     ]
    }
   ],
   "source": [
    "# TODO 1: Split the data\n",
    "\n",
    "print(f\"Training: {len(X_train)} samples\")\n",
    "print(f\"Test: {len(X_test)} samples\")"
   ]
  },
  {
   "cell_type": "markdown",
   "metadata": {},
   "source": [
    "## TODO 2: Train Ridge Model\n",
    "\n",
    "Create a Pipeline with StandardScaler and Ridge (alpha=10)."
   ]
  },
  {
   "cell_type": "code",
   "execution_count": null,
   "metadata": {},
   "outputs": [
    {
     "name": "stdout",
     "output_type": "stream",
     "text": [
      "Ridge R² (train): 0.9401\n",
      "Ridge R² (test): 0.9278\n"
     ]
    }
   ],
   "source": [
    "# TODO 2: Create and train Ridge model\n",
    "\n",
    "\n",
    "print(f\"Ridge R² (train): {ridge_r2_train:.4f}\")\n",
    "print(f\"Ridge R² (test): {ridge_r2_test:.4f}\")"
   ]
  },
  {
   "cell_type": "markdown",
   "metadata": {},
   "source": [
    "## TODO 3: Train Lasso Model\n",
    "\n",
    "Create a Pipeline with StandardScaler and Lasso (alpha=5)."
   ]
  },
  {
   "cell_type": "code",
   "execution_count": null,
   "metadata": {},
   "outputs": [],
   "source": [
    "# TODO 3: Create and train Lasso model\n",
    "lasso_model =  # YOUR CODE: Create Pipeline\n",
    "\n",
    "# YOUR CODE: Fit the model\n",
    "\n",
    "lasso_r2_train =  # YOUR CODE\n",
    "lasso_r2_test =  # YOUR CODE\n",
    "\n",
    "print(f\"Lasso R² (train): {lasso_r2_train:.4f}\")\n",
    "print(f\"Lasso R² (test): {lasso_r2_test:.4f}\")"
   ]
  },
  {
   "cell_type": "markdown",
   "metadata": {},
   "source": [
    "## TODO 4: Train ElasticNet Model\n",
    "\n",
    "Create a Pipeline with StandardScaler and ElasticNet (alpha=5, l1_ratio=0.5)."
   ]
  },
  {
   "cell_type": "code",
   "execution_count": null,
   "metadata": {},
   "outputs": [],
   "source": [
    "# TODO 4: Create and train ElasticNet model\n",
    "elastic_model =  # YOUR CODE\n",
    "\n",
    "# YOUR CODE: Fit\n",
    "\n",
    "elastic_r2_train =  # YOUR CODE\n",
    "elastic_r2_test =  # YOUR CODE\n",
    "\n",
    "print(f\"ElasticNet R² (train): {elastic_r2_train:.4f}\")\n",
    "print(f\"ElasticNet R² (test): {elastic_r2_test:.4f}\")"
   ]
  },
  {
   "cell_type": "markdown",
   "metadata": {},
   "source": [
    "## Step 2: Compare All Models"
   ]
  },
  {
   "cell_type": "code",
   "execution_count": null,
   "metadata": {},
   "outputs": [],
   "source": [
    "# Compare performance\n",
    "models = ['Ridge', 'Lasso', 'ElasticNet']\n",
    "train_scores = [ridge_r2_train, lasso_r2_train, elastic_r2_train]\n",
    "test_scores = [ridge_r2_test, lasso_r2_test, elastic_r2_test]\n",
    "\n",
    "x = np.arange(len(models))\n",
    "width = 0.35\n",
    "\n",
    "plt.figure(figsize=(10, 6))\n",
    "plt.bar(x - width/2, train_scores, width, label='Train', alpha=0.8)\n",
    "plt.bar(x + width/2, test_scores, width, label='Test', alpha=0.8)\n",
    "plt.xlabel('Model', fontsize=12)\n",
    "plt.ylabel('R² Score', fontsize=12)\n",
    "plt.title('Model Comparison', fontsize=14, fontweight='bold')\n",
    "plt.xticks(x, models)\n",
    "plt.legend()\n",
    "plt.ylim(0, 1)\n",
    "plt.grid(True, alpha=0.3, axis='y')\n",
    "plt.show()"
   ]
  },
  {
   "cell_type": "markdown",
   "metadata": {},
   "source": [
    "## Step 3: Analyze Feature Selection"
   ]
  },
  {
   "cell_type": "code",
   "execution_count": null,
   "metadata": {},
   "outputs": [],
   "source": [
    "# Get coefficients\n",
    "ridge_coef = ridge_model.named_steps['ridge'].coef_\n",
    "lasso_coef = lasso_model.named_steps['lasso'].coef_\n",
    "elastic_coef = elastic_model.named_steps['elastic'].coef_\n",
    "\n",
    "# Plot coefficients\n",
    "x_pos = np.arange(len(feature_names))\n",
    "width = 0.25\n",
    "\n",
    "plt.figure(figsize=(14, 7))\n",
    "plt.bar(x_pos - width, ridge_coef, width, label='Ridge', alpha=0.8)\n",
    "plt.bar(x_pos, lasso_coef, width, label='Lasso', alpha=0.8)\n",
    "plt.bar(x_pos + width, elastic_coef, width, label='ElasticNet', alpha=0.8)\n",
    "plt.xticks(x_pos, feature_names, rotation=45, ha='right')\n",
    "plt.ylabel('Coefficient Value', fontsize=12)\n",
    "plt.title('Feature Importance by Model', fontsize=14, fontweight='bold')\n",
    "plt.legend()\n",
    "plt.axhline(y=0, color='black', linewidth=0.8)\n",
    "plt.grid(True, alpha=0.3, axis='y')\n",
    "plt.tight_layout()\n",
    "plt.show()\n",
    "\n",
    "print(\"\\nFeature Selection:\")\n",
    "print(f\"Ridge: Uses {np.sum(np.abs(ridge_coef) > 0.01)} features\")\n",
    "print(f\"Lasso: Uses {np.sum(lasso_coef != 0)} features\")\n",
    "print(f\"ElasticNet: Uses {np.sum(elastic_coef != 0)} features\")\n",
    "\n",
    "print(\"\\nNotice: Lasso eliminated the noise features!\")"
   ]
  },
  {
   "cell_type": "markdown",
   "metadata": {},
   "source": [
    "## Solutions"
   ]
  },
  {
   "cell_type": "code",
   "execution_count": null,
   "metadata": {},
   "outputs": [],
   "source": [
    "# SOLUTION TO TODO 1\n",
    "X_train, X_test, y_train, y_test = train_test_split(X, y, test_size=0.2, random_state=42)"
   ]
  },
  {
   "cell_type": "code",
   "execution_count": null,
   "metadata": {},
   "outputs": [],
   "source": [
    "# SOLUTION TO TODO 2\n",
    "ridge_model = Pipeline([\n",
    "    ('scaler', StandardScaler()),\n",
    "    ('ridge', Ridge(alpha=10))\n",
    "])\n",
    "ridge_model.fit(X_train, y_train)\n",
    "ridge_r2_train = ridge_model.score(X_train, y_train)\n",
    "ridge_r2_test = ridge_model.score(X_test, y_test)"
   ]
  },
  {
   "cell_type": "code",
   "execution_count": null,
   "metadata": {},
   "outputs": [],
   "source": [
    "# SOLUTION TO TODO 3\n",
    "lasso_model = Pipeline([\n",
    "    ('scaler', StandardScaler()),\n",
    "    ('lasso', Lasso(alpha=5))\n",
    "])\n",
    "lasso_model.fit(X_train, y_train)\n",
    "lasso_r2_train = lasso_model.score(X_train, y_train)\n",
    "lasso_r2_test = lasso_model.score(X_test, y_test)"
   ]
  },
  {
   "cell_type": "code",
   "execution_count": null,
   "metadata": {},
   "outputs": [],
   "source": [
    "# SOLUTION TO TODO 4\n",
    "elastic_model = Pipeline([\n",
    "    ('scaler', StandardScaler()),\n",
    "    ('elastic', ElasticNet(alpha=5, l1_ratio=0.5))\n",
    "])\n",
    "elastic_model.fit(X_train, y_train)\n",
    "elastic_r2_train = elastic_model.score(X_train, y_train)\n",
    "elastic_r2_test = elastic_model.score(X_test, y_test)"
   ]
  },
  {
   "cell_type": "markdown",
   "metadata": {},
   "source": [
    "## Congratulations!\n",
    "\n",
    "You've mastered regularization!\n",
    "\n",
    "**Key Takeaways:**\n",
    "- Ridge keeps all features, shrinks coefficients\n",
    "- Lasso eliminates irrelevant features\n",
    "- ElasticNet balances both approaches\n",
    "- Always use StandardScaler with regularization\n",
    "- Compare models to find the best one\n",
    "\n",
    "**You're now a Linear Models expert!**"
   ]
  }
 ],
 "metadata": {
  "kernelspec": {
   "display_name": "dspy",
   "language": "python",
   "name": "python3"
  },
  "language_info": {
   "codemirror_mode": {
    "name": "ipython",
    "version": 3
   },
   "file_extension": ".py",
   "mimetype": "text/x-python",
   "name": "python",
   "nbconvert_exporter": "python",
   "pygments_lexer": "ipython3",
   "version": "3.10.14"
  }
 },
 "nbformat": 4,
 "nbformat_minor": 4
}
