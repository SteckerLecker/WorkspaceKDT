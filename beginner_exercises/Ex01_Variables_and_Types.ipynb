{
 "cells": [
  {
   "cell_type": "markdown",
   "metadata": {},
   "source": [
    "# Exercise 01: Variables and Types\n",
    "\n",
    "**Learning Objectives:**\n",
    "- Understand how to create and name variables in Python\n",
    "- Learn about different data types (int, float, str, bool)\n",
    "- Practice type conversion between different data types\n",
    "- Work with constants and multiple assignments\n",
    "\n",
    "**Estimated Time:** 30-45 minutes\n",
    "\n",
    "**Prerequisites:** Ex00_First_Steps completed\n",
    "\n",
    "---\n",
    "\n",
    "## 📚 Recommended Reading (before starting):\n",
    "- [Python Variables Documentation](https://docs.python.org/3/tutorial/introduction.html#using-python-as-a-calculator)\n",
    "- [Real Python Variables Guide](https://realpython.com/python-variables/)\n",
    "- [Python Data Types](https://docs.python.org/3/library/stdtypes.html)\n",
    "\n",
    "---\n",
    "\n",
    "## 🎯 Part 1: Variable Creation and Naming Rules\n",
    "\n",
    "Variables are like containers that store data values. In Python, you create a variable by assigning a value to it."
   ]
  },
  {
   "cell_type": "code",
   "execution_count": null,
   "metadata": {},
   "outputs": [],
   "source": [
    "# Example: Creating variables\n",
    "student_name = \"Alice\"\n",
    "student_age = 20\n",
    "is_enrolled = True\n",
    "\n",
    "print(f\"Student: {student_name}, Age: {student_age}, Enrolled: {is_enrolled}\")"
   ]
  },
  {
   "cell_type": "markdown",
   "metadata": {},
   "source": [
    "### TODO 1.1: Create Your Own Variables\n",
    "Create variables for yourself and print them out. Follow Python naming conventions!"
   ]
  },
  {
   "cell_type": "code",
   "execution_count": null,
   "metadata": {},
   "outputs": [],
   "source": [
    "# TODO: Create variables for your own information\n",
    "# Hint: Use descriptive names with underscores for multiple words\n",
    "# Variable names should start with a letter or underscore, not a number\n",
    "\n",
    "# Create a variable for your name\n",
    "# TODO: your_name = ?\n",
    "\n",
    "# Create a variable for your favorite number\n",
    "# TODO: favorite_number = ?\n",
    "\n",
    "# Create a variable for whether you like programming (True/False)\n",
    "# TODO: likes_programming = ?\n",
    "\n",
    "# Print all your variables\n",
    "# TODO: print(...)"
   ]
  },
  {
   "cell_type": "markdown",
   "metadata": {},
   "source": [
    "### TODO 1.2: Variable Naming Practice\n",
    "Fix the invalid variable names below:"
   ]
  },
  {
   "cell_type": "code",
   "execution_count": null,
   "metadata": {},
   "outputs": [],
   "source": [
    "# TODO: Fix these invalid variable names\n",
    "# Hint: Variable names cannot start with numbers, contain spaces, or use special characters\n",
    "\n",
    "# INVALID EXAMPLES (fix these):\n",
    "# 2nd_place = \"Silver\"  # Cannot start with number\n",
    "# user name = \"John\"    # Cannot contain spaces\n",
    "# user-email = \"john@email.com\"  # Cannot contain hyphens\n",
    "\n",
    "# TODO: Create valid versions of these variables:\n",
    "# Fix: second_place = ?\n",
    "# Fix: user_name = ?\n",
    "# Fix: user_email = ?\n",
    "\n",
    "# Print your fixed variables"
   ]
  },
  {
   "cell_type": "markdown",
   "metadata": {},
   "source": [
    "## 🎯 Part 2: Data Types\n",
    "\n",
    "Python has several built-in data types. Let's explore the most common ones:"
   ]
  },
  {
   "cell_type": "code",
   "execution_count": null,
   "metadata": {},
   "outputs": [],
   "source": [
    "# Examples of different data types\n",
    "integer_number = 42          # int (whole number)\n",
    "decimal_number = 3.14        # float (decimal number)\n",
    "text_string = \"Hello World\"  # str (text)\n",
    "boolean_value = True         # bool (True or False)\n",
    "\n",
    "# Check the type of each variable\n",
    "print(f\"Type of {integer_number}: {type(integer_number)}\")\n",
    "print(f\"Type of {decimal_number}: {type(decimal_number)}\")\n",
    "print(f\"Type of '{text_string}': {type(text_string)}\")\n",
    "print(f\"Type of {boolean_value}: {type(boolean_value)}\")"
   ]
  },
  {
   "cell_type": "markdown",
   "metadata": {},
   "source": [
    "### TODO 2.1: Create Variables of Different Types"
   ]
  },
  {
   "cell_type": "code",
   "execution_count": null,
   "metadata": {},
   "outputs": [],
   "source": [
    "# TODO: Create variables of each type and check their types\n",
    "\n",
    "# Create an integer (whole number) for your birth year\n",
    "# TODO: birth_year = ?\n",
    "\n",
    "# Create a float (decimal) for your height in meters\n",
    "# TODO: height_meters = ?\n",
    "\n",
    "# Create a string for your favorite color\n",
    "# TODO: favorite_color = ?\n",
    "\n",
    "# Create a boolean for whether today is a weekend\n",
    "# TODO: is_weekend = ?\n",
    "\n",
    "# Print each variable and its type\n",
    "# TODO: Use type() function to check each variable's type\n",
    "# Example: print(f\"birth_year: {birth_year}, type: {type(birth_year)}\")"
   ]
  },
  {
   "cell_type": "markdown",
   "metadata": {},
   "source": [
    "### TODO 2.2: Explore Number Types"
   ]
  },
  {
   "cell_type": "code",
   "execution_count": null,
   "metadata": {},
   "outputs": [],
   "source": [
    "# TODO: Create different types of numbers\n",
    "\n",
    "# Create a positive integer\n",
    "# TODO: positive_int = ?\n",
    "\n",
    "# Create a negative integer\n",
    "# TODO: negative_int = ?\n",
    "\n",
    "# Create a float with decimal places\n",
    "# TODO: decimal_float = ?\n",
    "\n",
    "# Create a very large number\n",
    "# TODO: large_number = ?\n",
    "\n",
    "# Print all numbers and their types\n",
    "# TODO: Print each variable"
   ]
  },
  {
   "cell_type": "markdown",
   "metadata": {},
   "source": [
    "## 🎯 Part 3: Type Conversion\n",
    "\n",
    "Sometimes you need to convert between different data types. Python provides built-in functions for this:"
   ]
  },
  {
   "cell_type": "code",
   "execution_count": null,
   "metadata": {},
   "outputs": [],
   "source": [
    "# Examples of type conversion\n",
    "number_as_string = \"123\"\n",
    "string_as_number = int(number_as_string)\n",
    "\n",
    "print(f\"Original: '{number_as_string}' (type: {type(number_as_string)})\")\n",
    "print(f\"Converted: {string_as_number} (type: {type(string_as_number)})\")\n",
    "\n",
    "# More conversions\n",
    "float_number = 3.14\n",
    "int_from_float = int(float_number)  # This will truncate the decimal\n",
    "string_from_float = str(float_number)\n",
    "\n",
    "print(f\"Float to int: {float_number} -> {int_from_float}\")\n",
    "print(f\"Float to string: {float_number} -> '{string_from_float}'\")"
   ]
  },
  {
   "cell_type": "markdown",
   "metadata": {},
   "source": [
    "### TODO 3.1: Practice Type Conversion"
   ]
  },
  {
   "cell_type": "code",
   "execution_count": null,
   "metadata": {},
   "outputs": [],
   "source": [
    "# TODO: Practice converting between types\n",
    "\n",
    "# Given variables\n",
    "age_string = \"25\"\n",
    "price_string = \"19.99\"\n",
    "score_float = 87.5\n",
    "is_student_string = \"True\"\n",
    "\n",
    "# TODO: Convert age_string to an integer\n",
    "# age_int = ?\n",
    "\n",
    "# TODO: Convert price_string to a float\n",
    "# price_float = ?\n",
    "\n",
    "# TODO: Convert score_float to an integer (it will truncate)\n",
    "# score_int = ?\n",
    "\n",
    "# TODO: Convert score_float to a string\n",
    "# score_string = ?\n",
    "\n",
    "# Print all conversions with their types\n",
    "# TODO: Print each converted variable and its type"
   ]
  },
  {
   "cell_type": "markdown",
   "metadata": {},
   "source": [
    "### TODO 3.2: Handle Conversion Errors\n",
    "What happens when you try to convert invalid data?"
   ]
  },
  {
   "cell_type": "code",
   "execution_count": null,
   "metadata": {},
   "outputs": [],
   "source": [
    "# TODO: Try these conversions and observe what happens\n",
    "# Hint: Some of these will cause errors - that's expected!\n",
    "# Comment out any lines that cause errors after you see them\n",
    "\n",
    "invalid_number = \"hello\"\n",
    "\n",
    "# TODO: Try to convert \"hello\" to an integer - what happens?\n",
    "# result = int(invalid_number)\n",
    "# print(result)\n",
    "\n",
    "# TODO: Try a valid conversion\n",
    "# valid_number = \"42\"\n",
    "# result = int(valid_number)\n",
    "# print(result)\n",
    "\n",
    "print(\"If you see this message, you handled the conversions correctly!\")"
   ]
  },
  {
   "cell_type": "markdown",
   "metadata": {},
   "source": [
    "## 🎯 Part 4: Constants and Multiple Assignments\n",
    "\n",
    "In Python, we use ALL_CAPS for constants (values that shouldn't change) and can assign multiple variables at once."
   ]
  },
  {
   "cell_type": "code",
   "execution_count": null,
   "metadata": {},
   "outputs": [],
   "source": [
    "# Examples of constants (convention: ALL_CAPS)\n",
    "PI = 3.14159\n",
    "MAX_STUDENTS = 30\n",
    "UNIVERSITY_NAME = \"HAN University\"\n",
    "\n",
    "print(f\"π = {PI}\")\n",
    "print(f\"Maximum students: {MAX_STUDENTS}\")\n",
    "print(f\"University: {UNIVERSITY_NAME}\")"
   ]
  },
  {
   "cell_type": "code",
   "execution_count": null,
   "metadata": {},
   "outputs": [],
   "source": [
    "# Multiple assignment examples\n",
    "x, y, z = 1, 2, 3\n",
    "print(f\"x={x}, y={y}, z={z}\")\n",
    "\n",
    "# Assign same value to multiple variables\n",
    "a = b = c = 10\n",
    "print(f\"a={a}, b={b}, c={c}\")\n",
    "\n",
    "# Swapping variables\n",
    "first = \"Hello\"\n",
    "second = \"World\"\n",
    "print(f\"Before swap: first='{first}', second='{second}'\")\n",
    "\n",
    "first, second = second, first\n",
    "print(f\"After swap: first='{first}', second='{second}'\")"
   ]
  },
  {
   "cell_type": "markdown",
   "metadata": {},
   "source": [
    "### TODO 4.1: Create Constants"
   ]
  },
  {
   "cell_type": "code",
   "execution_count": null,
   "metadata": {},
   "outputs": [],
   "source": [
    "# TODO: Create constants for your course information\n",
    "# Remember: Use ALL_CAPS for constant names\n",
    "\n",
    "# TODO: Create a constant for the course name\n",
    "# COURSE_NAME = ?\n",
    "\n",
    "# TODO: Create a constant for the maximum grade \n",
    "# MAX_GRADE = ?\n",
    "\n",
    "# TODO: Create a constant for the passing grade\n",
    "# PASSING_GRADE = ?\n",
    "\n",
    "# TODO: Create a constant for the current year\n",
    "# CURRENT_YEAR = ?\n",
    "\n",
    "# Print all your constants\n",
    "# TODO: Print each constant with a descriptive message"
   ]
  },
  {
   "cell_type": "markdown",
   "metadata": {},
   "source": [
    "### TODO 4.2: Practice Multiple Assignment"
   ]
  },
  {
   "cell_type": "code",
   "execution_count": null,
   "metadata": {},
   "outputs": [],
   "source": [
    "# TODO: Practice multiple assignment techniques\n",
    "\n",
    "# TODO: Assign three different values to three variables in one line\n",
    "# student1, student2, student3 = ?, ?, ?\n",
    "\n",
    "# TODO: Assign the same value (0) to three score variables\n",
    "# score1 = score2 = score3 = ?\n",
    "\n",
    "# TODO: Create two variables with opposite values, then swap them\n",
    "# hot = \"fire\"\n",
    "# cold = \"ice\"\n",
    "# Print before swap\n",
    "# Swap the values\n",
    "# Print after swap\n",
    "\n",
    "print(\"Multiple assignment practice completed!\")"
   ]
  },
  {
   "cell_type": "markdown",
   "metadata": {},
   "source": [
    "## 🎯 Part 5: Challenge Problems\n",
    "\n",
    "Ready for some challenges? These are optional but will help solidify your understanding!"
   ]
  },
  {
   "cell_type": "markdown",
   "metadata": {},
   "source": [
    "### Challenge 5.1: Variable Calculator"
   ]
  },
  {
   "cell_type": "code",
   "execution_count": null,
   "metadata": {},
   "outputs": [],
   "source": [
    "# TODO: Create a simple calculator using variables\n",
    "# Create variables for two numbers and perform operations\n",
    "\n",
    "# TODO: Create two number variables\n",
    "# num1 = ?\n",
    "# num2 = ?\n",
    "\n",
    "# TODO: Calculate and store results in variables\n",
    "# addition = ?\n",
    "# subtraction = ?\n",
    "# multiplication = ?\n",
    "# division = ?\n",
    "\n",
    "# TODO: Print results with descriptive messages\n",
    "# Example: print(f\"{num1} + {num2} = {addition}\")"
   ]
  },
  {
   "cell_type": "markdown",
   "metadata": {},
   "source": [
    "### Challenge 5.2: Type Detective"
   ]
  },
  {
   "cell_type": "code",
   "execution_count": null,
   "metadata": {},
   "outputs": [],
   "source": [
    "# TODO: Determine what type each mystery variable will be\n",
    "# First, predict the type, then check with type()\n",
    "\n",
    "mystery1 = 5 + 3\n",
    "mystery2 = 5.0 + 3\n",
    "mystery3 = \"5\" + \"3\"\n",
    "mystery4 = 5 > 3\n",
    "mystery5 = str(5 + 3)\n",
    "\n",
    "# TODO: Predict each type, then check\n",
    "# print(f\"mystery1 = {mystery1}, predicted type: ?, actual type: {type(mystery1)}\")\n",
    "# Continue for all mystery variables..."
   ]
  },
  {
   "cell_type": "markdown",
   "metadata": {},
   "source": [
    "### Challenge 5.3: Student Information System"
   ]
  },
  {
   "cell_type": "code",
   "execution_count": null,
   "metadata": {},
   "outputs": [],
   "source": [
    "# TODO: Create a student information system using variables\n",
    "# Include: name, age, student_id, GPA, is_enrolled, graduation_year\n",
    "\n",
    "# Student information variables\n",
    "# TODO: student_name = ?\n",
    "# TODO: student_age = ?\n",
    "# TODO: student_id = ?  # This should be a string like \"S12345\"\n",
    "# TODO: gpa = ?  # Decimal number between 0.0 and 4.0\n",
    "# TODO: is_enrolled = ?\n",
    "# TODO: graduation_year = ?\n",
    "\n",
    "# TODO: Print a formatted student report\n",
    "# Include all information in a nice format\n",
    "# Calculate age at graduation: graduation_year - (current_year - student_age + 18)\n",
    "\n",
    "print(\"Student Information System completed!\")"
   ]
  },
  {
   "cell_type": "markdown",
   "metadata": {},
   "source": [
    "## 🎯 Summary\n",
    "\n",
    "Congratulations! You've completed Exercise 01. You should now understand:\n",
    "\n",
    "✅ How to create and name variables properly  \n",
    "✅ The four basic data types: int, float, str, bool  \n",
    "✅ How to convert between different types  \n",
    "✅ Conventions for constants (ALL_CAPS)  \n",
    "✅ Multiple assignment techniques  \n",
    "\n",
    "### 🚀 Next Steps:\n",
    "- Complete Ex02_Working_with_Strings to learn more about text manipulation\n",
    "- Review the concepts you found challenging\n",
    "- Try creating more complex variable combinations\n",
    "\n",
    "### 💡 Key Takeaways:\n",
    "- Variables are containers for storing data\n",
    "- Python automatically determines the data type\n",
    "- You can convert between types when needed\n",
    "- Good variable naming makes code more readable\n",
    "- The type() function helps you understand your data\n",
    "\n",
    "**Great job! You're building a solid foundation in Python! 🐍**"
   ]
  }
 ],
 "metadata": {
  "kernelspec": {
   "display_name": "Python 3",
   "language": "python",
   "name": "python3"
  },
  "language_info": {
   "codemirror_mode": {
    "name": "ipython",
    "version": 3
   },
   "file_extension": ".py",
   "name": "python",
   "nbconvert_exporter": "python",
   "pygments_lexer": "ipython3",
   "version": "3.8.5"
  }
 },
 "nbformat": 4,
 "nbformat_minor": 4
}
