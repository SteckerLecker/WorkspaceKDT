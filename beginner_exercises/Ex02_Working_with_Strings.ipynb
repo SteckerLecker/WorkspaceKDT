{
 "cells": [
  {
   "cell_type": "markdown",
   "metadata": {},
   "source": [
    "# Exercise 02: Working with Strings\n",
    "\n",
    "**Learning Objectives:**\n",
    "- Master string creation with different quote types\n",
    "- Learn string concatenation and repetition\n",
    "- Practice essential string methods (upper, lower, strip, split)\n",
    "- Understand string indexing and slicing\n",
    "- Use f-strings and string formatting\n",
    "- Work with escape characters\n",
    "\n",
    "**Estimated Time:** 45-60 minutes\n",
    "\n",
    "**Prerequisites:** Ex01_Variables_and_Types completed\n",
    "\n",
    "---\n",
    "\n",
    "## 📚 Recommended Reading (before starting):\n",
    "- [Python String Documentation](https://docs.python.org/3/library/stdtypes.html#text-sequence-type-str)\n",
    "- [W3Schools Python Strings](https://www.w3schools.com/python/python_strings.asp)\n",
    "- [Real Python String Formatting](https://realpython.com/python-string-formatting/)\n",
    "\n",
    "---\n",
    "\n",
    "## 🎯 Part 1: String Creation and Quotes\n",
    "\n",
    "Strings are sequences of characters enclosed in quotes. Python offers multiple ways to create strings:"
   ]
  },
  {
   "cell_type": "code",
   "execution_count": null,
   "metadata": {},
   "source": [
    "# Different ways to create strings\n",
    "single_quotes = 'Hello World'\n",
    "double_quotes = \"Hello World\"\n",
    "triple_quotes = '''This is a\n",
    "multi-line\n",
    "string'''\n",
    "\n",
    "print(\"Single quotes:\", single_quotes)\n",
    "print(\"Double quotes:\", double_quotes)\n",
    "print(\"Triple quotes:\")\n",
    "print(triple_quotes)\n",
    "\n",
    "# When to use which quotes\n",
    "apostrophe_example = \"It's a beautiful day\"  # Use double quotes for apostrophes\n",
    "quote_example = 'He said \"Hello!\"'  # Use single quotes when you need double quotes inside\n",
    "\n",
    "print(apostrophe_example)\n",
    "print(quote_example)"
   ]
  },
  {
   "cell_type": "markdown",
   "metadata": {},
   "source": [
    "### TODO 1.1: Create Your Own Strings"
   ]
  },
  {
   "cell_type": "code",
   "execution_count": null,
   "metadata": {},
   "source": [
    "# TODO: Create strings using different quote types\n",
    "\n",
    "# Create a string with single quotes containing your favorite quote\n",
    "# TODO: favorite_quote = ?\n",
    "\n",
    "# Create a string with double quotes containing someone's name with an apostrophe\n",
    "# Example: \"O'Connor\" or \"McDonald's\"\n",
    "# TODO: name_with_apostrophe = ?\n",
    "\n",
    "# Create a multi-line string with triple quotes describing your day\n",
    "# TODO: daily_schedule = ?\n",
    "\n",
    "# Print all your strings\n",
    "# TODO: print statements"
   ]
  },
  {
   "cell_type": "markdown",
   "metadata": {},
   "source": [
    "### TODO 1.2: Practice Quote Combinations"
   ]
  },
  {
   "cell_type": "code",
   "execution_count": null,
   "metadata": {},
   "source": [
    "# TODO: Create strings that contain both single and double quotes\n",
    "# Hint: Use triple quotes or escape characters\n",
    "\n",
    "# Create a string containing: She said \"I can't believe it's working!\"\n",
    "# TODO: complex_quote = ?\n",
    "\n",
    "# Create a string containing: The file path is \"C:\\Users\\Alice's Files\"\n",
    "# TODO: file_path = ?\n",
    "\n",
    "# Print your strings\n",
    "# TODO: print statements"
   ]
  },
  {
   "cell_type": "markdown",
   "metadata": {},
   "source": [
    "## 🎯 Part 2: String Concatenation and Repetition\n",
    "\n",
    "You can combine strings using the + operator and repeat them using the * operator:"
   ]
  },
  {
   "cell_type": "code",
   "execution_count": null,
   "metadata": {},
   "source": [
    "# String concatenation\n",
    "first_name = \"John\"\n",
    "last_name = \"Doe\"\n",
    "full_name = first_name + \" \" + last_name\n",
    "print(f\"Full name: {full_name}\")\n",
    "\n",
    "# String repetition\n",
    "laugh = \"Ha\"\n",
    "long_laugh = laugh * 5\n",
    "print(f\"Laughter: {long_laugh}\")\n",
    "\n",
    "# Combining concatenation and repetition\n",
    "separator = \"-\" * 20\n",
    "title = \"IMPORTANT\"\n",
    "header = separator + \" \" + title + \" \" + separator\n",
    "print(header)"
   ]
  },
  {
   "cell_type": "markdown",
   "metadata": {},
   "source": [
    "### TODO 2.1: Practice String Operations"
   ]
  },
  {
   "cell_type": "code",
   "execution_count": null,
   "metadata": {},
   "source": [
    "# TODO: Practice concatenation and repetition\n",
    "\n",
    "# Create variables for your personal information\n",
    "# TODO: your_first_name = ?\n",
    "# TODO: your_last_name = ?\n",
    "# TODO: your_city = ?\n",
    "# TODO: your_country = ?\n",
    "\n",
    "# Combine them into a full introduction\n",
    "# TODO: introduction = \"Hello, I'm \" + ? + ...?\n",
    "\n",
    "# Create a decorative border using repetition\n",
    "# TODO: border = \"*\" * ?\n",
    "\n",
    "# Create a formatted message with borders\n",
    "# TODO: formatted_message = ?\n",
    "\n",
    "# Print your formatted message\n",
    "# TODO: print statements"
   ]
  },
  {
   "cell_type": "markdown",
   "metadata": {},
   "source": [
    "### TODO 2.2: Build a Simple Text Banner"
   ]
  },
  {
   "cell_type": "code",
   "execution_count": null,
   "metadata": {},
   "source": [
    "# TODO: Create a text banner for your favorite course or hobby\n",
    "\n",
    "# Choose a title for your banner\n",
    "# TODO: banner_title = ?\n",
    "\n",
    "# Create different decorative elements\n",
    "# TODO: top_border = \"=\" * ?\n",
    "# TODO: side_border = \"|\"\n",
    "# TODO: spaces = \" \" * ?  # For padding\n",
    "\n",
    "# Build your banner line by line\n",
    "# TODO: Create and print a banner that looks like:\n",
    "# ================\n",
    "# |  YOUR TITLE  |\n",
    "# ================\n",
    "\n",
    "print(\"Banner creation completed!\")"
   ]
  },
  {
   "cell_type": "markdown",
   "metadata": {},
   "source": [
    "## 🎯 Part 3: Essential String Methods\n",
    "\n",
    "Strings come with many built-in methods for manipulation:"
   ]
  },
  {
   "cell_type": "code",
   "execution_count": null,
   "metadata": {},
   "source": [
    "# Essential string methods demonstration\n",
    "sample_text = \"  Hello Python World!  \"\n",
    "\n",
    "print(f\"Original: '{sample_text}'\")\n",
    "print(f\"Upper: '{sample_text.upper()}'\")\n",
    "print(f\"Lower: '{sample_text.lower()}'\")\n",
    "print(f\"Stripped: '{sample_text.strip()}'\")\n",
    "print(f\"Title Case: '{sample_text.title()}'\")\n",
    "print(f\"Capitalized: '{sample_text.capitalize()}'\")\n",
    "\n",
    "# More useful methods\n",
    "text = \"apple,banana,cherry\"\n",
    "fruits = text.split(\",\")\n",
    "print(f\"Split result: {fruits}\")\n",
    "\n",
    "# Replace method\n",
    "message = \"I love JavaScript!\"\n",
    "new_message = message.replace(\"JavaScript\", \"Python\")\n",
    "print(f\"Replaced: {new_message}\")"
   ]
  },
  {
   "cell_type": "markdown",
   "metadata": {},
   "source": [
    "### TODO 3.1: Clean Up User Input"
   ]
  },
  {
   "cell_type": "code",
   "execution_count": null,
   "metadata": {},
   "source": [
    "# TODO: Practice cleaning up messy user input\n",
    "\n",
    "# Simulate messy user input (common in real applications)\n",
    "user_name = \"  ALICE  JOHNSON  \"\n",
    "user_email = \"  Alice.Johnson@EXAMPLE.COM  \"\n",
    "user_city = \"  new  YORK  \"\n",
    "\n",
    "# TODO: Clean up the user_name (strip whitespace, proper title case)\n",
    "# clean_name = ?\n",
    "\n",
    "# TODO: Clean up the user_email (strip whitespace, lowercase)\n",
    "# clean_email = ?\n",
    "\n",
    "# TODO: Clean up the user_city (strip whitespace, title case)\n",
    "# clean_city = ?\n",
    "\n",
    "# Print the cleaned results\n",
    "# TODO: print statements showing before and after"
   ]
  },
  {
   "cell_type": "markdown",
   "metadata": {},
   "source": [
    "### TODO 3.2: Text Processing Pipeline"
   ]
  },
  {
   "cell_type": "code",
   "execution_count": null,
   "metadata": {},
   "source": [
    "# TODO: Create a text processing pipeline\n",
    "\n",
    "# Start with this messy text\n",
    "messy_text = \"  HELLO,WORLD,PYTHON,PROGRAMMING  \"\n",
    "\n",
    "# TODO: Step 1 - Remove whitespace\n",
    "# step1 = ?\n",
    "\n",
    "# TODO: Step 2 - Convert to lowercase\n",
    "# step2 = ?\n",
    "\n",
    "# TODO: Step 3 - Split by commas to create a list\n",
    "# step3 = ?\n",
    "\n",
    "# TODO: Step 4 - Join back with spaces instead of commas\n",
    "# step4 = \" \".join(step3)\n",
    "\n",
    "# TODO: Step 5 - Convert to title case\n",
    "# final_result = ?\n",
    "\n",
    "# Print each step\n",
    "# TODO: Show the transformation at each step"
   ]
  },
  {
   "cell_type": "markdown",
   "metadata": {},
   "source": [
    "## 🎯 Part 4: String Indexing and Slicing\n",
    "\n",
    "Strings are sequences, so you can access individual characters or extract substrings:"
   ]
  },
  {
   "cell_type": "code",
   "execution_count": null,
   "metadata": {},
   "source": [
    "# String indexing and slicing demonstration\n",
    "text = \"Python Programming\"\n",
    "print(f\"Full text: '{text}'\")\n",
    "print(f\"Length: {len(text)}\")\n",
    "\n",
    "# Indexing (accessing single characters)\n",
    "print(f\"First character: '{text[0]}'\")\n",
    "print(f\"Last character: '{text[-1]}'\")\n",
    "print(f\"Second character: '{text[1]}'\")\n",
    "\n",
    "# Slicing (extracting substrings)\n",
    "print(f\"First 6 characters: '{text[0:6]}'\")\n",
    "print(f\"From index 7 to end: '{text[7:]}'\")\n",
    "print(f\"Last 4 characters: '{text[-4:]}'\")\n",
    "print(f\"Every second character: '{text[::2]}'\")\n",
    "print(f\"Reversed: '{text[::-1]}'\")"
   ]
  },
  {
   "cell_type": "markdown",
   "metadata": {},
   "source": [
    "### TODO 4.1: Extract Information from Strings"
   ]
  },
  {
   "cell_type": "code",
   "execution_count": null,
   "metadata": {},
   "source": [
    "# TODO: Extract specific parts from strings\n",
    "\n",
    "# Given data\n",
    "student_id = \"S2025-CS-001\"\n",
    "phone_number = \"+31-6-12345678\"\n",
    "file_name = \"report_2025_final.pdf\"\n",
    "\n",
    "# TODO: Extract the year from student_id (characters 1-5)\n",
    "# year = ?\n",
    "\n",
    "# TODO: Extract the department from student_id (characters 6-8)\n",
    "# department = ?\n",
    "\n",
    "# TODO: Extract the country code from phone_number (first 3 characters)\n",
    "# country_code = ?\n",
    "\n",
    "# TODO: Extract the file extension from file_name (last 4 characters)\n",
    "# file_extension = ?\n",
    "\n",
    "# TODO: Extract the base name without extension\n",
    "# base_name = ?  # Hint: everything except the last 4 characters\n",
    "\n",
    "# Print your extractions\n",
    "# TODO: print statements"
   ]
  },
  {
   "cell_type": "markdown",
   "metadata": {},
   "source": [
    "### TODO 4.2: String Analysis"
   ]
  },
  {
   "cell_type": "code",
   "execution_count": null,
   "metadata": {},
   "source": [
    "# TODO: Analyze a string in different ways\n",
    "\n",
    "sentence = \"The quick brown fox jumps over the lazy dog\"\n",
    "\n",
    "# TODO: Find the length of the sentence\n",
    "# length = ?\n",
    "\n",
    "# TODO: Extract the first word\n",
    "# first_word = ?  # Hint: find the first space\n",
    "\n",
    "# TODO: Extract the last word\n",
    "# last_word = ?  # Hint: find the last space\n",
    "\n",
    "# TODO: Get the middle character(s)\n",
    "# middle_char = ?  # Hint: use length // 2\n",
    "\n",
    "# TODO: Extract every third character\n",
    "# every_third = ?\n",
    "\n",
    "# TODO: Create an acronym from the sentence (first letter of each word)\n",
    "# Hint: split by spaces, then take first character of each word\n",
    "# words = sentence.split(\" \")\n",
    "# acronym = ?\n",
    "\n",
    "# Print your analysis\n",
    "# TODO: print statements"
   ]
  },
  {
   "cell_type": "markdown",
   "metadata": {},
   "source": [
    "## 🎯 Part 5: F-strings and String Formatting\n",
    "\n",
    "F-strings (formatted string literals) are the modern way to format strings in Python:"
   ]
  },
  {
   "cell_type": "code",
   "execution_count": null,
   "metadata": {},
   "source": [
    "# F-string examples\n",
    "name = \"Alice\"\n",
    "age = 25\n",
    "height = 1.65\n",
    "gpa = 3.85639\n",
    "\n",
    "# Basic f-string usage\n",
    "print(f\"Hello, my name is {name} and I am {age} years old.\")\n",
    "\n",
    "# F-strings with expressions\n",
    "print(f\"Next year I will be {age + 1} years old.\")\n",
    "print(f\"My height in centimeters is {height * 100} cm.\")\n",
    "\n",
    "# Formatting numbers\n",
    "print(f\"My GPA is {gpa:.2f}\")  # 2 decimal places\n",
    "print(f\"My height is {height:.3f} meters\")  # 3 decimal places\n",
    "\n",
    "# Other useful formatting\n",
    "percentage = 0.856\n",
    "print(f\"Success rate: {percentage:.1%}\")  # Percentage format\n",
    "\n",
    "large_number = 1234567\n",
    "print(f\"Population: {large_number:,}\")  # Thousands separator"
   ]
  },
  {
   "cell_type": "markdown",
   "metadata": {},
   "source": [
    "### TODO 5.1: Create Formatted Reports"
   ]
  },
  {
   "cell_type": "code",
   "execution_count": null,
   "metadata": {},
   "source": [
    "# TODO: Create formatted reports using f-strings\n",
    "\n",
    "# Student data\n",
    "student_name = \"Emma Wilson\"\n",
    "student_age = 22\n",
    "math_grade = 87.6543\n",
    "science_grade = 92.1234\n",
    "english_grade = 89.9876\n",
    "\n",
    "# TODO: Calculate the average grade\n",
    "# average_grade = ?\n",
    "\n",
    "# TODO: Create a formatted student report using f-strings\n",
    "# Include: name, age, each grade (1 decimal), average (2 decimals)\n",
    "# report = f\"Student Report...\"  # Complete this\n",
    "\n",
    "# TODO: Create a progress bar representation\n",
    "# Show average as percentage: \"Progress: 89.5% [=========     ]\"\n",
    "# Hint: Use int(average_grade/10) to determine how many '=' symbols\n",
    "# progress_bar = f\"Progress...\"  # Complete this\n",
    "\n",
    "# Print your formatted report\n",
    "# TODO: print statements"
   ]
  },
  {
   "cell_type": "markdown",
   "metadata": {},
   "source": [
    "### TODO 5.2: Financial Formatting"
   ]
  },
  {
   "cell_type": "code",
   "execution_count": null,
   "metadata": {},
   "source": [
    "# TODO: Format financial data\n",
    "\n",
    "# Financial data\n",
    "salary = 45000\n",
    "bonus = 2500.50\n",
    "tax_rate = 0.25\n",
    "expenses = 1200.75\n",
    "\n",
    "# TODO: Calculate derived values\n",
    "# total_income = ?\n",
    "# tax_amount = ?\n",
    "# net_income = ?\n",
    "# monthly_net = ?\n",
    "\n",
    "# TODO: Create a formatted financial summary\n",
    "# Use appropriate formatting:\n",
    "# - Currency with 2 decimal places\n",
    "# - Percentages\n",
    "# - Thousands separators for large numbers\n",
    "\n",
    "# Example format:\n",
    "# Salary: €45,000.00\n",
    "# Tax Rate: 25.0%\n",
    "# Monthly Net: €2,812.50\n",
    "\n",
    "# TODO: Create and print your financial summary\n",
    "print(\"Financial formatting completed!\")"
   ]
  },
  {
   "cell_type": "markdown",
   "metadata": {},
   "source": [
    "## 🎯 Part 6: Escape Characters\n",
    "\n",
    "Escape characters allow you to include special characters in strings:"
   ]
  },
  {
   "cell_type": "code",
   "execution_count": null,
   "metadata": {},
   "source": [
    "# Common escape characters\n",
    "print(\"Newline character:\")\n",
    "print(\"Line 1\\nLine 2\\nLine 3\")\n",
    "\n",
    "print(\"\\nTab character:\")\n",
    "print(\"Name:\\tAlice\\nAge:\\t25\")\n",
    "\n",
    "print(\"\\nQuotes in strings:\")\n",
    "print(\"She said \\\"Hello!\\\"\")\n",
    "print('It\\'s a beautiful day')\n",
    "\n",
    "print(\"\\nBackslash:\")\n",
    "print(\"File path: C:\\\\Users\\\\Alice\")\n",
    "\n",
    "# Raw strings (prefix with r) - escape characters are ignored\n",
    "print(\"\\nRaw string:\")\n",
    "raw_path = r\"C:\\Users\\Alice\\Documents\"\n",
    "print(raw_path)"
   ]
  },
  {
   "cell_type": "markdown",
   "metadata": {},
   "source": [
    "### TODO 6.1: Format a Menu"
   ]
  },
  {
   "cell_type": "code",
   "execution_count": null,
   "metadata": {},
   "source": [
    "# TODO: Create a formatted menu using escape characters\n",
    "\n",
    "# TODO: Create a restaurant menu with proper formatting\n",
    "# Include tabs for alignment and newlines for structure\n",
    "# Example format:\n",
    "# RESTAURANT MENU\n",
    "# ===============\n",
    "# \n",
    "# Main Courses:\n",
    "# \tPizza Margherita\t€12.50\n",
    "# \tPasta Carbonara\t\t€14.00\n",
    "# \tGrilled Salmon\t\t€18.50\n",
    "\n",
    "# TODO: menu = \"RESTAURANT MENU...\"  # Complete with proper escape characters\n",
    "\n",
    "# TODO: Create a file path string that includes quotes\n",
    "# Something like: The file \"data.txt\" is located at C:\\Users\\Alice\\Documents\n",
    "# file_info = ?\n",
    "\n",
    "# Print your formatted menu and file info\n",
    "# TODO: print statements"
   ]
  },
  {
   "cell_type": "markdown",
   "metadata": {},
   "source": [
    "## 🎯 Part 7: Challenge Problems\n",
    "\n",
    "Ready for some string challenges?"
   ]
  },
  {
   "cell_type": "markdown",
   "metadata": {},
   "source": [
    "### Challenge 7.1: Text Analyzer"
   ]
  },
  {
   "cell_type": "code",
   "execution_count": null,
   "metadata": {},
   "source": [
    "# TODO: Create a comprehensive text analyzer\n",
    "\n",
    "text = \"Python is a powerful programming language. It is easy to learn and versatile.\"\n",
    "\n",
    "# TODO: Analyze this text and calculate:\n",
    "# - Number of characters (including spaces)\n",
    "# - Number of characters (excluding spaces)\n",
    "# - Number of words\n",
    "# - Number of sentences (count periods)\n",
    "# - Most common letter (just count a few letters manually)\n",
    "# - Average word length\n",
    "\n",
    "# TODO: Create a detailed analysis report using f-strings\n",
    "# Format it nicely with proper alignment\n",
    "\n",
    "print(\"Text analysis completed!\")"
   ]
  },
  {
   "cell_type": "markdown",
   "metadata": {},
   "source": [
    "### Challenge 7.2: String Transformer"
   ]
  },
  {
   "cell_type": "code",
   "execution_count": null,
   "metadata": {},
   "source": [
    "# TODO: Create various string transformations\n",
    "\n",
    "original = \"Hello World Python Programming\"\n",
    "\n",
    "# TODO: Create these transformations:\n",
    "# 1. Reverse the entire string\n",
    "# 2. Reverse each word individually (\"olleH dlroW nohtyP gnimmargorP\")\n",
    "# 3. Create a \"leetspeak\" version (replace some letters: e->3, a->@, o->0)\n",
    "# 4. Create an alternating case version (hElLo WoRlD pYtHoN pRoGrAmMiNg)\n",
    "# 5. Remove all vowels\n",
    "# 6. Keep only consonants and spaces\n",
    "\n",
    "# TODO: Print each transformation with a description\n",
    "\n",
    "print(\"String transformations completed!\")"
   ]
  },
  {
   "cell_type": "markdown",
   "metadata": {},
   "source": [
    "### Challenge 7.3: Simple Cipher"
   ]
  },
  {
   "cell_type": "code",
   "execution_count": null,
   "metadata": {},
   "source": [
    "# TODO: Create a simple Caesar cipher (shift each letter by 3 positions)\n",
    "\n",
    "message = \"HELLO\"\n",
    "shift = 3\n",
    "\n",
    "# TODO: Implement a Caesar cipher\n",
    "# A -> D, B -> E, C -> F, etc.\n",
    "# For simplicity, work only with uppercase letters\n",
    "# Hint: Use ord() to get ASCII value, add shift, use chr() to convert back\n",
    "\n",
    "# TODO: encrypted = ?\n",
    "\n",
    "# TODO: Also create the decryption (shift backwards)\n",
    "# decrypted = ?\n",
    "\n",
    "# Print original, encrypted, and decrypted\n",
    "print(\"Cipher challenge completed!\")"
   ]
  },
  {
   "cell_type": "markdown",
   "metadata": {},
   "source": [
    "## 🎯 Summary\n",
    "\n",
    "Congratulations! You've completed Exercise 02. You should now understand:\n",
    "\n",
    "✅ String creation with different quote types  \n",
    "✅ String concatenation and repetition  \n",
    "✅ Essential string methods (upper, lower, strip, split, replace)  \n",
    "✅ String indexing and slicing  \n",
    "✅ F-string formatting with various options  \n",
    "✅ Escape characters for special formatting  \n",
    "\n",
    "### 🚀 Next Steps:\n",
    "- Complete Ex03_Lists_and_Loops to learn about collections and iteration\n",
    "- Practice combining string operations with variables from Ex01\n",
    "- Experiment with more complex string manipulations\n",
    "\n",
    "### 💡 Key Takeaways:\n",
    "- Strings are immutable (cannot be changed, only replaced)\n",
    "- F-strings are the preferred way to format strings in modern Python\n",
    "- String methods return new strings, they don't modify the original\n",
    "- Indexing starts at 0, negative indices count from the end\n",
    "- Use raw strings (r\"\") for paths and regex patterns\n",
    "\n",
    "### 🔧 Common Patterns You've Learned:\n",
    "```python\n",
    "# String creation\n",
    "text = \"Hello World\"\n",
    "multi_line = \"\"\"Line 1\n",
    "Line 2\"\"\"\n",
    "\n",
    "# String operations\n",
    "combined = str1 + \" \" + str2\n",
    "repeated = \"Ha\" * 3\n",
    "\n",
    "# String methods\n",
    "clean = text.strip().lower()\n",
    "words = text.split()\n",
    "new_text = text.replace(\"old\", \"new\")\n",
    "\n",
    "# Indexing and slicing\n",
    "first_char = text[0]\n",
    "last_char = text[-1]\n",
    "substring = text[1:5]\n",
    "\n",
    "# F-string formatting\n",
    "message = f\"Hello {name}, you are {age} years old.\"\n",
    "formatted = f\"Price: €{price:.2f}\"\n",
    "```\n",
    "\n",
    "**Excellent work! You're becoming proficient with Python strings! 🐍**"
   ]
  }
 ],
 "metadata": {
  "kernelspec": {
   "display_name": "Python 3",
   "language": "python",
   "name": "python3"
  },
  "language_info": {
   "codemirror_mode": {
    "name": "ipython",
    "version": 3
   },
   "file_extension": ".py",
   "name": "python",
   "nbconvert_exporter": "python",
   "pygments_lexer": "ipython3",
   "version": "3.8.5"
  }
 },
 "nbformat": 4,
 "nbformat_minor": 4
}