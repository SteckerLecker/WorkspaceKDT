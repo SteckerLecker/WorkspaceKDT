{
 "cells": [
  {
   "cell_type": "markdown",
   "metadata": {},
   "source": [
    "# Python Bootcamp for Machine Learning\n",
    "\n",
    "## Objectives\n",
    "- Master Python fundamentals: variables, data types, control flow\n",
    "- Understand functions and modules\n",
    "- Learn essential data structures\n",
    "- Practice with hands-on exercises\n",
    "\n",
    "This notebook is interactive - run each cell and experiment with the code!"
   ]
  },
  {
   "cell_type": "markdown",
   "metadata": {},
   "source": [
    "## 1. Variables and Data Types\n",
    "\n",
    "Python is dynamically typed - you don't need to declare variable types."
   ]
  },
  {
   "cell_type": "code",
   "metadata": {
    "ExecuteTime": {
     "end_time": "2025-10-08T05:34:33.584003Z",
     "start_time": "2025-10-08T05:34:33.577836Z"
    }
   },
   "source": [
    "# Basic data types\n",
    "integer_var = 42\n",
    "float_var = 3.14159\n",
    "string_var = \"Hello, Machine Learning!\"\n",
    "boolean_var = True\n",
    "none_var = None\n",
    "\n",
    "# Print types and values\n",
    "print(f\"Integer: {integer_var}, Type: {type(integer_var)}\")\n",
    "print(f\"Float: {float_var}, Type: {type(float_var)}\")\n",
    "print(f\"String: {string_var}, Type: {type(string_var)}\")\n",
    "print(f\"Boolean: {boolean_var}, Type: {type(boolean_var)}\")\n",
    "print(f\"None: {none_var}, Type: {type(none_var)}\")"
   ],
   "outputs": [
    {
     "name": "stdout",
     "output_type": "stream",
     "text": [
      "Integer: 42, Type: <class 'int'>\n",
      "Float: 3.14159, Type: <class 'float'>\n",
      "String: Hello, Machine Learning!, Type: <class 'str'>\n",
      "Boolean: True, Type: <class 'bool'>\n",
      "None: None, Type: <class 'NoneType'>\n"
     ]
    }
   ],
   "execution_count": 1
  },
  {
   "cell_type": "code",
   "metadata": {
    "ExecuteTime": {
     "end_time": "2025-10-08T05:34:33.631867Z",
     "start_time": "2025-10-08T05:34:33.626868Z"
    }
   },
   "source": [
    "# Type conversion\n",
    "x = \"123\"\n",
    "y = int(x)  # Convert string to integer\n",
    "z = float(x)  # Convert string to float\n",
    "\n",
    "print(f\"Original: {x} (type: {type(x)})\")\n",
    "print(f\"As integer: {y} (type: {type(y)})\")\n",
    "print(f\"As float: {z} (type: {type(z)})\")\n",
    "\n",
    "# Be careful with conversions!\n",
    "try:\n",
    "    bad_conversion = int(\"hello\")\n",
    "except ValueError as e:\n",
    "    print(f\"\\nError: {e}\")"
   ],
   "outputs": [
    {
     "name": "stdout",
     "output_type": "stream",
     "text": [
      "Original: 123 (type: <class 'str'>)\n",
      "As integer: 123 (type: <class 'int'>)\n",
      "As float: 123.0 (type: <class 'float'>)\n",
      "\n",
      "Error: invalid literal for int() with base 10: 'hello'\n"
     ]
    }
   ],
   "execution_count": 2
  },
  {
   "cell_type": "markdown",
   "metadata": {},
   "source": [
    "### Exercise 1.1\n",
    "Create variables of different types and perform operations on them."
   ]
  },
  {
   "cell_type": "code",
   "metadata": {
    "ExecuteTime": {
     "end_time": "2025-10-08T05:34:33.870238Z",
     "start_time": "2025-10-08T05:34:33.864365Z"
    }
   },
   "source": [
    "# TODO: Create your own variables\n",
    "# 1. Create a variable 'age' with your age\n",
    "# 2. Create a variable 'height' with your height in meters (use float)\n",
    "# 3. Create a variable 'name' with your name\n",
    "# 4. Calculate your age in days (assume 365 days per year)\n",
    "# 5. Print a formatted string with all information\n",
    "\n",
    "# Your code here:\n",
    "age = 25  # Example\n",
    "height = 1.75  # Example\n",
    "name = \"Student\"  # Example\n",
    "age_in_days = age * 365\n",
    "\n",
    "print(f\"Hi, I'm {name}. I'm {age} years old ({age_in_days} days) and {height}m tall.\")"
   ],
   "outputs": [
    {
     "name": "stdout",
     "output_type": "stream",
     "text": [
      "Hi, I'm Student. I'm 25 years old (9125 days) and 1.75m tall.\n"
     ]
    }
   ],
   "execution_count": 3
  },
  {
   "cell_type": "markdown",
   "metadata": {},
   "source": [
    "## 2. Data Structures\n",
    "\n",
    "### 2.1 Lists - Ordered, mutable collections"
   ]
  },
  {
   "cell_type": "code",
   "metadata": {
    "ExecuteTime": {
     "end_time": "2025-10-08T05:34:33.908432Z",
     "start_time": "2025-10-08T05:34:33.902780Z"
    }
   },
   "source": [
    "# Creating and manipulating lists\n",
    "fruits = [\"apple\", \"banana\", \"orange\"]\n",
    "numbers = [1, 2, 3, 4, 5]\n",
    "mixed = [1, \"hello\", 3.14, True, [1, 2, 3]]\n",
    "\n",
    "print(\"Fruits:\", fruits)\n",
    "print(\"First fruit:\", fruits[0])  # Indexing starts at 0\n",
    "print(\"Last fruit:\", fruits[-1])  # Negative indexing\n",
    "\n",
    "# List operations\n",
    "fruits.append(\"grape\")  # Add to end\n",
    "fruits.insert(1, \"mango\")  # Insert at position\n",
    "removed = fruits.pop()  # Remove and return last item\n",
    "\n",
    "print(\"\\nAfter modifications:\", fruits)\n",
    "print(\"Removed:\", removed)\n",
    "\n",
    "# List slicing\n",
    "print(\"\\nSlicing:\")\n",
    "print(\"First two:\", numbers[:2])\n",
    "print(\"Last two:\", numbers[-2:])\n",
    "print(\"Middle:\", numbers[1:4])\n",
    "print(\"Every second:\", numbers[::2])"
   ],
   "outputs": [
    {
     "name": "stdout",
     "output_type": "stream",
     "text": [
      "Fruits: ['apple', 'banana', 'orange']\n",
      "First fruit: apple\n",
      "Last fruit: orange\n",
      "\n",
      "After modifications: ['apple', 'mango', 'banana', 'orange']\n",
      "Removed: grape\n",
      "\n",
      "Slicing:\n",
      "First two: [1, 2]\n",
      "Last two: [4, 5]\n",
      "Middle: [2, 3, 4]\n",
      "Every second: [1, 3, 5]\n"
     ]
    }
   ],
   "execution_count": 4
  },
  {
   "cell_type": "code",
   "metadata": {
    "ExecuteTime": {
     "end_time": "2025-10-08T05:34:34.163907Z",
     "start_time": "2025-10-08T05:34:34.158468Z"
    }
   },
   "source": [
    "# List comprehensions - Pythonic way to create lists\n",
    "squares = [x**2 for x in range(10)]\n",
    "print(\"Squares:\", squares)\n",
    "\n",
    "even_squares = [x**2 for x in range(10) if x % 2 == 0]\n",
    "print(\"Even squares:\", even_squares)\n",
    "\n",
    "# Nested list comprehension\n",
    "matrix = [[i+j for j in range(3)] for i in range(3)]\n",
    "print(\"\\nMatrix:\")\n",
    "for row in matrix:\n",
    "    print(row)"
   ],
   "outputs": [
    {
     "name": "stdout",
     "output_type": "stream",
     "text": [
      "Squares: [0, 1, 4, 9, 16, 25, 36, 49, 64, 81]\n",
      "Even squares: [0, 4, 16, 36, 64]\n",
      "\n",
      "Matrix:\n",
      "[0, 1, 2]\n",
      "[1, 2, 3]\n",
      "[2, 3, 4]\n"
     ]
    }
   ],
   "execution_count": 5
  },
  {
   "cell_type": "markdown",
   "metadata": {},
   "source": [
    "### 2.2 Tuples - Immutable sequences"
   ]
  },
  {
   "cell_type": "code",
   "metadata": {
    "ExecuteTime": {
     "end_time": "2025-10-08T05:34:34.273756Z",
     "start_time": "2025-10-08T05:34:34.268713Z"
    }
   },
   "source": [
    "# Tuples are like lists but immutable\n",
    "coordinates = (10, 20)\n",
    "rgb_color = (255, 128, 0)\n",
    "\n",
    "print(\"Coordinates:\", coordinates)\n",
    "print(\"X:\", coordinates[0], \"Y:\", coordinates[1])\n",
    "\n",
    "# Tuple unpacking\n",
    "x, y = coordinates\n",
    "print(f\"Unpacked: x={x}, y={y}\")\n",
    "\n",
    "# Tuples are immutable\n",
    "try:\n",
    "    coordinates[0] = 30  # This will raise an error\n",
    "except TypeError as e:\n",
    "    print(f\"Error: {e}\")\n",
    "\n",
    "# Use cases: function returns, dictionary keys\n",
    "def get_min_max(numbers):\n",
    "    return min(numbers), max(numbers)\n",
    "\n",
    "min_val, max_val = get_min_max([1, 5, 3, 9, 2])\n",
    "print(f\"\\nMin: {min_val}, Max: {max_val}\")"
   ],
   "outputs": [
    {
     "name": "stdout",
     "output_type": "stream",
     "text": [
      "Coordinates: (10, 20)\n",
      "X: 10 Y: 20\n",
      "Unpacked: x=10, y=20\n",
      "Error: 'tuple' object does not support item assignment\n",
      "\n",
      "Min: 1, Max: 9\n"
     ]
    }
   ],
   "execution_count": 6
  },
  {
   "cell_type": "markdown",
   "metadata": {},
   "source": [
    "### 2.3 Dictionaries - Key-value pairs"
   ]
  },
  {
   "cell_type": "code",
   "metadata": {
    "ExecuteTime": {
     "end_time": "2025-10-08T05:34:34.374807Z",
     "start_time": "2025-10-08T05:34:34.369361Z"
    }
   },
   "source": [
    "# Creating dictionaries\n",
    "person = {\n",
    "    \"name\": \"Alice\",\n",
    "    \"age\": 30,\n",
    "    \"city\": \"Berlin\",\n",
    "    \"skills\": [\"Python\", \"ML\", \"Data Science\"]\n",
    "}\n",
    "\n",
    "print(\"Person:\", person)\n",
    "print(\"Name:\", person[\"name\"])\n",
    "print(\"Skills:\", person[\"skills\"])\n",
    "\n",
    "# Safe access with get()\n",
    "print(\"Email:\", person.get(\"email\", \"Not provided\"))\n",
    "\n",
    "# Adding and updating\n",
    "person[\"email\"] = \"alice@example.com\"\n",
    "person[\"age\"] = 31\n",
    "\n",
    "# Iterating through dictionaries\n",
    "print(\"\\nIterating:\")\n",
    "for key, value in person.items():\n",
    "    print(f\"  {key}: {value}\")"
   ],
   "outputs": [
    {
     "name": "stdout",
     "output_type": "stream",
     "text": [
      "Person: {'name': 'Alice', 'age': 30, 'city': 'Berlin', 'skills': ['Python', 'ML', 'Data Science']}\n",
      "Name: Alice\n",
      "Skills: ['Python', 'ML', 'Data Science']\n",
      "Email: Not provided\n",
      "\n",
      "Iterating:\n",
      "  name: Alice\n",
      "  age: 31\n",
      "  city: Berlin\n",
      "  skills: ['Python', 'ML', 'Data Science']\n",
      "  email: alice@example.com\n"
     ]
    }
   ],
   "execution_count": 7
  },
  {
   "cell_type": "code",
   "metadata": {
    "ExecuteTime": {
     "end_time": "2025-10-08T05:34:34.449193Z",
     "start_time": "2025-10-08T05:34:34.444610Z"
    }
   },
   "source": [
    "# Dictionary comprehensions\n",
    "numbers = [1, 2, 3, 4, 5]\n",
    "squared_dict = {x: x**2 for x in numbers}\n",
    "print(\"Squared dictionary:\", squared_dict)\n",
    "\n",
    "# Practical example: Word frequency counter\n",
    "text = \"the quick brown fox jumps over the lazy dog the fox\"\n",
    "words = text.split()\n",
    "word_count = {}\n",
    "\n",
    "for word in words:\n",
    "    word_count[word] = word_count.get(word, 0) + 1\n",
    "\n",
    "print(\"\\nWord frequencies:\", word_count)"
   ],
   "outputs": [
    {
     "name": "stdout",
     "output_type": "stream",
     "text": [
      "Squared dictionary: {1: 1, 2: 4, 3: 9, 4: 16, 5: 25}\n",
      "\n",
      "Word frequencies: {'the': 3, 'quick': 1, 'brown': 1, 'fox': 2, 'jumps': 1, 'over': 1, 'lazy': 1, 'dog': 1}\n"
     ]
    }
   ],
   "execution_count": 8
  },
  {
   "cell_type": "markdown",
   "metadata": {},
   "source": [
    "### 2.4 Sets - Unique, unordered collections"
   ]
  },
  {
   "cell_type": "code",
   "metadata": {
    "ExecuteTime": {
     "end_time": "2025-10-08T05:34:34.559318Z",
     "start_time": "2025-10-08T05:34:34.552829Z"
    }
   },
   "source": [
    "# Creating sets\n",
    "fruits_a = {\"apple\", \"banana\", \"orange\", \"apple\"}  # Duplicates removed\n",
    "fruits_b = {\"banana\", \"grape\", \"kiwi\"}\n",
    "\n",
    "print(\"Set A:\", fruits_a)\n",
    "print(\"Set B:\", fruits_b)\n",
    "\n",
    "# Set operations\n",
    "print(\"\\nSet Operations:\")\n",
    "print(\"Union (A | B):\", fruits_a | fruits_b)\n",
    "print(\"Intersection (A & B):\", fruits_a & fruits_b)\n",
    "print(\"Difference (A - B):\", fruits_a - fruits_b)\n",
    "print(\"Symmetric Difference (A ^ B):\", fruits_a ^ fruits_b)\n",
    "\n",
    "# Practical use: Remove duplicates\n",
    "numbers_with_dupes = [1, 2, 2, 3, 3, 3, 4, 5, 5]\n",
    "unique_numbers = list(set(numbers_with_dupes))\n",
    "print(\"\\nUnique numbers:\", sorted(unique_numbers))"
   ],
   "outputs": [
    {
     "name": "stdout",
     "output_type": "stream",
     "text": [
      "Set A: {'apple', 'orange', 'banana'}\n",
      "Set B: {'banana', 'kiwi', 'grape'}\n",
      "\n",
      "Set Operations:\n",
      "Union (A | B): {'banana', 'kiwi', 'orange', 'apple', 'grape'}\n",
      "Intersection (A & B): {'banana'}\n",
      "Difference (A - B): {'apple', 'orange'}\n",
      "Symmetric Difference (A ^ B): {'kiwi', 'apple', 'grape', 'orange'}\n",
      "\n",
      "Unique numbers: [1, 2, 3, 4, 5]\n"
     ]
    }
   ],
   "execution_count": 9
  },
  {
   "cell_type": "markdown",
   "metadata": {},
   "source": [
    "### Exercise 2.1\n",
    "Practice with data structures"
   ]
  },
  {
   "cell_type": "code",
   "metadata": {
    "ExecuteTime": {
     "end_time": "2025-10-08T05:34:34.643393Z",
     "start_time": "2025-10-08T05:34:34.638715Z"
    }
   },
   "source": [
    "# TODO: Complete these tasks\n",
    "# 1. Create a list of your 5 favorite movies\n",
    "# 2. Add a new movie to the list\n",
    "# 3. Create a dictionary with movie titles as keys and ratings (1-10) as values\n",
    "# 4. Find the average rating\n",
    "# 5. Create a set of genres from all movies\n",
    "\n",
    "# Example solution:\n",
    "movies = [\"Inception\", \"Matrix\", \"Interstellar\", \"The Dark Knight\", \"Pulp Fiction\"]\n",
    "movies.append(\"Shawshank Redemption\")\n",
    "\n",
    "ratings = {\n",
    "    \"Inception\": 9,\n",
    "    \"Matrix\": 8,\n",
    "    \"Interstellar\": 9,\n",
    "    \"The Dark Knight\": 10,\n",
    "    \"Pulp Fiction\": 8,\n",
    "    \"Shawshank Redemption\": 10\n",
    "}\n",
    "\n",
    "avg_rating = sum(ratings.values()) / len(ratings)\n",
    "print(f\"Average rating: {avg_rating:.2f}\")\n",
    "\n",
    "genres = {\"Sci-Fi\", \"Action\", \"Drama\", \"Crime\", \"Thriller\"}\n",
    "print(f\"Genres: {genres}\")"
   ],
   "outputs": [
    {
     "name": "stdout",
     "output_type": "stream",
     "text": [
      "Average rating: 9.00\n",
      "Genres: {'Thriller', 'Action', 'Drama', 'Crime', 'Sci-Fi'}\n"
     ]
    }
   ],
   "execution_count": 10
  },
  {
   "cell_type": "markdown",
   "metadata": {},
   "source": [
    "## 3. Control Flow\n",
    "\n",
    "### 3.1 If-Elif-Else Statements"
   ]
  },
  {
   "cell_type": "code",
   "metadata": {
    "ExecuteTime": {
     "end_time": "2025-10-08T05:34:34.726371Z",
     "start_time": "2025-10-08T05:34:34.720856Z"
    }
   },
   "source": [
    "# Basic conditional statements\n",
    "score = 85\n",
    "\n",
    "if score >= 90:\n",
    "    grade = \"A\"\n",
    "elif score >= 80:\n",
    "    grade = \"B\"\n",
    "elif score >= 70:\n",
    "    grade = \"C\"\n",
    "elif score >= 60:\n",
    "    grade = \"D\"\n",
    "else:\n",
    "    grade = \"F\"\n",
    "\n",
    "print(f\"Score: {score}, Grade: {grade}\")\n",
    "\n",
    "# Ternary operator (conditional expression)\n",
    "status = \"Pass\" if score >= 60 else \"Fail\"\n",
    "print(f\"Status: {status}\")\n",
    "\n",
    "# Multiple conditions\n",
    "age = 25\n",
    "has_license = True\n",
    "\n",
    "if age >= 18 and has_license:\n",
    "    print(\"Can drive\")\n",
    "elif age >= 18 and not has_license:\n",
    "    print(\"Need to get a license\")\n",
    "else:\n",
    "    print(\"Too young to drive\")"
   ],
   "outputs": [
    {
     "name": "stdout",
     "output_type": "stream",
     "text": [
      "Score: 85, Grade: B\n",
      "Status: Pass\n",
      "Can drive\n"
     ]
    }
   ],
   "execution_count": 11
  },
  {
   "cell_type": "markdown",
   "metadata": {},
   "source": [
    "### 3.2 Loops"
   ]
  },
  {
   "cell_type": "code",
   "metadata": {
    "ExecuteTime": {
     "end_time": "2025-10-08T05:34:34.833753Z",
     "start_time": "2025-10-08T05:34:34.828716Z"
    }
   },
   "source": [
    "# For loops\n",
    "print(\"For loop examples:\")\n",
    "\n",
    "# Iterate over list\n",
    "colors = [\"red\", \"green\", \"blue\"]\n",
    "for color in colors:\n",
    "    print(f\"  Color: {color}\")\n",
    "\n",
    "# Using range\n",
    "print(\"\\nCounting:\")\n",
    "for i in range(5):\n",
    "    print(f\"  {i}\", end=\" \")\n",
    "print()\n",
    "\n",
    "# Enumerate for index and value\n",
    "print(\"\\nWith enumerate:\")\n",
    "for idx, color in enumerate(colors):\n",
    "    print(f\"  {idx}: {color}\")\n",
    "\n",
    "# Zip for parallel iteration\n",
    "names = [\"Alice\", \"Bob\", \"Charlie\"]\n",
    "ages = [25, 30, 35]\n",
    "print(\"\\nWith zip:\")\n",
    "for name, age in zip(names, ages):\n",
    "    print(f\"  {name} is {age} years old\")"
   ],
   "outputs": [
    {
     "name": "stdout",
     "output_type": "stream",
     "text": [
      "For loop examples:\n",
      "  Color: red\n",
      "  Color: green\n",
      "  Color: blue\n",
      "\n",
      "Counting:\n",
      "  0   1   2   3   4 \n",
      "\n",
      "With enumerate:\n",
      "  0: red\n",
      "  1: green\n",
      "  2: blue\n",
      "\n",
      "With zip:\n",
      "  Alice is 25 years old\n",
      "  Bob is 30 years old\n",
      "  Charlie is 35 years old\n"
     ]
    }
   ],
   "execution_count": 12
  },
  {
   "cell_type": "code",
   "metadata": {
    "ExecuteTime": {
     "end_time": "2025-10-08T05:34:34.928011Z",
     "start_time": "2025-10-08T05:34:34.922400Z"
    }
   },
   "source": [
    "# While loops\n",
    "print(\"While loop examples:\")\n",
    "\n",
    "# Basic while loop\n",
    "count = 0\n",
    "while count < 5:\n",
    "    print(f\"Count: {count}\")\n",
    "    count += 1\n",
    "\n",
    "# Break and continue\n",
    "print(\"\\nBreak and continue:\")\n",
    "for i in range(10):\n",
    "    if i == 3:\n",
    "        continue  # Skip this iteration\n",
    "    if i == 7:\n",
    "        break  # Exit loop\n",
    "    print(i, end=\" \")\n",
    "print()\n",
    "\n",
    "# Else clause in loops (runs if loop completes without break)\n",
    "print(\"\\nLoop with else:\")\n",
    "for i in range(5):\n",
    "    if i == 10:  # This won't happen\n",
    "        break\n",
    "else:\n",
    "    print(\"Loop completed without break\")"
   ],
   "outputs": [
    {
     "name": "stdout",
     "output_type": "stream",
     "text": [
      "While loop examples:\n",
      "Count: 0\n",
      "Count: 1\n",
      "Count: 2\n",
      "Count: 3\n",
      "Count: 4\n",
      "\n",
      "Break and continue:\n",
      "0 1 2 4 5 6 \n",
      "\n",
      "Loop with else:\n",
      "Loop completed without break\n"
     ]
    }
   ],
   "execution_count": 13
  },
  {
   "cell_type": "markdown",
   "metadata": {},
   "source": [
    "### Exercise 3.1\n",
    "Practice control flow"
   ]
  },
  {
   "cell_type": "code",
   "metadata": {
    "ExecuteTime": {
     "end_time": "2025-10-08T05:34:35.011243Z",
     "start_time": "2025-10-08T05:34:35.006298Z"
    }
   },
   "source": [
    "# TODO: FizzBuzz Challenge\n",
    "# Print numbers from 1 to 30\n",
    "# If divisible by 3, print \"Fizz\" instead\n",
    "# If divisible by 5, print \"Buzz\" instead\n",
    "# If divisible by both, print \"FizzBuzz\"\n",
    "\n",
    "# Your solution:\n",
    "for i in range(1, 31):\n",
    "    if i % 15 == 0:  # Divisible by both 3 and 5\n",
    "        print(\"FizzBuzz\", end=\" \")\n",
    "    elif i % 3 == 0:\n",
    "        print(\"Fizz\", end=\" \")\n",
    "    elif i % 5 == 0:\n",
    "        print(\"Buzz\", end=\" \")\n",
    "    else:\n",
    "        print(i, end=\" \")\n",
    "print()"
   ],
   "outputs": [
    {
     "name": "stdout",
     "output_type": "stream",
     "text": [
      "1 2 Fizz 4 Buzz Fizz 7 8 Fizz Buzz 11 Fizz 13 14 FizzBuzz 16 17 Fizz 19 Buzz Fizz 22 23 Fizz Buzz 26 Fizz 28 29 FizzBuzz \n"
     ]
    }
   ],
   "execution_count": 14
  },
  {
   "cell_type": "markdown",
   "metadata": {},
   "source": [
    "## 4. Functions\n",
    "\n",
    "Functions help organize code and make it reusable."
   ]
  },
  {
   "cell_type": "code",
   "metadata": {
    "ExecuteTime": {
     "end_time": "2025-10-08T05:34:35.100637Z",
     "start_time": "2025-10-08T05:34:35.094795Z"
    }
   },
   "source": [
    "# Basic function definition\n",
    "def greet(name):\n",
    "    \"\"\"Simple greeting function\"\"\"\n",
    "    return f\"Hello, {name}!\"\n",
    "\n",
    "print(greet(\"Alice\"))\n",
    "\n",
    "# Function with default parameters\n",
    "def power(base, exponent=2):\n",
    "    \"\"\"Calculate base raised to exponent (default: square)\"\"\"\n",
    "    return base ** exponent\n",
    "\n",
    "print(f\"2^3 = {power(2, 3)}\")\n",
    "print(f\"5^2 = {power(5)}\")\n",
    "\n",
    "# Function with multiple returns\n",
    "def calculate_stats(numbers):\n",
    "    \"\"\"Calculate mean, min, and max of a list\"\"\"\n",
    "    if not numbers:\n",
    "        return None, None, None\n",
    "    \n",
    "    mean = sum(numbers) / len(numbers)\n",
    "    return mean, min(numbers), max(numbers)\n",
    "\n",
    "data = [1, 2, 3, 4, 5]\n",
    "avg, min_val, max_val = calculate_stats(data)\n",
    "print(f\"Stats: Mean={avg}, Min={min_val}, Max={max_val}\")"
   ],
   "outputs": [
    {
     "name": "stdout",
     "output_type": "stream",
     "text": [
      "Hello, Alice!\n",
      "2^3 = 8\n",
      "5^2 = 25\n",
      "Stats: Mean=3.0, Min=1, Max=5\n"
     ]
    }
   ],
   "execution_count": 15
  },
  {
   "cell_type": "code",
   "metadata": {
    "ExecuteTime": {
     "end_time": "2025-10-08T05:34:35.185803Z",
     "start_time": "2025-10-08T05:34:35.180626Z"
    }
   },
   "source": [
    "# *args and **kwargs\n",
    "def flexible_function(*args, **kwargs):\n",
    "    \"\"\"Function that accepts any number of arguments\"\"\"\n",
    "    print(f\"Positional arguments: {args}\")\n",
    "    print(f\"Keyword arguments: {kwargs}\")\n",
    "\n",
    "flexible_function(1, 2, 3, name=\"Alice\", age=30)\n",
    "\n",
    "# Lambda functions (anonymous functions)\n",
    "square = lambda x: x**2\n",
    "print(f\"\\nSquare of 5: {square(5)}\")\n",
    "\n",
    "# Using lambda with built-in functions\n",
    "numbers = [1, 2, 3, 4, 5]\n",
    "squared = list(map(lambda x: x**2, numbers))\n",
    "evens = list(filter(lambda x: x % 2 == 0, numbers))\n",
    "\n",
    "print(f\"Squared: {squared}\")\n",
    "print(f\"Evens: {evens}\")"
   ],
   "outputs": [
    {
     "name": "stdout",
     "output_type": "stream",
     "text": [
      "Positional arguments: (1, 2, 3)\n",
      "Keyword arguments: {'name': 'Alice', 'age': 30}\n",
      "\n",
      "Square of 5: 25\n",
      "Squared: [1, 4, 9, 16, 25]\n",
      "Evens: [2, 4]\n"
     ]
    }
   ],
   "execution_count": 16
  },
  {
   "cell_type": "code",
   "metadata": {
    "ExecuteTime": {
     "end_time": "2025-10-08T05:34:35.371917Z",
     "start_time": "2025-10-08T05:34:35.266612Z"
    }
   },
   "source": [
    "# Decorators (advanced)\n",
    "def timer_decorator(func):\n",
    "    \"\"\"Decorator to time function execution\"\"\"\n",
    "    import time\n",
    "    \n",
    "    def wrapper(*args, **kwargs):\n",
    "        start = time.time()\n",
    "        result = func(*args, **kwargs)\n",
    "        end = time.time()\n",
    "        print(f\"{func.__name__} took {end - start:.4f} seconds\")\n",
    "        return result\n",
    "    return wrapper\n",
    "\n",
    "@timer_decorator\n",
    "def slow_function():\n",
    "    \"\"\"Simulate a slow function\"\"\"\n",
    "    import time\n",
    "    time.sleep(0.1)\n",
    "    return \"Done\"\n",
    "\n",
    "result = slow_function()\n",
    "print(f\"Result: {result}\")"
   ],
   "outputs": [
    {
     "name": "stdout",
     "output_type": "stream",
     "text": [
      "slow_function took 0.1009 seconds\n",
      "Result: Done\n"
     ]
    }
   ],
   "execution_count": 17
  },
  {
   "cell_type": "markdown",
   "metadata": {},
   "source": [
    "### Exercise 4.1\n",
    "Create your own functions"
   ]
  },
  {
   "cell_type": "code",
   "metadata": {
    "ExecuteTime": {
     "end_time": "2025-10-08T05:34:35.395711Z",
     "start_time": "2025-10-08T05:34:35.389298Z"
    }
   },
   "source": [
    "# TODO: Create these functions\n",
    "# 1. celsius_to_fahrenheit(celsius) - Convert temperature\n",
    "# 2. is_prime(n) - Check if number is prime\n",
    "# 3. word_frequency(text) - Count word frequencies in text\n",
    "\n",
    "# Example solutions:\n",
    "def celsius_to_fahrenheit(celsius):\n",
    "    \"\"\"Convert Celsius to Fahrenheit\"\"\"\n",
    "    return celsius * 9/5 + 32\n",
    "\n",
    "def is_prime(n):\n",
    "    \"\"\"Check if a number is prime\"\"\"\n",
    "    if n < 2:\n",
    "        return False\n",
    "    for i in range(2, int(n**0.5) + 1):\n",
    "        if n % i == 0:\n",
    "            return False\n",
    "    return True\n",
    "\n",
    "def word_frequency(text):\n",
    "    \"\"\"Count word frequencies in text\"\"\"\n",
    "    words = text.lower().split()\n",
    "    freq = {}\n",
    "    for word in words:\n",
    "        freq[word] = freq.get(word, 0) + 1\n",
    "    return freq\n",
    "\n",
    "# Test the functions\n",
    "print(f\"25°C = {celsius_to_fahrenheit(25)}°F\")\n",
    "print(f\"Is 17 prime? {is_prime(17)}\")\n",
    "print(f\"Word frequencies: {word_frequency('the cat sat on the mat')}\")"
   ],
   "outputs": [
    {
     "name": "stdout",
     "output_type": "stream",
     "text": [
      "25°C = 77.0°F\n",
      "Is 17 prime? True\n",
      "Word frequencies: {'the': 2, 'cat': 1, 'sat': 1, 'on': 1, 'mat': 1}\n"
     ]
    }
   ],
   "execution_count": 18
  },
  {
   "cell_type": "markdown",
   "metadata": {},
   "source": [
    "## 5. Error Handling\n",
    "\n",
    "Properly handling errors makes code more robust."
   ]
  },
  {
   "cell_type": "code",
   "metadata": {
    "ExecuteTime": {
     "end_time": "2025-10-08T05:34:35.448354Z",
     "start_time": "2025-10-08T05:34:35.442994Z"
    }
   },
   "source": [
    "# Basic try-except\n",
    "def safe_divide(a, b):\n",
    "    \"\"\"Safely divide two numbers\"\"\"\n",
    "    try:\n",
    "        result = a / b\n",
    "        return result\n",
    "    except ZeroDivisionError:\n",
    "        print(\"Error: Cannot divide by zero\")\n",
    "        return None\n",
    "    except TypeError:\n",
    "        print(\"Error: Invalid types for division\")\n",
    "        return None\n",
    "\n",
    "print(safe_divide(10, 2))\n",
    "print(safe_divide(10, 0))\n",
    "print(safe_divide(10, \"two\"))\n",
    "\n",
    "# Multiple exception handling\n",
    "def process_data(data):\n",
    "    \"\"\"Process data with error handling\"\"\"\n",
    "    try:\n",
    "        # Try to process data\n",
    "        result = sum(data) / len(data)\n",
    "        return result\n",
    "    except TypeError:\n",
    "        print(\"Error: Data contains non-numeric values\")\n",
    "    except ZeroDivisionError:\n",
    "        print(\"Error: Empty data list\")\n",
    "    except Exception as e:\n",
    "        print(f\"Unexpected error: {e}\")\n",
    "    finally:\n",
    "        print(\"Processing complete\")\n",
    "\n",
    "print(\"\\nProcessing different data:\")\n",
    "print(process_data([1, 2, 3, 4, 5]))\n",
    "print(process_data([]))\n",
    "print(process_data([1, \"two\", 3]))"
   ],
   "outputs": [
    {
     "name": "stdout",
     "output_type": "stream",
     "text": [
      "5.0\n",
      "Error: Cannot divide by zero\n",
      "None\n",
      "Error: Invalid types for division\n",
      "None\n",
      "\n",
      "Processing different data:\n",
      "Processing complete\n",
      "3.0\n",
      "Error: Empty data list\n",
      "Processing complete\n",
      "None\n",
      "Error: Data contains non-numeric values\n",
      "Processing complete\n",
      "None\n"
     ]
    }
   ],
   "execution_count": 19
  },
  {
   "cell_type": "markdown",
   "metadata": {},
   "source": [
    "## 6. File Operations\n",
    "\n",
    "Reading and writing files is essential for data processing."
   ]
  },
  {
   "cell_type": "code",
   "metadata": {
    "ExecuteTime": {
     "end_time": "2025-10-08T05:34:35.550622Z",
     "start_time": "2025-10-08T05:34:35.533149Z"
    }
   },
   "source": [
    "# Writing to a file\n",
    "data = [\n",
    "    \"Line 1: Python is powerful\",\n",
    "    \"Line 2: Machine Learning is exciting\",\n",
    "    \"Line 3: Data Science is the future\"\n",
    "]\n",
    "\n",
    "# Write text file\n",
    "with open('example.txt', 'w') as f:\n",
    "    for line in data:\n",
    "        f.write(line + '\\n')\n",
    "print(\"File written successfully\")\n",
    "\n",
    "# Read text file\n",
    "print(\"\\nReading file:\")\n",
    "with open('example.txt', 'r') as f:\n",
    "    content = f.read()\n",
    "    print(content)\n",
    "\n",
    "# Read line by line\n",
    "print(\"Reading line by line:\")\n",
    "with open('example.txt', 'r') as f:\n",
    "    for line_num, line in enumerate(f, 1):\n",
    "        print(f\"  {line_num}: {line.strip()}\")"
   ],
   "outputs": [
    {
     "name": "stdout",
     "output_type": "stream",
     "text": [
      "File written successfully\n",
      "\n",
      "Reading file:\n",
      "Line 1: Python is powerful\n",
      "Line 2: Machine Learning is exciting\n",
      "Line 3: Data Science is the future\n",
      "\n",
      "Reading line by line:\n",
      "  1: Line 1: Python is powerful\n",
      "  2: Line 2: Machine Learning is exciting\n",
      "  3: Line 3: Data Science is the future\n"
     ]
    }
   ],
   "execution_count": 20
  },
  {
   "cell_type": "code",
   "metadata": {
    "ExecuteTime": {
     "end_time": "2025-10-08T05:34:35.637582Z",
     "start_time": "2025-10-08T05:34:35.617958Z"
    }
   },
   "source": [
    "# Working with CSV files\n",
    "import csv\n",
    "\n",
    "# Write CSV\n",
    "data = [\n",
    "    ['Name', 'Age', 'City'],\n",
    "    ['Alice', 30, 'Berlin'],\n",
    "    ['Bob', 25, 'Paris'],\n",
    "    ['Charlie', 35, 'London']\n",
    "]\n",
    "\n",
    "with open('people.csv', 'w', newline='') as f:\n",
    "    writer = csv.writer(f)\n",
    "    writer.writerows(data)\n",
    "print(\"CSV written successfully\")\n",
    "\n",
    "# Read CSV\n",
    "print(\"\\nReading CSV:\")\n",
    "with open('people.csv', 'r') as f:\n",
    "    reader = csv.DictReader(f)\n",
    "    for row in reader:\n",
    "        print(f\"  {row['Name']} is {row['Age']} years old and lives in {row['City']}\")"
   ],
   "outputs": [
    {
     "name": "stdout",
     "output_type": "stream",
     "text": [
      "CSV written successfully\n",
      "\n",
      "Reading CSV:\n",
      "  Alice is 30 years old and lives in Berlin\n",
      "  Bob is 25 years old and lives in Paris\n",
      "  Charlie is 35 years old and lives in London\n"
     ]
    }
   ],
   "execution_count": 21
  },
  {
   "cell_type": "markdown",
   "metadata": {},
   "source": [
    "## 7. Classes and Object-Oriented Programming (OOP)\n",
    "\n",
    "Classes allow you to bundle data and functionality together."
   ]
  },
  {
   "cell_type": "code",
   "metadata": {
    "ExecuteTime": {
     "end_time": "2025-10-08T05:34:35.710764Z",
     "start_time": "2025-10-08T05:34:35.704132Z"
    }
   },
   "source": [
    "# Basic class definition\n",
    "class DataPoint:\n",
    "    \"\"\"Represents a data point in 2D space\"\"\"\n",
    "    \n",
    "    def __init__(self, x, y, label=None):\n",
    "        \"\"\"Initialize a data point\"\"\"\n",
    "        self.x = x\n",
    "        self.y = y\n",
    "        self.label = label\n",
    "    \n",
    "    def distance_from_origin(self):\n",
    "        \"\"\"Calculate distance from origin\"\"\"\n",
    "        return (self.x**2 + self.y**2)**0.5\n",
    "    \n",
    "    def distance_to(self, other):\n",
    "        \"\"\"Calculate distance to another point\"\"\"\n",
    "        dx = self.x - other.x\n",
    "        dy = self.y - other.y\n",
    "        return (dx**2 + dy**2)**0.5\n",
    "    \n",
    "    def __str__(self):\n",
    "        \"\"\"String representation\"\"\"\n",
    "        return f\"DataPoint({self.x}, {self.y}, label={self.label})\"\n",
    "    \n",
    "    def __repr__(self):\n",
    "        \"\"\"Developer representation\"\"\"\n",
    "        return self.__str__()\n",
    "\n",
    "# Create instances\n",
    "p1 = DataPoint(3, 4, \"A\")\n",
    "p2 = DataPoint(6, 8, \"B\")\n",
    "\n",
    "print(f\"Point 1: {p1}\")\n",
    "print(f\"Point 2: {p2}\")\n",
    "print(f\"Distance from origin (p1): {p1.distance_from_origin():.2f}\")\n",
    "print(f\"Distance between points: {p1.distance_to(p2):.2f}\")"
   ],
   "outputs": [
    {
     "name": "stdout",
     "output_type": "stream",
     "text": [
      "Point 1: DataPoint(3, 4, label=A)\n",
      "Point 2: DataPoint(6, 8, label=B)\n",
      "Distance from origin (p1): 5.00\n",
      "Distance between points: 5.00\n"
     ]
    }
   ],
   "execution_count": 22
  },
  {
   "cell_type": "code",
   "metadata": {
    "ExecuteTime": {
     "end_time": "2025-10-08T05:34:35.790936Z",
     "start_time": "2025-10-08T05:34:35.784424Z"
    }
   },
   "source": [
    "# Inheritance example\n",
    "class Dataset:\n",
    "    \"\"\"Base class for datasets\"\"\"\n",
    "    \n",
    "    def __init__(self, name):\n",
    "        self.name = name\n",
    "        self.data = []\n",
    "    \n",
    "    def add_sample(self, sample):\n",
    "        \"\"\"Add a sample to the dataset\"\"\"\n",
    "        self.data.append(sample)\n",
    "    \n",
    "    def size(self):\n",
    "        \"\"\"Get dataset size\"\"\"\n",
    "        return len(self.data)\n",
    "\n",
    "class LabeledDataset(Dataset):\n",
    "    \"\"\"Dataset with labels\"\"\"\n",
    "    \n",
    "    def __init__(self, name):\n",
    "        super().__init__(name)\n",
    "        self.labels = []\n",
    "    \n",
    "    def add_sample(self, sample, label):\n",
    "        \"\"\"Add a labeled sample\"\"\"\n",
    "        super().add_sample(sample)\n",
    "        self.labels.append(label)\n",
    "    \n",
    "    def get_unique_labels(self):\n",
    "        \"\"\"Get unique labels in dataset\"\"\"\n",
    "        return set(self.labels)\n",
    "\n",
    "# Use the classes\n",
    "dataset = LabeledDataset(\"Iris\")\n",
    "dataset.add_sample([5.1, 3.5, 1.4, 0.2], \"setosa\")\n",
    "dataset.add_sample([7.0, 3.2, 4.7, 1.4], \"versicolor\")\n",
    "dataset.add_sample([6.3, 3.3, 6.0, 2.5], \"virginica\")\n",
    "\n",
    "print(f\"Dataset: {dataset.name}\")\n",
    "print(f\"Size: {dataset.size()}\")\n",
    "print(f\"Unique labels: {dataset.get_unique_labels()}\")"
   ],
   "outputs": [
    {
     "name": "stdout",
     "output_type": "stream",
     "text": [
      "Dataset: Iris\n",
      "Size: 3\n",
      "Unique labels: {'virginica', 'setosa', 'versicolor'}\n"
     ]
    }
   ],
   "execution_count": 23
  },
  {
   "cell_type": "markdown",
   "metadata": {},
   "source": [
    "## 8. Important Libraries for ML\n",
    "\n",
    "Brief introduction to essential libraries."
   ]
  },
  {
   "cell_type": "code",
   "metadata": {
    "ExecuteTime": {
     "end_time": "2025-10-08T05:34:36.017534Z",
     "start_time": "2025-10-08T05:34:35.885786Z"
    }
   },
   "source": [
    "# NumPy - Numerical computing\n",
    "import numpy as np\n",
    "\n",
    "# Create arrays\n",
    "arr1 = np.array([1, 2, 3, 4, 5])\n",
    "arr2 = np.array([[1, 2, 3], [4, 5, 6]])\n",
    "\n",
    "print(\"1D array:\", arr1)\n",
    "print(\"2D array:\\n\", arr2)\n",
    "print(\"Shape:\", arr2.shape)\n",
    "print(\"Data type:\", arr2.dtype)\n",
    "\n",
    "# Array operations\n",
    "print(\"\\nOperations:\")\n",
    "print(\"Sum:\", np.sum(arr1))\n",
    "print(\"Mean:\", np.mean(arr1))\n",
    "print(\"Std:\", np.std(arr1))\n",
    "print(\"Element-wise square:\", arr1 ** 2)"
   ],
   "outputs": [
    {
     "name": "stdout",
     "output_type": "stream",
     "text": [
      "1D array: [1 2 3 4 5]\n",
      "2D array:\n",
      " [[1 2 3]\n",
      " [4 5 6]]\n",
      "Shape: (2, 3)\n",
      "Data type: int32\n",
      "\n",
      "Operations:\n",
      "Sum: 15\n",
      "Mean: 3.0\n",
      "Std: 1.4142135623730951\n",
      "Element-wise square: [ 1  4  9 16 25]\n"
     ]
    }
   ],
   "execution_count": 24
  },
  {
   "cell_type": "code",
   "metadata": {
    "ExecuteTime": {
     "end_time": "2025-10-08T05:34:36.484322Z",
     "start_time": "2025-10-08T05:34:36.040612Z"
    }
   },
   "source": [
    "# Pandas - Data manipulation\n",
    "import pandas as pd\n",
    "\n",
    "# Create DataFrame\n",
    "df = pd.DataFrame({\n",
    "    'Name': ['Alice', 'Bob', 'Charlie', 'David'],\n",
    "    'Age': [25, 30, 35, 28],\n",
    "    'City': ['Berlin', 'Paris', 'London', 'Madrid'],\n",
    "    'Salary': [50000, 60000, 75000, 55000]\n",
    "})\n",
    "\n",
    "print(\"DataFrame:\")\n",
    "print(df)\n",
    "print(\"\\nInfo:\")\n",
    "print(df.info())\n",
    "print(\"\\nStatistics:\")\n",
    "print(df.describe())\n",
    "print(\"\\nFiltered (Age > 28):\")\n",
    "print(df[df['Age'] > 28])"
   ],
   "outputs": [
    {
     "name": "stdout",
     "output_type": "stream",
     "text": [
      "DataFrame:\n",
      "      Name  Age    City  Salary\n",
      "0    Alice   25  Berlin   50000\n",
      "1      Bob   30   Paris   60000\n",
      "2  Charlie   35  London   75000\n",
      "3    David   28  Madrid   55000\n",
      "\n",
      "Info:\n",
      "<class 'pandas.core.frame.DataFrame'>\n",
      "RangeIndex: 4 entries, 0 to 3\n",
      "Data columns (total 4 columns):\n",
      " #   Column  Non-Null Count  Dtype \n",
      "---  ------  --------------  ----- \n",
      " 0   Name    4 non-null      object\n",
      " 1   Age     4 non-null      int64 \n",
      " 2   City    4 non-null      object\n",
      " 3   Salary  4 non-null      int64 \n",
      "dtypes: int64(2), object(2)\n",
      "memory usage: 260.0+ bytes\n",
      "None\n",
      "\n",
      "Statistics:\n",
      "             Age        Salary\n",
      "count   4.000000      4.000000\n",
      "mean   29.500000  60000.000000\n",
      "std     4.203173  10801.234497\n",
      "min    25.000000  50000.000000\n",
      "25%    27.250000  53750.000000\n",
      "50%    29.000000  57500.000000\n",
      "75%    31.250000  63750.000000\n",
      "max    35.000000  75000.000000\n",
      "\n",
      "Filtered (Age > 28):\n",
      "      Name  Age    City  Salary\n",
      "1      Bob   30   Paris   60000\n",
      "2  Charlie   35  London   75000\n"
     ]
    }
   ],
   "execution_count": 25
  },
  {
   "cell_type": "code",
   "metadata": {
    "ExecuteTime": {
     "end_time": "2025-10-08T05:34:37.296291Z",
     "start_time": "2025-10-08T05:34:36.501002Z"
    }
   },
   "source": [
    "# Matplotlib - Visualization\n",
    "import matplotlib.pyplot as plt\n",
    "\n",
    "# Simple plot\n",
    "x = np.linspace(0, 10, 100)\n",
    "y1 = np.sin(x)\n",
    "y2 = np.cos(x)\n",
    "\n",
    "plt.figure(figsize=(10, 5))\n",
    "\n",
    "plt.subplot(1, 2, 1)\n",
    "plt.plot(x, y1, label='sin(x)')\n",
    "plt.plot(x, y2, label='cos(x)')\n",
    "plt.xlabel('x')\n",
    "plt.ylabel('y')\n",
    "plt.title('Trigonometric Functions')\n",
    "plt.legend()\n",
    "plt.grid(True, alpha=0.3)\n",
    "\n",
    "plt.subplot(1, 2, 2)\n",
    "data = np.random.randn(1000)\n",
    "plt.hist(data, bins=30, edgecolor='black', alpha=0.7)\n",
    "plt.xlabel('Value')\n",
    "plt.ylabel('Frequency')\n",
    "plt.title('Normal Distribution')\n",
    "plt.grid(True, alpha=0.3)\n",
    "\n",
    "plt.tight_layout()\n",
    "plt.show()"
   ],
   "outputs": [
    {
     "data": {
      "text/plain": [
       "<Figure size 1000x500 with 2 Axes>"
      ],
      "image/png": "[encoded data removed]"
     },
     "metadata": {},
     "output_type": "display_data"
    }
   ],
   "execution_count": 26
  },
  {
   "cell_type": "markdown",
   "metadata": {},
   "source": [
    "## Final Exercise: Putting It All Together\n",
    "\n",
    "Create a simple data analysis pipeline."
   ]
  },
  {
   "cell_type": "code",
   "metadata": {
    "ExecuteTime": {
     "end_time": "2025-10-08T05:34:37.669001Z",
     "start_time": "2025-10-08T05:34:37.327373Z"
    }
   },
   "source": [
    "# TODO: Complete this data analysis pipeline\n",
    "# 1. Generate random student data (name, scores in 3 subjects)\n",
    "# 2. Calculate average score for each student\n",
    "# 3. Assign grades based on average\n",
    "# 4. Find top performers\n",
    "# 5. Visualize the distribution\n",
    "\n",
    "# Solution:\n",
    "import random\n",
    "import string\n",
    "\n",
    "# Generate random names\n",
    "def random_name():\n",
    "    return ''.join(random.choices(string.ascii_uppercase, k=1)) + \\\n",
    "           ''.join(random.choices(string.ascii_lowercase, k=4))\n",
    "\n",
    "# Generate student data\n",
    "students = []\n",
    "for _ in range(30):\n",
    "    student = {\n",
    "        'name': random_name(),\n",
    "        'math': random.randint(60, 100),\n",
    "        'science': random.randint(60, 100),\n",
    "        'english': random.randint(60, 100)\n",
    "    }\n",
    "    student['average'] = (student['math'] + student['science'] + student['english']) / 3\n",
    "    \n",
    "    # Assign grade\n",
    "    if student['average'] >= 90:\n",
    "        student['grade'] = 'A'\n",
    "    elif student['average'] >= 80:\n",
    "        student['grade'] = 'B'\n",
    "    elif student['average'] >= 70:\n",
    "        student['grade'] = 'C'\n",
    "    else:\n",
    "        student['grade'] = 'D'\n",
    "    \n",
    "    students.append(student)\n",
    "\n",
    "# Convert to DataFrame\n",
    "df_students = pd.DataFrame(students)\n",
    "\n",
    "# Find top performers\n",
    "top_students = df_students.nlargest(5, 'average')\n",
    "print(\"Top 5 Students:\")\n",
    "print(top_students[['name', 'average', 'grade']])\n",
    "\n",
    "# Visualize\n",
    "fig, (ax1, ax2) = plt.subplots(1, 2, figsize=(12, 5))\n",
    "\n",
    "# Grade distribution\n",
    "grade_counts = df_students['grade'].value_counts().sort_index()\n",
    "ax1.bar(grade_counts.index, grade_counts.values, color=['green', 'blue', 'orange', 'red'])\n",
    "ax1.set_xlabel('Grade')\n",
    "ax1.set_ylabel('Count')\n",
    "ax1.set_title('Grade Distribution')\n",
    "\n",
    "# Score distribution\n",
    "ax2.hist(df_students['average'], bins=10, edgecolor='black', alpha=0.7)\n",
    "ax2.axvline(df_students['average'].mean(), color='red', \n",
    "           linestyle='--', label=f'Mean: {df_students[\"average\"].mean():.1f}')\n",
    "ax2.set_xlabel('Average Score')\n",
    "ax2.set_ylabel('Frequency')\n",
    "ax2.set_title('Score Distribution')\n",
    "ax2.legend()\n",
    "\n",
    "plt.tight_layout()\n",
    "plt.show()\n",
    "\n",
    "print(f\"\\nClass Statistics:\")\n",
    "print(f\"Average Score: {df_students['average'].mean():.2f}\")\n",
    "print(f\"Std Deviation: {df_students['average'].std():.2f}\")\n",
    "print(f\"Pass Rate (C or above): {(df_students['grade'].isin(['A', 'B', 'C'])).mean():.1%}\")"
   ],
   "outputs": [
    {
     "name": "stdout",
     "output_type": "stream",
     "text": [
      "Top 5 Students:\n",
      "     name    average grade\n",
      "28  Qbxlv  88.333333     B\n",
      "9   Tarys  88.000000     B\n",
      "15  Uwtnp  87.000000     B\n",
      "6   Dsdyq  85.000000     B\n",
      "11  Zrdvi  84.666667     B\n"
     ]
    },
    {
     "data": {
      "text/plain": [
       "<Figure size 1200x500 with 2 Axes>"
      ],
      "image/png": "[encoded data removed]"
     },
     "metadata": {},
     "output_type": "display_data"
    },
    {
     "name": "stdout",
     "output_type": "stream",
     "text": [
      "\n",
      "Class Statistics:\n",
      "Average Score: 80.07\n",
      "Std Deviation: 4.96\n",
      "Pass Rate (C or above): 96.7%\n"
     ]
    }
   ],
   "execution_count": 27
  },
  {
   "cell_type": "markdown",
   "metadata": {},
   "source": [
    "## Summary and Next Steps\n",
    "\n",
    "Congratulations! You've completed the Python bootcamp. You've learned:\n",
    "\n",
    "1. **Fundamentals**: Variables, data types, operators\n",
    "2. **Data Structures**: Lists, tuples, dictionaries, sets\n",
    "3. **Control Flow**: Conditionals and loops\n",
    "4. **Functions**: Definition, parameters, lambda functions\n",
    "5. **Error Handling**: Try-except blocks\n",
    "6. **File I/O**: Reading and writing files\n",
    "7. **OOP**: Classes and objects\n",
    "8. **Libraries**: NumPy, Pandas, Matplotlib basics\n",
    "\n",
    "### Next Steps:\n",
    "1. Practice with more complex problems\n",
    "2. Explore scikit-learn for machine learning\n",
    "3. Work on real datasets\n",
    "4. Build your own ML projects\n",
    "\n",
    "### Resources:\n",
    "- Python documentation: https://docs.python.org\n",
    "- NumPy documentation: https://numpy.org/doc/\n",
    "- Pandas documentation: https://pandas.pydata.org/docs/\n",
    "- Scikit-learn tutorials: https://scikit-learn.org/stable/tutorial/"
   ]
  }
 ],
 "metadata": {
  "kernelspec": {
   "display_name": "Python 3",
   "language": "python",
   "name": "python3"
  },
  "language_info": {
   "codemirror_mode": {
    "name": "ipython",
    "version": 3
   },
   "file_extension": ".py",
   "mimetype": "text/x-python",
   "name": "python",
   "nbconvert_exporter": "python",
   "pygments_lexer": "ipython3",
   "version": "3.8.0"
  }
 },
 "nbformat": 4,
 "nbformat_minor": 4
}
