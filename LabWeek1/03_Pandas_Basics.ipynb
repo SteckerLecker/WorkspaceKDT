{
 "cells": [
  {
   "cell_type": "markdown",
   "metadata": {},
   "source": [
    "# Lab 3: Pandas Basics with Iris Dataset\n",
    "\n",
    "## Learning Objectives\n",
    "By the end of this lab, you will be able to:\n",
    "- Load and explore datasets using pandas\n",
    "- Perform basic data manipulation and cleaning\n",
    "- Calculate descriptive statistics\n",
    "- Group and aggregate data\n",
    "- Handle missing values\n",
    "- Create basic visualizations with pandas\n",
    "\n",
    "## Introduction\n",
    "Pandas is the cornerstone library for data manipulation and analysis in Python. In this lab, we'll use the famous Iris dataset to learn fundamental pandas operations."
   ]
  },
  {
   "cell_type": "markdown",
   "metadata": {},
   "source": [
    "## Setup and Data Loading"
   ]
  },
  {
   "cell_type": "code",
   "metadata": {
    "ExecuteTime": {
     "end_time": "2025-10-08T05:36:32.944832Z",
     "start_time": "2025-10-08T05:36:32.545491Z"
    }
   },
   "source": [
    "# Import necessary libraries\n",
    "import pandas as pd\n",
    "import numpy as np\n",
    "import matplotlib.pyplot as plt\n",
    "import seaborn as sns\n",
    "from sklearn.datasets import load_iris\n",
    "\n",
    "# Set display options for better output formatting\n",
    "pd.set_option('display.max_columns', None)\n",
    "pd.set_option('display.width', None)\n",
    "pd.set_option('display.max_colwidth', None)\n",
    "\n",
    "# Set random seed for reproducibility\n",
    "np.random.seed(42)\n",
    "\n",
    "print(\"Libraries imported successfully!\")"
   ],
   "outputs": [
    {
     "name": "stdout",
     "output_type": "stream",
     "text": [
      "Libraries imported successfully!\n"
     ]
    }
   ],
   "execution_count": 1
  },
  {
   "cell_type": "code",
   "metadata": {
    "ExecuteTime": {
     "end_time": "2025-10-08T05:36:33.152765Z",
     "start_time": "2025-10-08T05:36:33.123193Z"
    }
   },
   "source": [
    "# Load the Iris dataset\n",
    "iris_data = load_iris()\n",
    "\n",
    "# Create a DataFrame\n",
    "iris_df = pd.DataFrame(\n",
    "    data=iris_data.data,\n",
    "    columns=iris_data.feature_names\n",
    ")\n",
    "\n",
    "# Add the target variable\n",
    "iris_df['species'] = iris_data.target\n",
    "iris_df['species_name'] = iris_df['species'].map(\n",
    "    {0: 'setosa', 1: 'versicolor', 2: 'virginica'}\n",
    ")\n",
    "\n",
    "print(\"Iris dataset loaded successfully!\")\n",
    "print(f\"Dataset shape: {iris_df.shape}\")"
   ],
   "outputs": [
    {
     "name": "stdout",
     "output_type": "stream",
     "text": [
      "Iris dataset loaded successfully!\n",
      "Dataset shape: (150, 6)\n"
     ]
    }
   ],
   "execution_count": 2
  },
  {
   "cell_type": "markdown",
   "metadata": {},
   "source": [
    "## 1. Basic Data Exploration"
   ]
  },
  {
   "cell_type": "code",
   "metadata": {
    "ExecuteTime": {
     "end_time": "2025-10-08T05:36:33.184060Z",
     "start_time": "2025-10-08T05:36:33.176516Z"
    }
   },
   "source": [
    "# Display first few rows\n",
    "print(\"First 5 rows of the dataset:\")\n",
    "print(iris_df.head())"
   ],
   "outputs": [
    {
     "name": "stdout",
     "output_type": "stream",
     "text": [
      "First 5 rows of the dataset:\n",
      "   sepal length (cm)  sepal width (cm)  petal length (cm)  petal width (cm)  \\\n",
      "0                5.1               3.5                1.4               0.2   \n",
      "1                4.9               3.0                1.4               0.2   \n",
      "2                4.7               3.2                1.3               0.2   \n",
      "3                4.6               3.1                1.5               0.2   \n",
      "4                5.0               3.6                1.4               0.2   \n",
      "\n",
      "   species species_name  \n",
      "0        0       setosa  \n",
      "1        0       setosa  \n",
      "2        0       setosa  \n",
      "3        0       setosa  \n",
      "4        0       setosa  \n"
     ]
    }
   ],
   "execution_count": 3
  },
  {
   "cell_type": "code",
   "metadata": {
    "ExecuteTime": {
     "end_time": "2025-10-08T05:36:33.230166Z",
     "start_time": "2025-10-08T05:36:33.212468Z"
    }
   },
   "source": [
    "# Get basic information about the dataset\n",
    "print(\"Dataset Info:\")\n",
    "print(iris_df.info())\n",
    "print(\"\\n\" + \"=\"*50 + \"\\n\")\n",
    "\n",
    "print(\"Dataset Description:\")\n",
    "print(iris_df.describe())"
   ],
   "outputs": [
    {
     "name": "stdout",
     "output_type": "stream",
     "text": [
      "Dataset Info:\n",
      "<class 'pandas.core.frame.DataFrame'>\n",
      "RangeIndex: 150 entries, 0 to 149\n",
      "Data columns (total 6 columns):\n",
      " #   Column             Non-Null Count  Dtype  \n",
      "---  ------             --------------  -----  \n",
      " 0   sepal length (cm)  150 non-null    float64\n",
      " 1   sepal width (cm)   150 non-null    float64\n",
      " 2   petal length (cm)  150 non-null    float64\n",
      " 3   petal width (cm)   150 non-null    float64\n",
      " 4   species            150 non-null    int32  \n",
      " 5   species_name       150 non-null    object \n",
      "dtypes: float64(4), int32(1), object(1)\n",
      "memory usage: 6.6+ KB\n",
      "None\n",
      "\n",
      "==================================================\n",
      "\n",
      "Dataset Description:\n",
      "       sepal length (cm)  sepal width (cm)  petal length (cm)  \\\n",
      "count         150.000000        150.000000         150.000000   \n",
      "mean            5.843333          3.057333           3.758000   \n",
      "std             0.828066          0.435866           1.765298   \n",
      "min             4.300000          2.000000           1.000000   \n",
      "25%             5.100000          2.800000           1.600000   \n",
      "50%             5.800000          3.000000           4.350000   \n",
      "75%             6.400000          3.300000           5.100000   \n",
      "max             7.900000          4.400000           6.900000   \n",
      "\n",
      "       petal width (cm)     species  \n",
      "count        150.000000  150.000000  \n",
      "mean           1.199333    1.000000  \n",
      "std            0.762238    0.819232  \n",
      "min            0.100000    0.000000  \n",
      "25%            0.300000    0.000000  \n",
      "50%            1.300000    1.000000  \n",
      "75%            1.800000    2.000000  \n",
      "max            2.500000    2.000000  \n"
     ]
    }
   ],
   "execution_count": 4
  },
  {
   "cell_type": "code",
   "metadata": {
    "ExecuteTime": {
     "end_time": "2025-10-08T05:36:33.260354Z",
     "start_time": "2025-10-08T05:36:33.252651Z"
    }
   },
   "source": [
    "# Check data types\n",
    "print(\"Data types:\")\n",
    "print(iris_df.dtypes)\n",
    "print(\"\\n\" + \"=\"*50 + \"\\n\")\n",
    "\n",
    "# Check for missing values\n",
    "print(\"Missing values:\")\n",
    "print(iris_df.isnull().sum())\n",
    "print(\"\\n\" + \"=\"*50 + \"\\n\")\n",
    "\n",
    "# Check unique values in categorical columns\n",
    "print(\"Unique species:\")\n",
    "print(iris_df['species_name'].unique())\n",
    "print(\"\\nSpecies value counts:\")\n",
    "print(iris_df['species_name'].value_counts())"
   ],
   "outputs": [
    {
     "name": "stdout",
     "output_type": "stream",
     "text": [
      "Data types:\n",
      "sepal length (cm)    float64\n",
      "sepal width (cm)     float64\n",
      "petal length (cm)    float64\n",
      "petal width (cm)     float64\n",
      "species                int32\n",
      "species_name          object\n",
      "dtype: object\n",
      "\n",
      "==================================================\n",
      "\n",
      "Missing values:\n",
      "sepal length (cm)    0\n",
      "sepal width (cm)     0\n",
      "petal length (cm)    0\n",
      "petal width (cm)     0\n",
      "species              0\n",
      "species_name         0\n",
      "dtype: int64\n",
      "\n",
      "==================================================\n",
      "\n",
      "Unique species:\n",
      "['setosa' 'versicolor' 'virginica']\n",
      "\n",
      "Species value counts:\n",
      "species_name\n",
      "setosa        50\n",
      "versicolor    50\n",
      "virginica     50\n",
      "Name: count, dtype: int64\n"
     ]
    }
   ],
   "execution_count": 5
  },
  {
   "cell_type": "markdown",
   "metadata": {},
   "source": [
    "### Exercise 1: Basic Exploration\n",
    "Complete the following tasks:\n",
    "1. Display the last 10 rows of the dataset\n",
    "2. Get the shape and column names of the dataset\n",
    "3. Calculate the memory usage of the DataFrame"
   ]
  },
  {
   "cell_type": "code",
   "metadata": {
    "ExecuteTime": {
     "end_time": "2025-10-08T05:36:33.334729Z",
     "start_time": "2025-10-08T05:36:33.331045Z"
    }
   },
   "source": [
    "# Your code here\n",
    "# Task 1: Display last 10 rows\n",
    "\n",
    "\n",
    "# Task 2: Shape and column names\n",
    "\n",
    "\n",
    "# Task 3: Memory usage\n"
   ],
   "outputs": [],
   "execution_count": 6
  },
  {
   "cell_type": "markdown",
   "metadata": {},
   "source": [
    "## 2. Data Selection and Indexing"
   ]
  },
  {
   "cell_type": "code",
   "metadata": {
    "ExecuteTime": {
     "end_time": "2025-10-08T05:36:33.375251Z",
     "start_time": "2025-10-08T05:36:33.368077Z"
    }
   },
   "source": [
    "# Selecting columns\n",
    "print(\"Selecting single column (sepal length):\")\n",
    "sepal_length = iris_df['sepal length (cm)']\n",
    "print(type(sepal_length))\n",
    "print(sepal_length.head())\n",
    "\n",
    "print(\"\\n\" + \"=\"*50 + \"\\n\")\n",
    "\n",
    "# Selecting multiple columns\n",
    "print(\"Selecting multiple columns:\")\n",
    "sepal_data = iris_df[['sepal length (cm)', 'sepal width (cm)']]\n",
    "print(type(sepal_data))\n",
    "print(sepal_data.head())"
   ],
   "outputs": [
    {
     "name": "stdout",
     "output_type": "stream",
     "text": [
      "Selecting single column (sepal length):\n",
      "<class 'pandas.core.series.Series'>\n",
      "0    5.1\n",
      "1    4.9\n",
      "2    4.7\n",
      "3    4.6\n",
      "4    5.0\n",
      "Name: sepal length (cm), dtype: float64\n",
      "\n",
      "==================================================\n",
      "\n",
      "Selecting multiple columns:\n",
      "<class 'pandas.core.frame.DataFrame'>\n",
      "   sepal length (cm)  sepal width (cm)\n",
      "0                5.1               3.5\n",
      "1                4.9               3.0\n",
      "2                4.7               3.2\n",
      "3                4.6               3.1\n",
      "4                5.0               3.6\n"
     ]
    }
   ],
   "execution_count": 7
  },
  {
   "cell_type": "code",
   "metadata": {
    "ExecuteTime": {
     "end_time": "2025-10-08T05:36:33.408866Z",
     "start_time": "2025-10-08T05:36:33.400200Z"
    }
   },
   "source": [
    "# Row selection using iloc (integer location)\n",
    "print(\"First 5 rows using iloc:\")\n",
    "print(iris_df.iloc[0:5])\n",
    "\n",
    "print(\"\\n\" + \"=\"*50 + \"\\n\")\n",
    "\n",
    "# Row selection using loc (label-based)\n",
    "print(\"Rows 10-15 using loc:\")\n",
    "print(iris_df.loc[10:15])"
   ],
   "outputs": [
    {
     "name": "stdout",
     "output_type": "stream",
     "text": [
      "First 5 rows using iloc:\n",
      "   sepal length (cm)  sepal width (cm)  petal length (cm)  petal width (cm)  \\\n",
      "0                5.1               3.5                1.4               0.2   \n",
      "1                4.9               3.0                1.4               0.2   \n",
      "2                4.7               3.2                1.3               0.2   \n",
      "3                4.6               3.1                1.5               0.2   \n",
      "4                5.0               3.6                1.4               0.2   \n",
      "\n",
      "   species species_name  \n",
      "0        0       setosa  \n",
      "1        0       setosa  \n",
      "2        0       setosa  \n",
      "3        0       setosa  \n",
      "4        0       setosa  \n",
      "\n",
      "==================================================\n",
      "\n",
      "Rows 10-15 using loc:\n",
      "    sepal length (cm)  sepal width (cm)  petal length (cm)  petal width (cm)  \\\n",
      "10                5.4               3.7                1.5               0.2   \n",
      "11                4.8               3.4                1.6               0.2   \n",
      "12                4.8               3.0                1.4               0.1   \n",
      "13                4.3               3.0                1.1               0.1   \n",
      "14                5.8               4.0                1.2               0.2   \n",
      "15                5.7               4.4                1.5               0.4   \n",
      "\n",
      "    species species_name  \n",
      "10        0       setosa  \n",
      "11        0       setosa  \n",
      "12        0       setosa  \n",
      "13        0       setosa  \n",
      "14        0       setosa  \n",
      "15        0       setosa  \n"
     ]
    }
   ],
   "execution_count": 8
  },
  {
   "cell_type": "code",
   "metadata": {
    "ExecuteTime": {
     "end_time": "2025-10-08T05:36:33.455329Z",
     "start_time": "2025-10-08T05:36:33.444633Z"
    }
   },
   "source": [
    "# Boolean indexing\n",
    "print(\"Filtering for setosa species:\")\n",
    "setosa_data = iris_df[iris_df['species_name'] == 'setosa']\n",
    "print(f\"Number of setosa samples: {len(setosa_data)}\")\n",
    "print(setosa_data.head())\n",
    "\n",
    "print(\"\\n\" + \"=\"*50 + \"\\n\")\n",
    "\n",
    "# Multiple conditions\n",
    "print(\"Filtering for large sepals (length > 6.0 AND width > 3.0):\")\n",
    "large_sepals = iris_df[\n",
    "    (iris_df['sepal length (cm)'] > 6.0) & \n",
    "    (iris_df['sepal width (cm)'] > 3.0)\n",
    "]\n",
    "print(f\"Number of samples with large sepals: {len(large_sepals)}\")\n",
    "print(large_sepals[['sepal length (cm)', 'sepal width (cm)', 'species_name']].head())"
   ],
   "outputs": [
    {
     "name": "stdout",
     "output_type": "stream",
     "text": [
      "Filtering for setosa species:\n",
      "Number of setosa samples: 50\n",
      "   sepal length (cm)  sepal width (cm)  petal length (cm)  petal width (cm)  \\\n",
      "0                5.1               3.5                1.4               0.2   \n",
      "1                4.9               3.0                1.4               0.2   \n",
      "2                4.7               3.2                1.3               0.2   \n",
      "3                4.6               3.1                1.5               0.2   \n",
      "4                5.0               3.6                1.4               0.2   \n",
      "\n",
      "   species species_name  \n",
      "0        0       setosa  \n",
      "1        0       setosa  \n",
      "2        0       setosa  \n",
      "3        0       setosa  \n",
      "4        0       setosa  \n",
      "\n",
      "==================================================\n",
      "\n",
      "Filtering for large sepals (length > 6.0 AND width > 3.0):\n",
      "Number of samples with large sepals: 23\n",
      "    sepal length (cm)  sepal width (cm) species_name\n",
      "50                7.0               3.2   versicolor\n",
      "51                6.4               3.2   versicolor\n",
      "52                6.9               3.1   versicolor\n",
      "56                6.3               3.3   versicolor\n",
      "65                6.7               3.1   versicolor\n"
     ]
    }
   ],
   "execution_count": 9
  },
  {
   "cell_type": "markdown",
   "metadata": {},
   "source": [
    "### Exercise 2: Data Selection\n",
    "Complete the following tasks:\n",
    "1. Select all petal measurements (length and width)\n",
    "2. Get the first 25 rows of the dataset\n",
    "3. Filter for virginica species with petal length > 5.0\n",
    "4. Select rows 50-99 and only the sepal measurements"
   ]
  },
  {
   "cell_type": "code",
   "metadata": {
    "ExecuteTime": {
     "end_time": "2025-10-08T05:36:33.494898Z",
     "start_time": "2025-10-08T05:36:33.491506Z"
    }
   },
   "source": [
    "# Your code here\n",
    "# Task 1: Select petal measurements\n",
    "\n",
    "\n",
    "# Task 2: First 25 rows\n",
    "\n",
    "\n",
    "# Task 3: Filter virginica with petal length > 5.0\n",
    "\n",
    "\n",
    "# Task 4: Rows 50-99, sepal measurements only\n"
   ],
   "outputs": [],
   "execution_count": 10
  },
  {
   "cell_type": "markdown",
   "metadata": {},
   "source": [
    "## 3. Descriptive Statistics"
   ]
  },
  {
   "cell_type": "code",
   "metadata": {
    "ExecuteTime": {
     "end_time": "2025-10-08T05:36:33.540872Z",
     "start_time": "2025-10-08T05:36:33.525633Z"
    }
   },
   "source": [
    "# Basic statistics for numerical columns\n",
    "print(\"Descriptive statistics for all numerical columns:\")\n",
    "print(iris_df.describe())\n",
    "\n",
    "print(\"\\n\" + \"=\"*50 + \"\\n\")\n",
    "\n",
    "# Individual statistics\n",
    "print(\"Individual statistics:\")\n",
    "print(f\"Mean sepal length: {iris_df['sepal length (cm)'].mean():.2f}\")\n",
    "print(f\"Median sepal length: {iris_df['sepal length (cm)'].median():.2f}\")\n",
    "print(f\"Standard deviation of sepal length: {iris_df['sepal length (cm)'].std():.2f}\")\n",
    "print(f\"Min sepal length: {iris_df['sepal length (cm)'].min():.2f}\")\n",
    "print(f\"Max sepal length: {iris_df['sepal length (cm)'].max():.2f}\")"
   ],
   "outputs": [
    {
     "name": "stdout",
     "output_type": "stream",
     "text": [
      "Descriptive statistics for all numerical columns:\n",
      "       sepal length (cm)  sepal width (cm)  petal length (cm)  \\\n",
      "count         150.000000        150.000000         150.000000   \n",
      "mean            5.843333          3.057333           3.758000   \n",
      "std             0.828066          0.435866           1.765298   \n",
      "min             4.300000          2.000000           1.000000   \n",
      "25%             5.100000          2.800000           1.600000   \n",
      "50%             5.800000          3.000000           4.350000   \n",
      "75%             6.400000          3.300000           5.100000   \n",
      "max             7.900000          4.400000           6.900000   \n",
      "\n",
      "       petal width (cm)     species  \n",
      "count        150.000000  150.000000  \n",
      "mean           1.199333    1.000000  \n",
      "std            0.762238    0.819232  \n",
      "min            0.100000    0.000000  \n",
      "25%            0.300000    0.000000  \n",
      "50%            1.300000    1.000000  \n",
      "75%            1.800000    2.000000  \n",
      "max            2.500000    2.000000  \n",
      "\n",
      "==================================================\n",
      "\n",
      "Individual statistics:\n",
      "Mean sepal length: 5.84\n",
      "Median sepal length: 5.80\n",
      "Standard deviation of sepal length: 0.83\n",
      "Min sepal length: 4.30\n",
      "Max sepal length: 7.90\n"
     ]
    }
   ],
   "execution_count": 11
  },
  {
   "cell_type": "code",
   "metadata": {
    "ExecuteTime": {
     "end_time": "2025-10-08T05:36:33.578189Z",
     "start_time": "2025-10-08T05:36:33.571234Z"
    }
   },
   "source": [
    "# Correlation matrix\n",
    "print(\"Correlation matrix:\")\n",
    "numerical_cols = ['sepal length (cm)', 'sepal width (cm)', 'petal length (cm)', 'petal width (cm)']\n",
    "correlation_matrix = iris_df[numerical_cols].corr()\n",
    "print(correlation_matrix)"
   ],
   "outputs": [
    {
     "name": "stdout",
     "output_type": "stream",
     "text": [
      "Correlation matrix:\n",
      "                   sepal length (cm)  sepal width (cm)  petal length (cm)  \\\n",
      "sepal length (cm)           1.000000         -0.117570           0.871754   \n",
      "sepal width (cm)           -0.117570          1.000000          -0.428440   \n",
      "petal length (cm)           0.871754         -0.428440           1.000000   \n",
      "petal width (cm)            0.817941         -0.366126           0.962865   \n",
      "\n",
      "                   petal width (cm)  \n",
      "sepal length (cm)          0.817941  \n",
      "sepal width (cm)          -0.366126  \n",
      "petal length (cm)          0.962865  \n",
      "petal width (cm)           1.000000  \n"
     ]
    }
   ],
   "execution_count": 12
  },
  {
   "cell_type": "code",
   "metadata": {
    "ExecuteTime": {
     "end_time": "2025-10-08T05:36:33.601873Z",
     "start_time": "2025-10-08T05:36:33.593327Z"
    }
   },
   "source": [
    "# Quantiles\n",
    "print(\"Quantiles for sepal length:\")\n",
    "quantiles = [0.25, 0.5, 0.75, 0.9, 0.95]\n",
    "for q in quantiles:\n",
    "    value = iris_df['sepal length (cm)'].quantile(q)\n",
    "    print(f\"{q*100}th percentile: {value:.2f}\")"
   ],
   "outputs": [
    {
     "name": "stdout",
     "output_type": "stream",
     "text": [
      "Quantiles for sepal length:\n",
      "25.0th percentile: 5.10\n",
      "50.0th percentile: 5.80\n",
      "75.0th percentile: 6.40\n",
      "90.0th percentile: 6.90\n",
      "95.0th percentile: 7.25\n"
     ]
    }
   ],
   "execution_count": 13
  },
  {
   "cell_type": "markdown",
   "metadata": {},
   "source": [
    "### Exercise 3: Descriptive Statistics\n",
    "Complete the following tasks:\n",
    "1. Calculate the coefficient of variation (std/mean) for all numerical columns\n",
    "2. Find the range (max - min) for each measurement\n",
    "3. Calculate the interquartile range (75th percentile - 25th percentile) for petal width"
   ]
  },
  {
   "cell_type": "code",
   "metadata": {
    "ExecuteTime": {
     "end_time": "2025-10-08T05:36:33.642423Z",
     "start_time": "2025-10-08T05:36:33.639364Z"
    }
   },
   "source": [
    "# Your code here\n",
    "# Task 1: Coefficient of variation\n",
    "\n",
    "\n",
    "# Task 2: Range for each measurement\n",
    "\n",
    "\n",
    "# Task 3: IQR for petal width\n"
   ],
   "outputs": [],
   "execution_count": 14
  },
  {
   "cell_type": "markdown",
   "metadata": {},
   "source": [
    "## 4. Groupby Operations"
   ]
  },
  {
   "cell_type": "code",
   "metadata": {
    "ExecuteTime": {
     "end_time": "2025-10-08T05:36:33.676501Z",
     "start_time": "2025-10-08T05:36:33.667937Z"
    }
   },
   "source": [
    "# Group by species and calculate mean\n",
    "print(\"Mean measurements by species:\")\n",
    "species_means = iris_df.groupby('species_name')[numerical_cols].mean()\n",
    "print(species_means)"
   ],
   "outputs": [
    {
     "name": "stdout",
     "output_type": "stream",
     "text": [
      "Mean measurements by species:\n",
      "              sepal length (cm)  sepal width (cm)  petal length (cm)  \\\n",
      "species_name                                                           \n",
      "setosa                    5.006             3.428              1.462   \n",
      "versicolor                5.936             2.770              4.260   \n",
      "virginica                 6.588             2.974              5.552   \n",
      "\n",
      "              petal width (cm)  \n",
      "species_name                    \n",
      "setosa                   0.246  \n",
      "versicolor               1.326  \n",
      "virginica                2.026  \n"
     ]
    }
   ],
   "execution_count": 15
  },
  {
   "cell_type": "code",
   "metadata": {
    "ExecuteTime": {
     "end_time": "2025-10-08T05:36:33.738358Z",
     "start_time": "2025-10-08T05:36:33.723020Z"
    }
   },
   "source": [
    "# Multiple aggregations\n",
    "print(\"Multiple statistics by species:\")\n",
    "species_stats = iris_df.groupby('species_name')[numerical_cols].agg(['mean', 'std', 'min', 'max'])\n",
    "print(species_stats)"
   ],
   "outputs": [
    {
     "name": "stdout",
     "output_type": "stream",
     "text": [
      "Multiple statistics by species:\n",
      "             sepal length (cm)                     sepal width (cm)            \\\n",
      "                          mean       std  min  max             mean       std   \n",
      "species_name                                                                    \n",
      "setosa                   5.006  0.352490  4.3  5.8            3.428  0.379064   \n",
      "versicolor               5.936  0.516171  4.9  7.0            2.770  0.313798   \n",
      "virginica                6.588  0.635880  4.9  7.9            2.974  0.322497   \n",
      "\n",
      "                       petal length (cm)                     petal width (cm)  \\\n",
      "              min  max              mean       std  min  max             mean   \n",
      "species_name                                                                    \n",
      "setosa        2.3  4.4             1.462  0.173664  1.0  1.9            0.246   \n",
      "versicolor    2.0  3.4             4.260  0.469911  3.0  5.1            1.326   \n",
      "virginica     2.2  3.8             5.552  0.551895  4.5  6.9            2.026   \n",
      "\n",
      "                                  \n",
      "                   std  min  max  \n",
      "species_name                      \n",
      "setosa        0.105386  0.1  0.6  \n",
      "versicolor    0.197753  1.0  1.8  \n",
      "virginica     0.274650  1.4  2.5  \n"
     ]
    }
   ],
   "execution_count": 16
  },
  {
   "cell_type": "code",
   "metadata": {
    "ExecuteTime": {
     "end_time": "2025-10-08T05:36:33.786505Z",
     "start_time": "2025-10-08T05:36:33.776504Z"
    }
   },
   "source": [
    "# Custom aggregations\n",
    "print(\"Custom aggregations by species:\")\n",
    "custom_agg = iris_df.groupby('species_name').agg({\n",
    "    'sepal length (cm)': ['mean', 'std'],\n",
    "    'petal length (cm)': ['min', 'max'],\n",
    "    'species': 'count'  # count of samples\n",
    "})\n",
    "print(custom_agg)"
   ],
   "outputs": [
    {
     "name": "stdout",
     "output_type": "stream",
     "text": [
      "Custom aggregations by species:\n",
      "             sepal length (cm)           petal length (cm)      species\n",
      "                          mean       std               min  max   count\n",
      "species_name                                                           \n",
      "setosa                   5.006  0.352490               1.0  1.9      50\n",
      "versicolor               5.936  0.516171               3.0  5.1      50\n",
      "virginica                6.588  0.635880               4.5  6.9      50\n"
     ]
    }
   ],
   "execution_count": 17
  },
  {
   "cell_type": "markdown",
   "metadata": {},
   "source": [
    "### Exercise 4: Groupby Operations\n",
    "Complete the following tasks:\n",
    "1. Calculate the median for each measurement by species\n",
    "2. Find the species with the largest average petal area (length × width)\n",
    "3. Create a summary showing count, mean, and standard deviation for sepal width by species"
   ]
  },
  {
   "cell_type": "code",
   "metadata": {
    "ExecuteTime": {
     "end_time": "2025-10-08T05:36:33.821112Z",
     "start_time": "2025-10-08T05:36:33.818740Z"
    }
   },
   "source": [
    "# Your code here\n",
    "# Task 1: Median by species\n",
    "\n",
    "\n",
    "# Task 2: Largest average petal area\n",
    "# First create petal area column\n",
    "\n",
    "\n",
    "# Task 3: Summary for sepal width\n"
   ],
   "outputs": [],
   "execution_count": 18
  },
  {
   "cell_type": "markdown",
   "metadata": {},
   "source": [
    "## 5. Data Manipulation and Cleaning"
   ]
  },
  {
   "cell_type": "code",
   "metadata": {
    "ExecuteTime": {
     "end_time": "2025-10-08T05:36:33.861743Z",
     "start_time": "2025-10-08T05:36:33.851824Z"
    }
   },
   "source": [
    "# Create a copy for manipulation\n",
    "iris_copy = iris_df.copy()\n",
    "\n",
    "# Adding new columns\n",
    "iris_copy['sepal_area'] = iris_copy['sepal length (cm)'] * iris_copy['sepal width (cm)']\n",
    "iris_copy['petal_area'] = iris_copy['petal length (cm)'] * iris_copy['petal width (cm)']\n",
    "iris_copy['total_area'] = iris_copy['sepal_area'] + iris_copy['petal_area']\n",
    "\n",
    "print(\"Added new columns:\")\n",
    "print(iris_copy[['sepal_area', 'petal_area', 'total_area', 'species_name']].head())"
   ],
   "outputs": [
    {
     "name": "stdout",
     "output_type": "stream",
     "text": [
      "Added new columns:\n",
      "   sepal_area  petal_area  total_area species_name\n",
      "0       17.85        0.28       18.13       setosa\n",
      "1       14.70        0.28       14.98       setosa\n",
      "2       15.04        0.26       15.30       setosa\n",
      "3       14.26        0.30       14.56       setosa\n",
      "4       18.00        0.28       18.28       setosa\n"
     ]
    }
   ],
   "execution_count": 19
  },
  {
   "cell_type": "code",
   "metadata": {
    "ExecuteTime": {
     "end_time": "2025-10-08T05:36:33.914883Z",
     "start_time": "2025-10-08T05:36:33.896266Z"
    }
   },
   "source": [
    "# Creating categorical columns\n",
    "# Categorize flowers by size\n",
    "def categorize_size(row):\n",
    "    if row['total_area'] < 10:\n",
    "        return 'Small'\n",
    "    elif row['total_area'] < 20:\n",
    "        return 'Medium'\n",
    "    else:\n",
    "        return 'Large'\n",
    "\n",
    "iris_copy['size_category'] = iris_copy.apply(categorize_size, axis=1)\n",
    "\n",
    "print(\"Size category distribution:\")\n",
    "print(iris_copy['size_category'].value_counts())\n",
    "\n",
    "print(\"\\nSize category by species:\")\n",
    "print(pd.crosstab(iris_copy['species_name'], iris_copy['size_category']))"
   ],
   "outputs": [
    {
     "name": "stdout",
     "output_type": "stream",
     "text": [
      "Size category distribution:\n",
      "size_category\n",
      "Large     93\n",
      "Medium    57\n",
      "Name: count, dtype: int64\n",
      "\n",
      "Size category by species:\n",
      "size_category  Large  Medium\n",
      "species_name                \n",
      "setosa             9      41\n",
      "versicolor        35      15\n",
      "virginica         49       1\n"
     ]
    }
   ],
   "execution_count": 20
  },
  {
   "cell_type": "code",
   "metadata": {
    "ExecuteTime": {
     "end_time": "2025-10-08T05:36:33.965764Z",
     "start_time": "2025-10-08T05:36:33.957284Z"
    }
   },
   "source": [
    "# Introducing missing values for demonstration\n",
    "iris_missing = iris_copy.copy()\n",
    "\n",
    "# Randomly introduce some missing values\n",
    "np.random.seed(42)\n",
    "missing_indices = np.random.choice(iris_missing.index, size=10, replace=False)\n",
    "iris_missing.loc[missing_indices, 'sepal width (cm)'] = np.nan\n",
    "\n",
    "print(\"Missing values introduced:\")\n",
    "print(iris_missing.isnull().sum())\n",
    "\n",
    "print(\"\\nRows with missing values:\")\n",
    "print(iris_missing[iris_missing.isnull().any(axis=1)][['sepal width (cm)', 'species_name']])"
   ],
   "outputs": [
    {
     "name": "stdout",
     "output_type": "stream",
     "text": [
      "Missing values introduced:\n",
      "sepal length (cm)     0\n",
      "sepal width (cm)     10\n",
      "petal length (cm)     0\n",
      "petal width (cm)      0\n",
      "species               0\n",
      "species_name          0\n",
      "sepal_area            0\n",
      "petal_area            0\n",
      "total_area            0\n",
      "size_category         0\n",
      "dtype: int64\n",
      "\n",
      "Rows with missing values:\n",
      "     sepal width (cm) species_name\n",
      "18                NaN       setosa\n",
      "31                NaN       setosa\n",
      "64                NaN   versicolor\n",
      "68                NaN   versicolor\n",
      "73                NaN   versicolor\n",
      "76                NaN   versicolor\n",
      "78                NaN   versicolor\n",
      "82                NaN   versicolor\n",
      "118               NaN    virginica\n",
      "141               NaN    virginica\n"
     ]
    }
   ],
   "execution_count": 21
  },
  {
   "cell_type": "code",
   "metadata": {
    "ExecuteTime": {
     "end_time": "2025-10-08T05:36:34.013604Z",
     "start_time": "2025-10-08T05:36:34.003074Z"
    }
   },
   "source": [
    "# Handling missing values\n",
    "\n",
    "# Method 1: Drop rows with missing values\n",
    "iris_dropped = iris_missing.dropna()\n",
    "print(f\"Original shape: {iris_missing.shape}\")\n",
    "print(f\"After dropping missing: {iris_dropped.shape}\")\n",
    "\n",
    "# Method 2: Fill with mean\n",
    "iris_filled_mean = iris_missing.copy()\n",
    "mean_sepal_width = iris_filled_mean['sepal width (cm)'].mean()\n",
    "iris_filled_mean['sepal width (cm)'].fillna(mean_sepal_width, inplace=True)\n",
    "\n",
    "print(f\"\\nMean sepal width used for filling: {mean_sepal_width:.2f}\")\n",
    "print(f\"Missing values after mean filling: {iris_filled_mean.isnull().sum()['sepal width (cm)']}\")\n",
    "\n",
    "# Method 3: Fill with group mean (by species)\n",
    "iris_filled_group = iris_missing.copy()\n",
    "iris_filled_group['sepal width (cm)'] = iris_filled_group.groupby('species_name')['sepal width (cm)'].transform(\n",
    "    lambda x: x.fillna(x.mean())\n",
    ")\n",
    "\n",
    "print(f\"Missing values after group mean filling: {iris_filled_group.isnull().sum()['sepal width (cm)']}\")"
   ],
   "outputs": [
    {
     "name": "stdout",
     "output_type": "stream",
     "text": [
      "Original shape: (150, 10)\n",
      "After dropping missing: (140, 10)\n",
      "\n",
      "Mean sepal width used for filling: 3.07\n",
      "Missing values after mean filling: 0\n",
      "Missing values after group mean filling: 0\n"
     ]
    },
    {
     "name": "stderr",
     "output_type": "stream",
     "text": [
      "C:\\Users\\nicol\\AppData\\Local\\Temp\\ipykernel_18552\\3441457610.py:11: FutureWarning: A value is trying to be set on a copy of a DataFrame or Series through chained assignment using an inplace method.\n",
      "The behavior will change in pandas 3.0. This inplace method will never work because the intermediate object on which we are setting values always behaves as a copy.\n",
      "\n",
      "For example, when doing 'df[col].method(value, inplace=True)', try using 'df.method({col: value}, inplace=True)' or df[col] = df[col].method(value) instead, to perform the operation inplace on the original object.\n",
      "\n",
      "\n",
      "  iris_filled_mean['sepal width (cm)'].fillna(mean_sepal_width, inplace=True)\n"
     ]
    }
   ],
   "execution_count": 22
  },
  {
   "cell_type": "markdown",
   "metadata": {},
   "source": [
    "### Exercise 5: Data Manipulation\n",
    "Complete the following tasks:\n",
    "1. Create a new column 'aspect_ratio' = sepal_length / sepal_width\n",
    "2. Categorize flowers as 'Narrow' or 'Wide' based on whether aspect_ratio > 2.0\n",
    "3. Create a function to standardize (z-score) the numerical measurements\n",
    "4. Handle missing values in petal length using forward fill method"
   ]
  },
  {
   "cell_type": "code",
   "metadata": {
    "ExecuteTime": {
     "end_time": "2025-10-08T05:36:34.058966Z",
     "start_time": "2025-10-08T05:36:34.054529Z"
    }
   },
   "source": [
    "# Your code here\n",
    "# Task 1: Aspect ratio\n",
    "\n",
    "\n",
    "# Task 2: Narrow/Wide categorization\n",
    "\n",
    "\n",
    "# Task 3: Standardization function\n",
    "\n",
    "\n",
    "# Task 4: Forward fill (first introduce some missing values in petal length)\n"
   ],
   "outputs": [],
   "execution_count": 23
  },
  {
   "cell_type": "markdown",
   "metadata": {},
   "source": [
    "## 6. Basic Visualizations with Pandas"
   ]
  },
  {
   "cell_type": "code",
   "metadata": {
    "ExecuteTime": {
     "end_time": "2025-10-08T05:36:34.784478Z",
     "start_time": "2025-10-08T05:36:34.097682Z"
    }
   },
   "source": [
    "# Histogram\n",
    "plt.figure(figsize=(12, 8))\n",
    "\n",
    "plt.subplot(2, 2, 1)\n",
    "iris_df['sepal length (cm)'].hist(bins=20, alpha=0.7)\n",
    "plt.title('Distribution of Sepal Length')\n",
    "plt.xlabel('Sepal Length (cm)')\n",
    "plt.ylabel('Frequency')\n",
    "\n",
    "plt.subplot(2, 2, 2)\n",
    "iris_df['petal length (cm)'].hist(bins=20, alpha=0.7, color='orange')\n",
    "plt.title('Distribution of Petal Length')\n",
    "plt.xlabel('Petal Length (cm)')\n",
    "plt.ylabel('Frequency')\n",
    "\n",
    "plt.subplot(2, 2, 3)\n",
    "iris_df.boxplot(column='sepal width (cm)', by='species_name', ax=plt.gca())\n",
    "plt.title('Sepal Width by Species')\n",
    "plt.suptitle('')  # Remove default title\n",
    "\n",
    "plt.subplot(2, 2, 4)\n",
    "species_counts = iris_df['species_name'].value_counts()\n",
    "species_counts.plot(kind='bar')\n",
    "plt.title('Count by Species')\n",
    "plt.xlabel('Species')\n",
    "plt.ylabel('Count')\n",
    "plt.xticks(rotation=45)\n",
    "\n",
    "plt.tight_layout()\n",
    "plt.show()"
   ],
   "outputs": [
    {
     "data": {
      "text/plain": [
       "<Figure size 1200x800 with 4 Axes>"
      ],
      "image/png": "[encoded data removed]"
     },
     "metadata": {},
     "output_type": "display_data"
    }
   ],
   "execution_count": 24
  },
  {
   "cell_type": "code",
   "metadata": {
    "ExecuteTime": {
     "end_time": "2025-10-08T05:36:35.052806Z",
     "start_time": "2025-10-08T05:36:34.825523Z"
    }
   },
   "source": [
    "# Scatter plot\n",
    "plt.figure(figsize=(10, 6))\n",
    "\n",
    "for i, species in enumerate(iris_df['species_name'].unique()):\n",
    "    species_data = iris_df[iris_df['species_name'] == species]\n",
    "    plt.scatter(\n",
    "        species_data['sepal length (cm)'], \n",
    "        species_data['sepal width (cm)'],\n",
    "        label=species,\n",
    "        alpha=0.7\n",
    "    )\n",
    "\n",
    "plt.xlabel('Sepal Length (cm)')\n",
    "plt.ylabel('Sepal Width (cm)')\n",
    "plt.title('Sepal Length vs Sepal Width by Species')\n",
    "plt.legend()\n",
    "plt.grid(True, alpha=0.3)\n",
    "plt.show()"
   ],
   "outputs": [
    {
     "data": {
      "text/plain": [
       "<Figure size 1000x600 with 1 Axes>"
      ],
      "image/png": "[encoded data removed]"
     },
     "metadata": {},
     "output_type": "display_data"
    }
   ],
   "execution_count": 25
  },
  {
   "cell_type": "code",
   "metadata": {
    "ExecuteTime": {
     "end_time": "2025-10-08T05:36:35.301490Z",
     "start_time": "2025-10-08T05:36:35.096457Z"
    }
   },
   "source": [
    "# Correlation heatmap\n",
    "plt.figure(figsize=(8, 6))\n",
    "correlation_matrix = iris_df[numerical_cols].corr()\n",
    "\n",
    "# Create heatmap\n",
    "sns.heatmap(correlation_matrix, annot=True, cmap='coolwarm', center=0,\n",
    "            square=True, fmt='.3f')\n",
    "plt.title('Correlation Matrix of Iris Measurements')\n",
    "plt.tight_layout()\n",
    "plt.show()"
   ],
   "outputs": [
    {
     "data": {
      "text/plain": [
       "<Figure size 800x600 with 2 Axes>"
      ],
      "image/png": "[encoded data removed]"
     },
     "metadata": {},
     "output_type": "display_data"
    }
   ],
   "execution_count": 26
  },
  {
   "cell_type": "markdown",
   "metadata": {},
   "source": [
    "### Exercise 6: Visualizations\n",
    "Complete the following tasks:\n",
    "1. Create a histogram showing the distribution of petal width for each species (use subplots)\n",
    "2. Make a scatter plot of petal length vs petal width, colored by species\n",
    "3. Create a bar plot showing the mean total area by species\n",
    "4. Make a box plot comparing all four measurements side by side"
   ]
  },
  {
   "cell_type": "code",
   "metadata": {
    "ExecuteTime": {
     "end_time": "2025-10-08T05:36:35.310883Z",
     "start_time": "2025-10-08T05:36:35.307570Z"
    }
   },
   "source": [
    "# Your code here\n",
    "# Task 1: Histogram of petal width by species\n",
    "\n",
    "\n",
    "# Task 2: Scatter plot petal length vs width\n",
    "\n",
    "\n",
    "# Task 3: Bar plot of mean total area\n",
    "\n",
    "\n",
    "# Task 4: Box plot of all measurements\n"
   ],
   "outputs": [],
   "execution_count": 27
  },
  {
   "cell_type": "markdown",
   "metadata": {},
   "source": [
    "## 7. Advanced Pandas Operations"
   ]
  },
  {
   "cell_type": "code",
   "metadata": {
    "ExecuteTime": {
     "end_time": "2025-10-08T05:36:35.358839Z",
     "start_time": "2025-10-08T05:36:35.349113Z"
    }
   },
   "source": [
    "# Pivot tables\n",
    "print(\"Pivot table - Mean measurements by species:\")\n",
    "pivot_table = iris_df.pivot_table(\n",
    "    values=numerical_cols,\n",
    "    index='species_name',\n",
    "    aggfunc='mean'\n",
    ")\n",
    "print(pivot_table)"
   ],
   "outputs": [
    {
     "name": "stdout",
     "output_type": "stream",
     "text": [
      "Pivot table - Mean measurements by species:\n",
      "              petal length (cm)  petal width (cm)  sepal length (cm)  \\\n",
      "species_name                                                           \n",
      "setosa                    1.462             0.246              5.006   \n",
      "versicolor                4.260             1.326              5.936   \n",
      "virginica                 5.552             2.026              6.588   \n",
      "\n",
      "              sepal width (cm)  \n",
      "species_name                    \n",
      "setosa                   3.428  \n",
      "versicolor               2.770  \n",
      "virginica                2.974  \n"
     ]
    }
   ],
   "execution_count": 28
  },
  {
   "cell_type": "code",
   "metadata": {
    "ExecuteTime": {
     "end_time": "2025-10-08T05:36:35.463206Z",
     "start_time": "2025-10-08T05:36:35.439991Z"
    }
   },
   "source": [
    "# Melting data (wide to long format)\n",
    "iris_melted = iris_df.melt(\n",
    "    id_vars=['species_name'],\n",
    "    value_vars=numerical_cols,\n",
    "    var_name='measurement_type',\n",
    "    value_name='measurement_value'\n",
    ")\n",
    "\n",
    "print(\"Melted data (first 10 rows):\")\n",
    "print(iris_melted.head(10))\n",
    "\n",
    "print(f\"\\nOriginal shape: {iris_df.shape}\")\n",
    "print(f\"Melted shape: {iris_melted.shape}\")"
   ],
   "outputs": [
    {
     "name": "stdout",
     "output_type": "stream",
     "text": [
      "Melted data (first 10 rows):\n",
      "  species_name   measurement_type  measurement_value\n",
      "0       setosa  sepal length (cm)                5.1\n",
      "1       setosa  sepal length (cm)                4.9\n",
      "2       setosa  sepal length (cm)                4.7\n",
      "3       setosa  sepal length (cm)                4.6\n",
      "4       setosa  sepal length (cm)                5.0\n",
      "5       setosa  sepal length (cm)                5.4\n",
      "6       setosa  sepal length (cm)                4.6\n",
      "7       setosa  sepal length (cm)                5.0\n",
      "8       setosa  sepal length (cm)                4.4\n",
      "9       setosa  sepal length (cm)                4.9\n",
      "\n",
      "Original shape: (150, 6)\n",
      "Melted shape: (600, 3)\n"
     ]
    }
   ],
   "execution_count": 29
  },
  {
   "cell_type": "code",
   "metadata": {
    "ExecuteTime": {
     "end_time": "2025-10-08T05:36:35.515489Z",
     "start_time": "2025-10-08T05:36:35.506694Z"
    }
   },
   "source": [
    "# String operations\n",
    "iris_string = iris_df.copy()\n",
    "\n",
    "# Create a description column\n",
    "iris_string['description'] = (\n",
    "    iris_string['species_name'].str.title() + \n",
    "    ' iris with ' + \n",
    "    iris_string['sepal length (cm)'].round(1).astype(str) + \n",
    "    'cm sepal'\n",
    ")\n",
    "\n",
    "print(\"Description column examples:\")\n",
    "print(iris_string[['species_name', 'description']].head())\n",
    "\n",
    "# String filtering\n",
    "long_sepal_descriptions = iris_string[iris_string['description'].str.contains('6.')]\n",
    "print(f\"\\nFlowers with sepal length starting with 6.: {len(long_sepal_descriptions)}\")"
   ],
   "outputs": [
    {
     "name": "stdout",
     "output_type": "stream",
     "text": [
      "Description column examples:\n",
      "  species_name                   description\n",
      "0       setosa  Setosa iris with 5.1cm sepal\n",
      "1       setosa  Setosa iris with 4.9cm sepal\n",
      "2       setosa  Setosa iris with 4.7cm sepal\n",
      "3       setosa  Setosa iris with 4.6cm sepal\n",
      "4       setosa  Setosa iris with 5.0cm sepal\n",
      "\n",
      "Flowers with sepal length starting with 6.: 65\n"
     ]
    }
   ],
   "execution_count": 30
  },
  {
   "cell_type": "markdown",
   "metadata": {},
   "source": [
    "### Exercise 7: Advanced Operations\n",
    "Complete the following tasks:\n",
    "1. Create a pivot table showing min and max values for each measurement by species\n",
    "2. Melt the data but keep both species columns (species and species_name)\n",
    "3. Create a new column that categorizes each flower as 'Above Average' or 'Below Average' based on total area\n",
    "4. Use string operations to create a formatted summary for each flower"
   ]
  },
  {
   "cell_type": "code",
   "metadata": {
    "ExecuteTime": {
     "end_time": "2025-10-08T05:36:35.569803Z",
     "start_time": "2025-10-08T05:36:35.566692Z"
    }
   },
   "source": [
    "# Your code here\n",
    "# Task 1: Pivot table with min and max\n",
    "\n",
    "\n",
    "# Task 2: Melt with both species columns\n",
    "\n",
    "\n",
    "# Task 3: Above/Below average categorization\n",
    "\n",
    "\n",
    "# Task 4: Formatted summary\n"
   ],
   "outputs": [],
   "execution_count": 31
  },
  {
   "cell_type": "markdown",
   "metadata": {},
   "source": [
    "## 8. Performance Tips and Best Practices"
   ]
  },
  {
   "cell_type": "code",
   "metadata": {
    "ExecuteTime": {
     "end_time": "2025-10-08T05:36:35.635448Z",
     "start_time": "2025-10-08T05:36:35.615015Z"
    }
   },
   "source": [
    "# Efficient operations\n",
    "import time\n",
    "\n",
    "# Create a larger dataset for timing comparisons\n",
    "large_iris = pd.concat([iris_df] * 1000, ignore_index=True)\n",
    "print(f\"Large dataset shape: {large_iris.shape}\")\n",
    "\n",
    "# Compare vectorized vs loop operations\n",
    "def calculate_area_loop(df):\n",
    "    areas = []\n",
    "    for idx, row in df.iterrows():\n",
    "        area = row['sepal length (cm)'] * row['sepal width (cm)']\n",
    "        areas.append(area)\n",
    "    return areas\n",
    "\n",
    "def calculate_area_vectorized(df):\n",
    "    return df['sepal length (cm)'] * df['sepal width (cm)']\n",
    "\n",
    "# Time the operations\n",
    "start_time = time.time()\n",
    "areas_vectorized = calculate_area_vectorized(large_iris)\n",
    "vectorized_time = time.time() - start_time\n",
    "\n",
    "# Note: Commenting out the loop version as it would be very slow\n",
    "# start_time = time.time()\n",
    "# areas_loop = calculate_area_loop(large_iris.head(1000))  # Just first 1000 rows\n",
    "# loop_time = time.time() - start_time\n",
    "\n",
    "print(f\"Vectorized operation time: {vectorized_time:.4f} seconds\")\n",
    "print(\"Loop operation: Would be much slower (commented out for efficiency)\")\n",
    "print(\"\\nKey takeaway: Always use vectorized operations in pandas!\")"
   ],
   "outputs": [
    {
     "name": "stdout",
     "output_type": "stream",
     "text": [
      "Large dataset shape: (150000, 6)\n",
      "Vectorized operation time: 0.0010 seconds\n",
      "Loop operation: Would be much slower (commented out for efficiency)\n",
      "\n",
      "Key takeaway: Always use vectorized operations in pandas!\n"
     ]
    }
   ],
   "execution_count": 32
  },
  {
   "cell_type": "code",
   "metadata": {
    "ExecuteTime": {
     "end_time": "2025-10-08T05:36:35.695054Z",
     "start_time": "2025-10-08T05:36:35.683286Z"
    }
   },
   "source": [
    "# Memory optimization\n",
    "print(\"Memory usage optimization:\")\n",
    "\n",
    "# Check current memory usage\n",
    "print(\"\\nOriginal dtypes and memory usage:\")\n",
    "print(iris_df.dtypes)\n",
    "print(f\"Memory usage: {iris_df.memory_usage(deep=True).sum()} bytes\")\n",
    "\n",
    "# Optimize dtypes\n",
    "iris_optimized = iris_df.copy()\n",
    "\n",
    "# Convert float64 to float32 for measurements\n",
    "for col in numerical_cols:\n",
    "    iris_optimized[col] = iris_optimized[col].astype('float32')\n",
    "\n",
    "# Convert species to category\n",
    "iris_optimized['species_name'] = iris_optimized['species_name'].astype('category')\n",
    "iris_optimized['species'] = iris_optimized['species'].astype('int8')\n",
    "\n",
    "print(\"\\nOptimized dtypes and memory usage:\")\n",
    "print(iris_optimized.dtypes)\n",
    "print(f\"Memory usage: {iris_optimized.memory_usage(deep=True).sum()} bytes\")\n",
    "\n",
    "memory_saved = iris_df.memory_usage(deep=True).sum() - iris_optimized.memory_usage(deep=True).sum()\n",
    "print(f\"Memory saved: {memory_saved} bytes\")"
   ],
   "outputs": [
    {
     "name": "stdout",
     "output_type": "stream",
     "text": [
      "Memory usage optimization:\n",
      "\n",
      "Original dtypes and memory usage:\n",
      "sepal length (cm)    float64\n",
      "sepal width (cm)     float64\n",
      "petal length (cm)    float64\n",
      "petal width (cm)     float64\n",
      "species                int32\n",
      "species_name          object\n",
      "dtype: object\n",
      "Memory usage: 14132 bytes\n",
      "\n",
      "Optimized dtypes and memory usage:\n",
      "sepal length (cm)     float32\n",
      "sepal width (cm)      float32\n",
      "petal length (cm)     float32\n",
      "petal width (cm)      float32\n",
      "species                  int8\n",
      "species_name         category\n",
      "dtype: object\n",
      "Memory usage: 3112 bytes\n",
      "Memory saved: 11020 bytes\n"
     ]
    }
   ],
   "execution_count": 33
  },
  {
   "cell_type": "markdown",
   "metadata": {},
   "source": [
    "## 9. Summary and Key Takeaways"
   ]
  },
  {
   "cell_type": "code",
   "metadata": {
    "ExecuteTime": {
     "end_time": "2025-10-08T05:36:35.765396Z",
     "start_time": "2025-10-08T05:36:35.750891Z"
    }
   },
   "source": [
    "# Final summary analysis\n",
    "print(\"=\" * 60)\n",
    "print(\"FINAL SUMMARY: IRIS DATASET ANALYSIS\")\n",
    "print(\"=\" * 60)\n",
    "\n",
    "print(f\"\\n1. Dataset Overview:\")\n",
    "print(f\"   - Total samples: {len(iris_df)}\")\n",
    "print(f\"   - Features: {len(numerical_cols)} numerical measurements\")\n",
    "print(f\"   - Species: {iris_df['species_name'].nunique()} (balanced dataset)\")\n",
    "\n",
    "print(f\"\\n2. Key Findings:\")\n",
    "species_summary = iris_df.groupby('species_name')[numerical_cols].mean()\n",
    "print(f\"   - Largest average sepal length: {species_summary['sepal length (cm)'].idxmax()}\")\n",
    "print(f\"   - Largest average petal area: {(species_summary['petal length (cm)'] * species_summary['petal width (cm)']).idxmax()}\")\n",
    "\n",
    "# Strongest correlations\n",
    "corr_matrix = iris_df[numerical_cols].corr()\n",
    "# Get upper triangle of correlation matrix\n",
    "upper_tri = corr_matrix.where(np.triu(np.ones(corr_matrix.shape), k=1).astype(bool))\n",
    "strongest_corr = upper_tri.stack().abs().idxmax()\n",
    "strongest_corr_value = upper_tri.stack().abs().max()\n",
    "\n",
    "print(f\"   - Strongest correlation: {strongest_corr[0]} vs {strongest_corr[1]} (r={strongest_corr_value:.3f})\")\n",
    "\n",
    "print(f\"\\n3. Data Quality:\")\n",
    "print(f\"   - Missing values: {iris_df.isnull().sum().sum()}\")\n",
    "print(f\"   - Duplicate rows: {iris_df.duplicated().sum()}\")\n",
    "print(f\"   - Data types: All appropriate for analysis\")\n",
    "\n",
    "print(f\"\\n4. Pandas Skills Demonstrated:\")\n",
    "skills = [\n",
    "    \"Data loading and exploration\",\n",
    "    \"Boolean indexing and filtering\",\n",
    "    \"Descriptive statistics\",\n",
    "    \"Groupby operations and aggregations\",\n",
    "    \"Data manipulation and feature engineering\",\n",
    "    \"Missing value handling\",\n",
    "    \"Basic visualizations\",\n",
    "    \"Advanced operations (pivot, melt, string ops)\",\n",
    "    \"Performance optimization\"\n",
    "]\n",
    "\n",
    "for i, skill in enumerate(skills, 1):\n",
    "    print(f\"   {i}. {skill}\")\n",
    "\n",
    "print(\"\\n\" + \"=\" * 60)\n",
    "print(\"Great job completing the Pandas basics lab!\")\n",
    "print(\"=\" * 60)"
   ],
   "outputs": [
    {
     "name": "stdout",
     "output_type": "stream",
     "text": [
      "============================================================\n",
      "FINAL SUMMARY: IRIS DATASET ANALYSIS\n",
      "============================================================\n",
      "\n",
      "1. Dataset Overview:\n",
      "   - Total samples: 150\n",
      "   - Features: 4 numerical measurements\n",
      "   - Species: 3 (balanced dataset)\n",
      "\n",
      "2. Key Findings:\n",
      "   - Largest average sepal length: virginica\n",
      "   - Largest average petal area: virginica\n",
      "   - Strongest correlation: petal length (cm) vs petal width (cm) (r=0.963)\n",
      "\n",
      "3. Data Quality:\n",
      "   - Missing values: 0\n",
      "   - Duplicate rows: 1\n",
      "   - Data types: All appropriate for analysis\n",
      "\n",
      "4. Pandas Skills Demonstrated:\n",
      "   1. Data loading and exploration\n",
      "   2. Boolean indexing and filtering\n",
      "   3. Descriptive statistics\n",
      "   4. Groupby operations and aggregations\n",
      "   5. Data manipulation and feature engineering\n",
      "   6. Missing value handling\n",
      "   7. Basic visualizations\n",
      "   8. Advanced operations (pivot, melt, string ops)\n",
      "   9. Performance optimization\n",
      "\n",
      "============================================================\n",
      "Great job completing the Pandas basics lab!\n",
      "============================================================\n"
     ]
    }
   ],
   "execution_count": 34
  },
  {
   "cell_type": "markdown",
   "metadata": {},
   "source": [
    "## Next Steps\n",
    "\n",
    "Now that you've mastered pandas basics, here are some suggestions for further learning:\n",
    "\n",
    "1. **Advanced Pandas**: Learn about MultiIndex, time series analysis, and custom aggregations\n",
    "2. **Data Visualization**: Explore seaborn and plotly for more sophisticated visualizations\n",
    "3. **Machine Learning**: Use scikit-learn with pandas DataFrames for predictive modeling\n",
    "4. **Big Data**: Learn about Dask for scaling pandas operations to larger datasets\n",
    "5. **Real Projects**: Apply these skills to real-world datasets and problems\n",
    "\n",
    "### Additional Resources\n",
    "- [Pandas Documentation](https://pandas.pydata.org/docs/)\n",
    "- [10 Minutes to Pandas](https://pandas.pydata.org/docs/user_guide/10min.html)\n",
    "- [Python Data Science Handbook](https://jakevdp.github.io/PythonDataScienceHandbook/)\n",
    "- [Kaggle Learn - Pandas](https://www.kaggle.com/learn/pandas)"
   ]
  }
 ],
 "metadata": {
  "kernelspec": {
   "display_name": "Python 3",
   "language": "python",
   "name": "python3"
  },
  "language_info": {
   "codemirror_mode": {
    "name": "ipython",
    "version": 3
   },
   "file_extension": ".py",
   "mimetype": "text/x-python",
   "name": "python",
   "nbconvert_exporter": "python",
   "pygments_lexer": "ipython3",
   "version": "3.8.5"
  }
 },
 "nbformat": 4,
 "nbformat_minor": 4
}
